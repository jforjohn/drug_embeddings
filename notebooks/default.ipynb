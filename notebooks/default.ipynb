{
 "cells": [
  {
   "cell_type": "code",
   "execution_count": 1,
   "metadata": {},
   "outputs": [],
   "source": [
    "import sys; sys.path.append('../src')\n",
    "\n",
    "from input_output.parser import Parser\n",
    "from input_output.writer import Writer\n",
    "from preprocessing.tokenizer import tokenize\n",
    "from models.rules import classify_token, classify_tokens"
   ]
  },
  {
   "cell_type": "code",
   "execution_count": 2,
   "metadata": {},
   "outputs": [],
   "source": [
    "bank_type = 'DDI'\n",
    "bank_name = 'DrugBank'\n",
    "bank_dir = f'../resources/Test-{bank_type}/{bank_name}/'\n",
    "\n",
    "out_file_name = 'task9.2_UC3M_1.txt'\n",
    "out_folder = '../out/'\n",
    "out_file = f'{out_folder}{out_file_name}'"
   ]
  },
  {
   "cell_type": "code",
   "execution_count": 3,
   "metadata": {},
   "outputs": [],
   "source": [
    "df = Parser(bank_dir).call()\n",
    "\n",
    "df['tokens'] = df['sentence'].apply(tokenize)\n",
    "df['drugs'] = df['tokens'].apply(classify_tokens)"
   ]
  },
  {
   "cell_type": "code",
   "execution_count": 4,
   "metadata": {},
   "outputs": [],
   "source": [
    "Writer(out_file).call(df, col_names=['drugs'])\n",
    "pass"
   ]
  },
  {
   "cell_type": "code",
   "execution_count": 5,
   "metadata": {},
   "outputs": [
    {
     "name": "stdout",
     "output_type": "stream",
     "text": [
      "Gold ../resources/Test-DDI/DrugBank/\n",
      "Submission  ../out/task9.2_UC3M_1.txt\n",
      "Directory gold ../resources/Test-DDI/DrugBank/\n",
      "[transDirXMLToMapEntities] dir:../resources/Test-DDI/DrugBank/\n",
      "log4j:WARN No appenders could be found for logger (org.castor.core.util.Configuration).\n",
      "log4j:WARN Please initialize the log4j system properly.\n",
      " Gold standard saved in goldNER.txt\n",
      "\n",
      "Gold loaded. Sentences=839, entities: 2512\n",
      "task9.2_UC3M_1_scores.log created...\n",
      "SCORES FOR THE GROUP: UC3M RUN=1\n",
      "\n",
      "Warning!!!! some sentences are no included in the gold!!!\n",
      "\n",
      "Strict matching (boundaries + type)\n",
      "cor\tinc\tpar\tmis\tspu\ttotal\tprec\trecall\tF1\n",
      "1615\t546\t0\t351\t1348\t2512\t0.46\t0.64\t0.54\n",
      "\n",
      "\n",
      "\n",
      "Warning!!!! some sentences are no included in the gold!!!\n",
      "\n",
      "Exact matching\n",
      "cor\tinc\tpar\tmis\tspu\ttotal\tprec\trecall\tF1\n",
      "1733\t428\t0\t351\t1348\t2512\t0.49\t0.69\t0.58\n",
      "\n",
      "\n",
      "\n",
      "Warning!!!! some sentences are no included in the gold!!!\n",
      "\n",
      "Partial matching\n",
      "cor\tinc\tpar\tmis\tspu\ttotal\tprec\trecall\tF1\n",
      "1733\t0\t428\t351\t1348\t2512\t0.49\t0.78\t0.6\n",
      "\n",
      "\n",
      "\n",
      "Warning!!!! some sentences are no included in the gold!!!\n",
      "\n",
      "type matching\n",
      "cor\tinc\tpar\tmis\tspu\ttotal\tprec\trecall\tF1\n",
      "1933\t228\t0\t351\t1348\t2512\t0.55\t0.77\t0.64\n",
      "\n",
      "\n",
      "\n",
      "\n",
      "SCORES FOR ENTITY TYPE\n",
      "Warning!!!! some sentences are no included in the gold!!!\n",
      "\n",
      "Exact matching on drug\n",
      "cor\tinc\tpar\tmis\tspu\ttotal\tprec\trecall\tF1\n",
      "1114\t58\t0\t346\t221\t1518\t0.8\t0.73\t0.77\n",
      "\n",
      "\n",
      "Warning!!!! some sentences are no included in the gold!!!\n",
      "\n",
      "Exact matching on brand\n",
      "cor\tinc\tpar\tmis\tspu\ttotal\tprec\trecall\tF1\n",
      "215\t10\t0\t122\t83\t347\t0.7\t0.62\t0.66\n",
      "\n",
      "\n",
      "Warning!!!! some sentences are no included in the gold!!!\n",
      "\n",
      "Exact matching on group\n",
      "cor\tinc\tpar\tmis\tspu\ttotal\tprec\trecall\tF1\n",
      "286\t250\t0\t90\t342\t626\t0.33\t0.46\t0.38\n",
      "\n",
      "\n",
      "Exact matching on drug_n\n",
      "cor\tinc\tpar\tmis\tspu\ttotal\tprec\trecall\tF1\n",
      "0\t0\t0\t21\t0\t21\t0\t0\t0\n",
      "\n",
      "\n",
      "MACRO-AVERAGE MEASURES:\n",
      "P\tR\tF1\n",
      "0.46\t0.45\t0.45\n",
      "________________________________________________________________________\n",
      "\n"
     ]
    }
   ],
   "source": [
    "!java -jar ../bin/evaluateNER.jar {bank_dir} {out_file}\n",
    "!rm {out_folder}*.log *.txt"
   ]
  }
 ],
 "metadata": {
  "kernelspec": {
   "display_name": "Python 3",
   "language": "python",
   "name": "python3"
  },
  "language_info": {
   "codemirror_mode": {
    "name": "ipython",
    "version": 3
   },
   "file_extension": ".py",
   "mimetype": "text/x-python",
   "name": "python",
   "nbconvert_exporter": "python",
   "pygments_lexer": "ipython3",
   "version": "3.6.0"
  }
 },
 "nbformat": 4,
 "nbformat_minor": 2
}
