{
 "cells": [
  {
   "cell_type": "code",
   "execution_count": 288,
   "metadata": {},
   "outputs": [],
   "source": [
    "import sys; sys.path.append('../src')\n",
    "\n",
    "from input_output.parser import Parser\n",
    "from input_output.writer import Writer\n",
    "from tokenizer import tokenize\n",
    "from pipeline.rules.token_classifier import classify_token\n",
    "import pandas as pd"
   ]
  },
  {
   "cell_type": "code",
   "execution_count": 336,
   "metadata": {},
   "outputs": [],
   "source": [
    "pd.set_option('display.max_rows', 100)\n",
    "pd.set_option('display.max_columns', 50)\n",
    "pd.set_option('display.width', 1000)"
   ]
  },
  {
   "cell_type": "code",
   "execution_count": 290,
   "metadata": {},
   "outputs": [],
   "source": [
    "bank_type = 'NER'\n",
    "bank_name = 'DrugBank'\n",
    "#dir_type = f'Test-{bank_type}'\n",
    "dir_type = f'Train'\n",
    "bank_dir = f'../resources/{dir_type}/{bank_name}/'\n"
   ]
  },
  {
   "cell_type": "code",
   "execution_count": 291,
   "metadata": {},
   "outputs": [],
   "source": [
    "df = Parser(bank_dir).call()\n",
    "\n",
    "df['tokens'] = df['sentence'].apply(tokenize)\n",
    "\n",
    "get_drugs = lambda tokens: [t for t in  [classify_token(t) for t in tokens] if t is not None]\n",
    "df['drugs'] = df['tokens'].apply(get_drugs)"
   ]
  },
  {
   "cell_type": "code",
   "execution_count": 403,
   "metadata": {},
   "outputs": [
    {
     "data": {
      "text/html": [
       "<div>\n",
       "<style scoped>\n",
       "    .dataframe tbody tr th:only-of-type {\n",
       "        vertical-align: middle;\n",
       "    }\n",
       "\n",
       "    .dataframe tbody tr th {\n",
       "        vertical-align: top;\n",
       "    }\n",
       "\n",
       "    .dataframe thead th {\n",
       "        text-align: right;\n",
       "    }\n",
       "</style>\n",
       "<table border=\"1\" class=\"dataframe\">\n",
       "  <thead>\n",
       "    <tr style=\"text-align: right;\">\n",
       "      <th></th>\n",
       "      <th>id</th>\n",
       "      <th>sentence</th>\n",
       "      <th>parsed_drugs</th>\n",
       "      <th>parsed_pairs</th>\n",
       "      <th>tokens</th>\n",
       "      <th>drugs</th>\n",
       "    </tr>\n",
       "  </thead>\n",
       "  <tbody>\n",
       "    <tr>\n",
       "      <th>0</th>\n",
       "      <td>DDI-DrugBank.d436.s0</td>\n",
       "      <td>No drug, nutritional supplement, food or herb ...</td>\n",
       "      <td>[]</td>\n",
       "      <td>[]</td>\n",
       "      <td>[{'text': 'No', 'char_offset': '0-1'}, {'text'...</td>\n",
       "      <td>[&lt;DrugEntity None 46-57 interactions group&gt;]</td>\n",
       "    </tr>\n",
       "    <tr>\n",
       "      <th>1</th>\n",
       "      <td>DDI-DrugBank.d519.s0</td>\n",
       "      <td>No formal drug/drug interaction studies with P...</td>\n",
       "      <td>[&lt;DrugEntity DDI-DrugBank.d519.s0.e0 45-52 Ple...</td>\n",
       "      <td>[]</td>\n",
       "      <td>[{'text': 'No', 'char_offset': '0-1'}, {'text'...</td>\n",
       "      <td>[]</td>\n",
       "    </tr>\n",
       "    <tr>\n",
       "      <th>2</th>\n",
       "      <td>DDI-DrugBank.d519.s1</td>\n",
       "      <td>Cytochrome P-450 is not known to be involved i...</td>\n",
       "      <td>[&lt;DrugEntity DDI-DrugBank.d519.s1.e0 66-73 Ple...</td>\n",
       "      <td>[]</td>\n",
       "      <td>[{'text': 'Cytochrome', 'char_offset': '0-9'},...</td>\n",
       "      <td>[&lt;DrugEntity None 11-15 P-450 brand&gt;]</td>\n",
       "    </tr>\n",
       "    <tr>\n",
       "      <th>3</th>\n",
       "      <td>DDI-DrugBank.d519.s2</td>\n",
       "      <td>Plenaxis is highly bound to plasma proteins (9...</td>\n",
       "      <td>[&lt;DrugEntity DDI-DrugBank.d519.s2.e0 0-7 Plena...</td>\n",
       "      <td>[]</td>\n",
       "      <td>[{'text': 'Plenaxis', 'char_offset': '0-7'}, {...</td>\n",
       "      <td>[&lt;DrugEntity None 35-42 proteins group&gt;]</td>\n",
       "    </tr>\n",
       "    <tr>\n",
       "      <th>4</th>\n",
       "      <td>DDI-DrugBank.d519.s3</td>\n",
       "      <td>Laboratory Tests Response to Plenaxis should b...</td>\n",
       "      <td>[&lt;DrugEntity DDI-DrugBank.d519.s3.e0 29-36 Ple...</td>\n",
       "      <td>[&lt;DrugPair DDI-DrugBank.d519.s3.p0 DDI-DrugBan...</td>\n",
       "      <td>[{'text': 'Laboratory', 'char_offset': '0-9'},...</td>\n",
       "      <td>[&lt;DrugEntity None 11-15 Tests group&gt;, &lt;DrugEnt...</td>\n",
       "    </tr>\n",
       "  </tbody>\n",
       "</table>\n",
       "</div>"
      ],
      "text/plain": [
       "                     id                                           sentence                                       parsed_drugs                                       parsed_pairs                                             tokens                                              drugs\n",
       "0  DDI-DrugBank.d436.s0  No drug, nutritional supplement, food or herb ...                                                 []                                                 []  [{'text': 'No', 'char_offset': '0-1'}, {'text'...       [<DrugEntity None 46-57 interactions group>]\n",
       "1  DDI-DrugBank.d519.s0  No formal drug/drug interaction studies with P...  [<DrugEntity DDI-DrugBank.d519.s0.e0 45-52 Ple...                                                 []  [{'text': 'No', 'char_offset': '0-1'}, {'text'...                                                 []\n",
       "2  DDI-DrugBank.d519.s1  Cytochrome P-450 is not known to be involved i...  [<DrugEntity DDI-DrugBank.d519.s1.e0 66-73 Ple...                                                 []  [{'text': 'Cytochrome', 'char_offset': '0-9'},...              [<DrugEntity None 11-15 P-450 brand>]\n",
       "3  DDI-DrugBank.d519.s2  Plenaxis is highly bound to plasma proteins (9...  [<DrugEntity DDI-DrugBank.d519.s2.e0 0-7 Plena...                                                 []  [{'text': 'Plenaxis', 'char_offset': '0-7'}, {...           [<DrugEntity None 35-42 proteins group>]\n",
       "4  DDI-DrugBank.d519.s3  Laboratory Tests Response to Plenaxis should b...  [<DrugEntity DDI-DrugBank.d519.s3.e0 29-36 Ple...  [<DrugPair DDI-DrugBank.d519.s3.p0 DDI-DrugBan...  [{'text': 'Laboratory', 'char_offset': '0-9'},...  [<DrugEntity None 11-15 Tests group>, <DrugEnt..."
      ]
     },
     "execution_count": 403,
     "metadata": {},
     "output_type": "execute_result"
    }
   ],
   "source": [
    "df.head()"
   ]
  },
  {
   "cell_type": "code",
   "execution_count": 404,
   "metadata": {},
   "outputs": [
    {
     "data": {
      "text/plain": [
       "(5675, 6)"
      ]
     },
     "execution_count": 404,
     "metadata": {},
     "output_type": "execute_result"
    }
   ],
   "source": [
    "df.shape"
   ]
  },
  {
   "cell_type": "code",
   "execution_count": 294,
   "metadata": {},
   "outputs": [
    {
     "data": {
      "text/plain": [
       "12929"
      ]
     },
     "execution_count": 294,
     "metadata": {},
     "output_type": "execute_result"
    }
   ],
   "source": [
    "# number of different type of drugs\n",
    "df.parsed_drugs.apply(len).sum()"
   ]
  },
  {
   "cell_type": "markdown",
   "metadata": {},
   "source": [
    "### Find differences in parsed and found drugs"
   ]
  },
  {
   "cell_type": "code",
   "execution_count": 392,
   "metadata": {},
   "outputs": [],
   "source": [
    "def find_diffs(row, diffs=True):\n",
    "    pd_lst = []\n",
    "    for parsed_drug in row.parsed_drugs:\n",
    "        pd_lst.append(parsed_drug.text)\n",
    "        \n",
    "    drug_lst = []\n",
    "    for drug in row.drugs:\n",
    "        drug_lst.append(drug.text)\n",
    "    \n",
    "    if diffs:\n",
    "        return [item for item in drug_lst if item not in pd_lst]\n",
    "    else:\n",
    "        return [item for item in drug_lst if item in pd_lst]"
   ]
  },
  {
   "cell_type": "code",
   "execution_count": 393,
   "metadata": {},
   "outputs": [],
   "source": [
    "diffs = df.apply(lambda x: find_diffs(x, diffs=True), axis=1)\n",
    "same = df.apply(lambda x: find_diffs(x, diffs=False), axis=1)"
   ]
  },
  {
   "cell_type": "code",
   "execution_count": 395,
   "metadata": {},
   "outputs": [],
   "source": [
    "pd_txt = df.parsed_drugs.apply(lambda x: [item.text for item in x])\n",
    "d_txt = df.drugs.apply(lambda x: [item.text for item in x])"
   ]
  },
  {
   "cell_type": "code",
   "execution_count": 396,
   "metadata": {},
   "outputs": [],
   "source": [
    "df_sim = pd.concat([pd_txt, d_txt, diffs, same], axis=1)\n",
    "df_sim.columns = ['parsed_drugs', 'drugs', 'diffs', 'sim']"
   ]
  },
  {
   "cell_type": "code",
   "execution_count": 397,
   "metadata": {},
   "outputs": [
    {
     "data": {
      "text/html": [
       "<div>\n",
       "<style scoped>\n",
       "    .dataframe tbody tr th:only-of-type {\n",
       "        vertical-align: middle;\n",
       "    }\n",
       "\n",
       "    .dataframe tbody tr th {\n",
       "        vertical-align: top;\n",
       "    }\n",
       "\n",
       "    .dataframe thead th {\n",
       "        text-align: right;\n",
       "    }\n",
       "</style>\n",
       "<table border=\"1\" class=\"dataframe\">\n",
       "  <thead>\n",
       "    <tr style=\"text-align: right;\">\n",
       "      <th></th>\n",
       "      <th>parsed_drugs</th>\n",
       "      <th>drugs</th>\n",
       "      <th>diffs</th>\n",
       "      <th>sim</th>\n",
       "    </tr>\n",
       "  </thead>\n",
       "  <tbody>\n",
       "    <tr>\n",
       "      <th>0</th>\n",
       "      <td>[]</td>\n",
       "      <td>[interactions]</td>\n",
       "      <td>[interactions]</td>\n",
       "      <td>[]</td>\n",
       "    </tr>\n",
       "    <tr>\n",
       "      <th>1</th>\n",
       "      <td>[Plenaxis]</td>\n",
       "      <td>[]</td>\n",
       "      <td>[]</td>\n",
       "      <td>[]</td>\n",
       "    </tr>\n",
       "    <tr>\n",
       "      <th>2</th>\n",
       "      <td>[Plenaxis]</td>\n",
       "      <td>[P-450]</td>\n",
       "      <td>[P-450]</td>\n",
       "      <td>[]</td>\n",
       "    </tr>\n",
       "    <tr>\n",
       "      <th>3</th>\n",
       "      <td>[Plenaxis]</td>\n",
       "      <td>[proteins]</td>\n",
       "      <td>[proteins]</td>\n",
       "      <td>[]</td>\n",
       "    </tr>\n",
       "    <tr>\n",
       "      <th>4</th>\n",
       "      <td>[Plenaxis, testosterone]</td>\n",
       "      <td>[Tests, testosterone, concentrations]</td>\n",
       "      <td>[Tests, concentrations]</td>\n",
       "      <td>[testosterone]</td>\n",
       "    </tr>\n",
       "  </tbody>\n",
       "</table>\n",
       "</div>"
      ],
      "text/plain": [
       "               parsed_drugs                                  drugs                    diffs             sim\n",
       "0                        []                         [interactions]           [interactions]              []\n",
       "1                [Plenaxis]                                     []                       []              []\n",
       "2                [Plenaxis]                                [P-450]                  [P-450]              []\n",
       "3                [Plenaxis]                             [proteins]               [proteins]              []\n",
       "4  [Plenaxis, testosterone]  [Tests, testosterone, concentrations]  [Tests, concentrations]  [testosterone]"
      ]
     },
     "execution_count": 397,
     "metadata": {},
     "output_type": "execute_result"
    }
   ],
   "source": [
    "df_sim.head()"
   ]
  },
  {
   "cell_type": "code",
   "execution_count": 402,
   "metadata": {},
   "outputs": [
    {
     "name": "stdout",
     "output_type": "stream",
     "text": [
      "diffs 11499\n",
      "sim 8492\n"
     ]
    }
   ],
   "source": [
    "print('diffs', df_sim.diffs.apply(len).sum())\n",
    "print('sim', df_sim.sim.apply(len).sum())"
   ]
  },
  {
   "cell_type": "code",
   "execution_count": 406,
   "metadata": {},
   "outputs": [
    {
     "name": "stdout",
     "output_type": "stream",
     "text": [
      "(19991,)\n"
     ]
    }
   ],
   "source": [
    "found_drugs = df.apply(lambda x: pd.Series(x['drugs']),axis=1).stack()\n",
    "print(found_drugs.shape)"
   ]
  },
  {
   "cell_type": "markdown",
   "metadata": {},
   "source": [
    "### Initial analysis of parsed drugs"
   ]
  },
  {
   "cell_type": "code",
   "execution_count": 295,
   "metadata": {},
   "outputs": [],
   "source": [
    "drug_ents = df.apply(lambda x: pd.Series(x['parsed_drugs']),axis=1).stack()"
   ]
  },
  {
   "cell_type": "code",
   "execution_count": 303,
   "metadata": {},
   "outputs": [
    {
     "data": {
      "text/plain": [
       "array(['brand', 'drug', 'group', 'drug_n'], dtype=object)"
      ]
     },
     "execution_count": 303,
     "metadata": {},
     "output_type": "execute_result"
    }
   ],
   "source": [
    "drug_ents.apply(lambda x: x.type).unique()"
   ]
  },
  {
   "cell_type": "code",
   "execution_count": 304,
   "metadata": {},
   "outputs": [
    {
     "data": {
      "text/plain": [
       "(12929,)"
      ]
     },
     "execution_count": 304,
     "metadata": {},
     "output_type": "execute_result"
    }
   ],
   "source": [
    "drugs.shape"
   ]
  },
  {
   "cell_type": "code",
   "execution_count": 305,
   "metadata": {},
   "outputs": [
    {
     "data": {
      "text/plain": [
       "drug      8197\n",
       "group     3206\n",
       "brand     1423\n",
       "drug_n     103\n",
       "dtype: int64"
      ]
     },
     "execution_count": 305,
     "metadata": {},
     "output_type": "execute_result"
    }
   ],
   "source": [
    "drugs.value_counts()"
   ]
  },
  {
   "cell_type": "code",
   "execution_count": 306,
   "metadata": {},
   "outputs": [],
   "source": [
    "drug_names = drug_ents.apply(lambda x: x.text)"
   ]
  },
  {
   "cell_type": "code",
   "execution_count": 307,
   "metadata": {},
   "outputs": [
    {
     "data": {
      "text/plain": [
       "count        12929\n",
       "unique        2655\n",
       "top       warfarin\n",
       "freq           176\n",
       "dtype: object"
      ]
     },
     "execution_count": 307,
     "metadata": {},
     "output_type": "execute_result"
    }
   ],
   "source": [
    "drug_names.describe()"
   ]
  },
  {
   "cell_type": "code",
   "execution_count": 308,
   "metadata": {},
   "outputs": [],
   "source": [
    "drug_types = drug_ents.apply(lambda x: x.type)"
   ]
  },
  {
   "cell_type": "code",
   "execution_count": 309,
   "metadata": {},
   "outputs": [
    {
     "data": {
      "text/plain": [
       "count     12929\n",
       "unique        4\n",
       "top        drug\n",
       "freq       8197\n",
       "dtype: object"
      ]
     },
     "execution_count": 309,
     "metadata": {},
     "output_type": "execute_result"
    }
   ],
   "source": [
    "drug_types.describe()"
   ]
  },
  {
   "cell_type": "code",
   "execution_count": 310,
   "metadata": {},
   "outputs": [],
   "source": [
    "drug_chars = drug_ents.apply(lambda x: x.char_offset)"
   ]
  },
  {
   "cell_type": "code",
   "execution_count": 413,
   "metadata": {},
   "outputs": [],
   "source": [
    "df_drugs  = pd.concat([drug_names, drug_types, drug_chars], axis=1).reset_index(drop=True)\n",
    "df_drugs.columns = ['name','type','offset']"
   ]
  },
  {
   "cell_type": "code",
   "execution_count": 415,
   "metadata": {},
   "outputs": [
    {
     "data": {
      "text/html": [
       "<div>\n",
       "<style scoped>\n",
       "    .dataframe tbody tr th:only-of-type {\n",
       "        vertical-align: middle;\n",
       "    }\n",
       "\n",
       "    .dataframe tbody tr th {\n",
       "        vertical-align: top;\n",
       "    }\n",
       "\n",
       "    .dataframe thead th {\n",
       "        text-align: right;\n",
       "    }\n",
       "</style>\n",
       "<table border=\"1\" class=\"dataframe\">\n",
       "  <thead>\n",
       "    <tr style=\"text-align: right;\">\n",
       "      <th></th>\n",
       "      <th>name</th>\n",
       "      <th>type</th>\n",
       "      <th>offset</th>\n",
       "    </tr>\n",
       "  </thead>\n",
       "  <tbody>\n",
       "    <tr>\n",
       "      <th>0</th>\n",
       "      <td>Plenaxis</td>\n",
       "      <td>brand</td>\n",
       "      <td>45-52</td>\n",
       "    </tr>\n",
       "    <tr>\n",
       "      <th>1</th>\n",
       "      <td>Plenaxis</td>\n",
       "      <td>brand</td>\n",
       "      <td>66-73</td>\n",
       "    </tr>\n",
       "    <tr>\n",
       "      <th>2</th>\n",
       "      <td>Plenaxis</td>\n",
       "      <td>brand</td>\n",
       "      <td>0-7</td>\n",
       "    </tr>\n",
       "    <tr>\n",
       "      <th>3</th>\n",
       "      <td>Plenaxis</td>\n",
       "      <td>brand</td>\n",
       "      <td>29-36</td>\n",
       "    </tr>\n",
       "    <tr>\n",
       "      <th>4</th>\n",
       "      <td>testosterone</td>\n",
       "      <td>drug</td>\n",
       "      <td>83-94</td>\n",
       "    </tr>\n",
       "    <tr>\n",
       "      <th>5</th>\n",
       "      <td>Plenaxis</td>\n",
       "      <td>brand</td>\n",
       "      <td>76-83</td>\n",
       "    </tr>\n",
       "    <tr>\n",
       "      <th>6</th>\n",
       "      <td>ORENCIA</td>\n",
       "      <td>brand</td>\n",
       "      <td>61-67</td>\n",
       "    </tr>\n",
       "    <tr>\n",
       "      <th>7</th>\n",
       "      <td>MTX</td>\n",
       "      <td>drug</td>\n",
       "      <td>50-52</td>\n",
       "    </tr>\n",
       "    <tr>\n",
       "      <th>8</th>\n",
       "      <td>NSAIDs</td>\n",
       "      <td>group</td>\n",
       "      <td>55-60</td>\n",
       "    </tr>\n",
       "    <tr>\n",
       "      <th>9</th>\n",
       "      <td>corticosteroids</td>\n",
       "      <td>group</td>\n",
       "      <td>63-77</td>\n",
       "    </tr>\n",
       "    <tr>\n",
       "      <th>10</th>\n",
       "      <td>TNF blocking agents</td>\n",
       "      <td>group</td>\n",
       "      <td>84-102</td>\n",
       "    </tr>\n",
       "  </tbody>\n",
       "</table>\n",
       "</div>"
      ],
      "text/plain": [
       "                   name   type  offset\n",
       "0              Plenaxis  brand   45-52\n",
       "1              Plenaxis  brand   66-73\n",
       "2              Plenaxis  brand     0-7\n",
       "3              Plenaxis  brand   29-36\n",
       "4          testosterone   drug   83-94\n",
       "5              Plenaxis  brand   76-83\n",
       "6               ORENCIA  brand   61-67\n",
       "7                   MTX   drug   50-52\n",
       "8                NSAIDs  group   55-60\n",
       "9       corticosteroids  group   63-77\n",
       "10  TNF blocking agents  group  84-102"
      ]
     },
     "execution_count": 415,
     "metadata": {},
     "output_type": "execute_result"
    }
   ],
   "source": [
    "df_drugs.head(11)"
   ]
  },
  {
   "cell_type": "code",
   "execution_count": 419,
   "metadata": {},
   "outputs": [
    {
     "data": {
      "text/html": [
       "<div>\n",
       "<style scoped>\n",
       "    .dataframe tbody tr th:only-of-type {\n",
       "        vertical-align: middle;\n",
       "    }\n",
       "\n",
       "    .dataframe tbody tr th {\n",
       "        vertical-align: top;\n",
       "    }\n",
       "\n",
       "    .dataframe thead th {\n",
       "        text-align: right;\n",
       "    }\n",
       "</style>\n",
       "<table border=\"1\" class=\"dataframe\">\n",
       "  <thead>\n",
       "    <tr style=\"text-align: right;\">\n",
       "      <th></th>\n",
       "      <th>name</th>\n",
       "      <th>type</th>\n",
       "      <th>offset</th>\n",
       "    </tr>\n",
       "  </thead>\n",
       "  <tbody>\n",
       "    <tr>\n",
       "      <th>count</th>\n",
       "      <td>12929</td>\n",
       "      <td>12929</td>\n",
       "      <td>12929</td>\n",
       "    </tr>\n",
       "    <tr>\n",
       "      <th>unique</th>\n",
       "      <td>2655</td>\n",
       "      <td>4</td>\n",
       "      <td>3957</td>\n",
       "    </tr>\n",
       "    <tr>\n",
       "      <th>top</th>\n",
       "      <td>warfarin</td>\n",
       "      <td>drug</td>\n",
       "      <td>0-9</td>\n",
       "    </tr>\n",
       "    <tr>\n",
       "      <th>freq</th>\n",
       "      <td>176</td>\n",
       "      <td>8197</td>\n",
       "      <td>267</td>\n",
       "    </tr>\n",
       "  </tbody>\n",
       "</table>\n",
       "</div>"
      ],
      "text/plain": [
       "            name   type offset\n",
       "count      12929  12929  12929\n",
       "unique      2655      4   3957\n",
       "top     warfarin   drug    0-9\n",
       "freq         176   8197    267"
      ]
     },
     "execution_count": 419,
     "metadata": {},
     "output_type": "execute_result"
    }
   ],
   "source": [
    "df_drugs.describe()"
   ]
  },
  {
   "cell_type": "code",
   "execution_count": 452,
   "metadata": {},
   "outputs": [
    {
     "data": {
      "text/plain": [
       "ine    1919\n",
       "ide     617\n",
       "cin     396\n",
       "ole     391\n",
       "one     330\n",
       "ate     311\n",
       "rin     302\n",
       "ium     291\n",
       "vir     220\n",
       "xin     220\n",
       "dtype: int64"
      ]
     },
     "execution_count": 452,
     "metadata": {},
     "output_type": "execute_result"
    }
   ],
   "source": [
    "df_drugs.apply(lambda x: x['name'][-3:] if x.type == 'drug' else None, axis=1).value_counts()[:10]"
   ]
  },
  {
   "cell_type": "code",
   "execution_count": 453,
   "metadata": {},
   "outputs": [
    {
     "data": {
      "text/plain": [
       "dine    439\n",
       "zole    378\n",
       "pine    309\n",
       "arin    259\n",
       "line    246\n",
       "mide    237\n",
       "mine    227\n",
       "oxin    215\n",
       "toin    214\n",
       "avir    209\n",
       "dtype: int64"
      ]
     },
     "execution_count": 453,
     "metadata": {},
     "output_type": "execute_result"
    }
   ],
   "source": [
    "df_drugs.apply(lambda x: x['name'][-4:] if x.type == 'drug' else None, axis=1).value_counts()[:10]"
   ]
  },
  {
   "cell_type": "code",
   "execution_count": 454,
   "metadata": {},
   "outputs": [
    {
     "data": {
      "text/plain": [
       "azole    348\n",
       "idine    311\n",
       "farin    224\n",
       "amine    219\n",
       "navir    206\n",
       "goxin    205\n",
       "mycin    204\n",
       "ytoin    201\n",
       "thium    148\n",
       "lline    143\n",
       "dtype: int64"
      ]
     },
     "execution_count": 454,
     "metadata": {},
     "output_type": "execute_result"
    }
   ],
   "source": [
    "df_drugs.apply(lambda x: x['name'][-5:] if x.type == 'drug' else None, axis=1).value_counts()[:10]"
   ]
  },
  {
   "cell_type": "markdown",
   "metadata": {},
   "source": [
    "### Check weird offset cases"
   ]
  },
  {
   "cell_type": "code",
   "execution_count": 316,
   "metadata": {},
   "outputs": [
    {
     "name": "stdout",
     "output_type": "stream",
     "text": [
      "(33, 3)\n"
     ]
    },
    {
     "data": {
      "text/html": [
       "<div>\n",
       "<style scoped>\n",
       "    .dataframe tbody tr th:only-of-type {\n",
       "        vertical-align: middle;\n",
       "    }\n",
       "\n",
       "    .dataframe tbody tr th {\n",
       "        vertical-align: top;\n",
       "    }\n",
       "\n",
       "    .dataframe thead th {\n",
       "        text-align: right;\n",
       "    }\n",
       "</style>\n",
       "<table border=\"1\" class=\"dataframe\">\n",
       "  <thead>\n",
       "    <tr style=\"text-align: right;\">\n",
       "      <th></th>\n",
       "      <th>name</th>\n",
       "      <th>type</th>\n",
       "      <th>offset</th>\n",
       "    </tr>\n",
       "  </thead>\n",
       "  <tbody>\n",
       "    <tr>\n",
       "      <th>45</th>\n",
       "      <td>diagnostic monoclonal antibodies</td>\n",
       "      <td>group</td>\n",
       "      <td>98-107;124-144</td>\n",
       "    </tr>\n",
       "    <tr>\n",
       "      <th>691</th>\n",
       "      <td>loop diuretics</td>\n",
       "      <td>group</td>\n",
       "      <td>150-153;187-195</td>\n",
       "    </tr>\n",
       "    <tr>\n",
       "      <th>692</th>\n",
       "      <td>potassium-sparing diuretics</td>\n",
       "      <td>group</td>\n",
       "      <td>156-172;187-195</td>\n",
       "    </tr>\n",
       "    <tr>\n",
       "      <th>1290</th>\n",
       "      <td>antiplatelet medication</td>\n",
       "      <td>group</td>\n",
       "      <td>81-92;112-121</td>\n",
       "    </tr>\n",
       "    <tr>\n",
       "      <th>1390</th>\n",
       "      <td>R(+) warfarin</td>\n",
       "      <td>drug</td>\n",
       "      <td>64-67;77-84</td>\n",
       "    </tr>\n",
       "    <tr>\n",
       "      <th>1510</th>\n",
       "      <td>loop diuretics</td>\n",
       "      <td>group</td>\n",
       "      <td>119-122;136-144</td>\n",
       "    </tr>\n",
       "    <tr>\n",
       "      <th>3519</th>\n",
       "      <td>loop diuretics</td>\n",
       "      <td>group</td>\n",
       "      <td>191-194;228-236</td>\n",
       "    </tr>\n",
       "    <tr>\n",
       "      <th>3520</th>\n",
       "      <td>potassium-sparing diuretics</td>\n",
       "      <td>group</td>\n",
       "      <td>197-213;228-236</td>\n",
       "    </tr>\n",
       "    <tr>\n",
       "      <th>4211</th>\n",
       "      <td>phenothiazines classes of antipsychotic agents</td>\n",
       "      <td>group</td>\n",
       "      <td>199-212;246-276</td>\n",
       "    </tr>\n",
       "    <tr>\n",
       "      <th>4212</th>\n",
       "      <td>thioxanthene classes of antipsychotic agents</td>\n",
       "      <td>group</td>\n",
       "      <td>215-226;246-276</td>\n",
       "    </tr>\n",
       "    <tr>\n",
       "      <th>4900</th>\n",
       "      <td>live vaccines</td>\n",
       "      <td>group</td>\n",
       "      <td>94-97;114-121</td>\n",
       "    </tr>\n",
       "    <tr>\n",
       "      <th>5727</th>\n",
       "      <td>aluminum hydroxide</td>\n",
       "      <td>drug</td>\n",
       "      <td>112-119;135-143</td>\n",
       "    </tr>\n",
       "    <tr>\n",
       "      <th>5804</th>\n",
       "      <td>aluminum hydroxide</td>\n",
       "      <td>drug</td>\n",
       "      <td>196-203;219-227</td>\n",
       "    </tr>\n",
       "    <tr>\n",
       "      <th>5869</th>\n",
       "      <td>alpha-adrenergic blocking agents</td>\n",
       "      <td>group</td>\n",
       "      <td>80-85;95-120</td>\n",
       "    </tr>\n",
       "    <tr>\n",
       "      <th>6173</th>\n",
       "      <td>organophosphate insecticide</td>\n",
       "      <td>drug_n</td>\n",
       "      <td>90-104;120-130</td>\n",
       "    </tr>\n",
       "    <tr>\n",
       "      <th>6186</th>\n",
       "      <td>Acellular vaccines</td>\n",
       "      <td>group</td>\n",
       "      <td>0-8;36-43</td>\n",
       "    </tr>\n",
       "    <tr>\n",
       "      <th>6187</th>\n",
       "      <td>live vaccines</td>\n",
       "      <td>group</td>\n",
       "      <td>11-14;36-43</td>\n",
       "    </tr>\n",
       "    <tr>\n",
       "      <th>6297</th>\n",
       "      <td>imidazole antifungals</td>\n",
       "      <td>group</td>\n",
       "      <td>48-56;71-81</td>\n",
       "    </tr>\n",
       "    <tr>\n",
       "      <th>7017</th>\n",
       "      <td>(R)-warfarin</td>\n",
       "      <td>drug</td>\n",
       "      <td>95-98;107-114</td>\n",
       "    </tr>\n",
       "    <tr>\n",
       "      <th>7043</th>\n",
       "      <td>loop diuretics</td>\n",
       "      <td>group</td>\n",
       "      <td>150-153;188-196</td>\n",
       "    </tr>\n",
       "    <tr>\n",
       "      <th>7044</th>\n",
       "      <td>potassium- sparing diuretics</td>\n",
       "      <td>group</td>\n",
       "      <td>156-173;188-196</td>\n",
       "    </tr>\n",
       "    <tr>\n",
       "      <th>8369</th>\n",
       "      <td>ganglionic adrenergic blocking drugs</td>\n",
       "      <td>group</td>\n",
       "      <td>25-34;50-74</td>\n",
       "    </tr>\n",
       "    <tr>\n",
       "      <th>8993</th>\n",
       "      <td>loop diuretics</td>\n",
       "      <td>group</td>\n",
       "      <td>189-192;226-234</td>\n",
       "    </tr>\n",
       "    <tr>\n",
       "      <th>8994</th>\n",
       "      <td>potassium-sparing diuretics</td>\n",
       "      <td>group</td>\n",
       "      <td>195-211;226-234</td>\n",
       "    </tr>\n",
       "    <tr>\n",
       "      <th>9046</th>\n",
       "      <td>loop diuretics</td>\n",
       "      <td>group</td>\n",
       "      <td>127-130;165-173</td>\n",
       "    </tr>\n",
       "    <tr>\n",
       "      <th>9047</th>\n",
       "      <td>potassium sparing diuretics</td>\n",
       "      <td>group</td>\n",
       "      <td>133-149;165-173</td>\n",
       "    </tr>\n",
       "    <tr>\n",
       "      <th>9528</th>\n",
       "      <td>loop diuretics</td>\n",
       "      <td>group</td>\n",
       "      <td>118-121;156-164</td>\n",
       "    </tr>\n",
       "    <tr>\n",
       "      <th>9529</th>\n",
       "      <td>potassium-sparing diuretics</td>\n",
       "      <td>group</td>\n",
       "      <td>124-140;156-164</td>\n",
       "    </tr>\n",
       "    <tr>\n",
       "      <th>10213</th>\n",
       "      <td>H1 Blockers</td>\n",
       "      <td>group</td>\n",
       "      <td>0-1;10-17</td>\n",
       "    </tr>\n",
       "    <tr>\n",
       "      <th>10216</th>\n",
       "      <td>H1 blockers</td>\n",
       "      <td>group</td>\n",
       "      <td>121-122;131-138</td>\n",
       "    </tr>\n",
       "    <tr>\n",
       "      <th>10391</th>\n",
       "      <td>R- warfarin</td>\n",
       "      <td>drug</td>\n",
       "      <td>114-115;124-131</td>\n",
       "    </tr>\n",
       "    <tr>\n",
       "      <th>10488</th>\n",
       "      <td>R warfarin</td>\n",
       "      <td>drug</td>\n",
       "      <td>81-81;89-96</td>\n",
       "    </tr>\n",
       "    <tr>\n",
       "      <th>11118</th>\n",
       "      <td>aluminum hydroxide</td>\n",
       "      <td>drug</td>\n",
       "      <td>40-47;63-71</td>\n",
       "    </tr>\n",
       "  </tbody>\n",
       "</table>\n",
       "</div>"
      ],
      "text/plain": [
       "                                                 name    type           offset\n",
       "45                   diagnostic monoclonal antibodies   group   98-107;124-144\n",
       "691                                    loop diuretics   group  150-153;187-195\n",
       "692                       potassium-sparing diuretics   group  156-172;187-195\n",
       "1290                          antiplatelet medication   group    81-92;112-121\n",
       "1390                                    R(+) warfarin    drug      64-67;77-84\n",
       "1510                                   loop diuretics   group  119-122;136-144\n",
       "3519                                   loop diuretics   group  191-194;228-236\n",
       "3520                      potassium-sparing diuretics   group  197-213;228-236\n",
       "4211   phenothiazines classes of antipsychotic agents   group  199-212;246-276\n",
       "4212     thioxanthene classes of antipsychotic agents   group  215-226;246-276\n",
       "4900                                    live vaccines   group    94-97;114-121\n",
       "5727                               aluminum hydroxide    drug  112-119;135-143\n",
       "5804                               aluminum hydroxide    drug  196-203;219-227\n",
       "5869                 alpha-adrenergic blocking agents   group     80-85;95-120\n",
       "6173                      organophosphate insecticide  drug_n   90-104;120-130\n",
       "6186                               Acellular vaccines   group        0-8;36-43\n",
       "6187                                    live vaccines   group      11-14;36-43\n",
       "6297                            imidazole antifungals   group      48-56;71-81\n",
       "7017                                     (R)-warfarin    drug    95-98;107-114\n",
       "7043                                   loop diuretics   group  150-153;188-196\n",
       "7044                     potassium- sparing diuretics   group  156-173;188-196\n",
       "8369             ganglionic adrenergic blocking drugs   group      25-34;50-74\n",
       "8993                                   loop diuretics   group  189-192;226-234\n",
       "8994                      potassium-sparing diuretics   group  195-211;226-234\n",
       "9046                                   loop diuretics   group  127-130;165-173\n",
       "9047                      potassium sparing diuretics   group  133-149;165-173\n",
       "9528                                   loop diuretics   group  118-121;156-164\n",
       "9529                      potassium-sparing diuretics   group  124-140;156-164\n",
       "10213                                     H1 Blockers   group        0-1;10-17\n",
       "10216                                     H1 blockers   group  121-122;131-138\n",
       "10391                                     R- warfarin    drug  114-115;124-131\n",
       "10488                                      R warfarin    drug      81-81;89-96\n",
       "11118                              aluminum hydroxide    drug      40-47;63-71"
      ]
     },
     "execution_count": 316,
     "metadata": {},
     "output_type": "execute_result"
    }
   ],
   "source": [
    "print(df_drugs[df_drugs.offset.str.contains(';')].shape)\n",
    "df_drugs[df_drugs.offset.str.contains(';')]"
   ]
  },
  {
   "cell_type": "code",
   "execution_count": 319,
   "metadata": {},
   "outputs": [],
   "source": []
  }
 ],
 "metadata": {
  "kernelspec": {
   "display_name": "Python 3",
   "language": "python",
   "name": "python3"
  },
  "language_info": {
   "codemirror_mode": {
    "name": "ipython",
    "version": 3
   },
   "file_extension": ".py",
   "mimetype": "text/x-python",
   "name": "python",
   "nbconvert_exporter": "python",
   "pygments_lexer": "ipython3",
   "version": "3.7.2"
  }
 },
 "nbformat": 4,
 "nbformat_minor": 2
}
