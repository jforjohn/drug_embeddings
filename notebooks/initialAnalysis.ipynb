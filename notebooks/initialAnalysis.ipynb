{
 "cells": [
  {
   "cell_type": "code",
   "execution_count": 1,
   "metadata": {},
   "outputs": [],
   "source": [
    "import sys; sys.path.append('../src')\n",
    "\n",
    "from input_output.parser import Parser\n",
    "from input_output.writer import Writer\n",
    "from preprocessing.tokenizer import tokenize\n",
    "from models.rules import classify_token, classify_tokens\n",
    "import pandas as pd"
   ]
  },
  {
   "cell_type": "code",
   "execution_count": 2,
   "metadata": {},
   "outputs": [],
   "source": [
    "pd.set_option('display.max_rows', 100)\n",
    "pd.set_option('display.max_columns', 50)\n",
    "pd.set_option('display.max_colwidth', 1000)"
   ]
  },
  {
   "cell_type": "code",
   "execution_count": 3,
   "metadata": {},
   "outputs": [],
   "source": [
    "bank_type = 'NER'\n",
    "bank_name = 'DrugBank'\n",
    "#dir_type = f'Test-{bank_type}'\n",
    "dir_type = f'Train'\n",
    "bank_dir = f'../resources/{dir_type}/{bank_name}/'\n"
   ]
  },
  {
   "cell_type": "code",
   "execution_count": 4,
   "metadata": {},
   "outputs": [],
   "source": [
    "df = Parser(bank_dir).call()\n",
    "\n",
    "df['tokens'] = df['sentence'].apply(tokenize)\n",
    "\n",
    "get_drugs = lambda tokens: [t for t in  [classify_token(t) for t in tokens] if t is not None]\n",
    "df['drugs'] = df['tokens'].apply(get_drugs)"
   ]
  },
  {
   "cell_type": "code",
   "execution_count": 5,
   "metadata": {},
   "outputs": [
    {
     "data": {
      "text/html": [
       "<div>\n",
       "<style scoped>\n",
       "    .dataframe tbody tr th:only-of-type {\n",
       "        vertical-align: middle;\n",
       "    }\n",
       "\n",
       "    .dataframe tbody tr th {\n",
       "        vertical-align: top;\n",
       "    }\n",
       "\n",
       "    .dataframe thead th {\n",
       "        text-align: right;\n",
       "    }\n",
       "</style>\n",
       "<table border=\"1\" class=\"dataframe\">\n",
       "  <thead>\n",
       "    <tr style=\"text-align: right;\">\n",
       "      <th></th>\n",
       "      <th>id</th>\n",
       "      <th>sentence</th>\n",
       "      <th>parsed_drugs</th>\n",
       "      <th>parsed_pairs</th>\n",
       "      <th>tokens</th>\n",
       "      <th>drugs</th>\n",
       "    </tr>\n",
       "  </thead>\n",
       "  <tbody>\n",
       "    <tr>\n",
       "      <th>0</th>\n",
       "      <td>DDI-DrugBank.d436.s0</td>\n",
       "      <td>No drug, nutritional supplement, food or herb interactions have yet been reported.</td>\n",
       "      <td>[]</td>\n",
       "      <td>[]</td>\n",
       "      <td>[{'text': 'No', 'char_offset': [0, 1]}, {'text': 'drug', 'char_offset': [3, 6]}, {'text': ',', 'char_offset': [7, 7]}, {'text': 'nutritional', 'char_offset': [9, 19]}, {'text': 'supplement', 'char_offset': [21, 30]}, {'text': ',', 'char_offset': [31, 31]}, {'text': 'food', 'char_offset': [33, 36]}, {'text': 'or', 'char_offset': [38, 39]}, {'text': 'herb', 'char_offset': [41, 44]}, {'text': 'interactions', 'char_offset': [46, 57]}, {'text': 'have', 'char_offset': [59, 62]}, {'text': 'yet', 'char_offset': [64, 66]}, {'text': 'been', 'char_offset': [68, 71]}, {'text': 'reported', 'char_offset': [73, 80]}, {'text': '.', 'char_offset': [81, 81]}]</td>\n",
       "      <td>[&lt;DrugEntity None 46-57 interactions group&gt;]</td>\n",
       "    </tr>\n",
       "    <tr>\n",
       "      <th>1</th>\n",
       "      <td>DDI-DrugBank.d519.s0</td>\n",
       "      <td>No formal drug/drug interaction studies with Plenaxis were performed.</td>\n",
       "      <td>[&lt;DrugEntity DDI-DrugBank.d519.s0.e0 45-52 Plenaxis brand&gt;]</td>\n",
       "      <td>[]</td>\n",
       "      <td>[{'text': 'No', 'char_offset': [0, 1]}, {'text': 'formal', 'char_offset': [3, 8]}, {'text': 'drug/drug', 'char_offset': [10, 18]}, {'text': 'interaction', 'char_offset': [20, 30]}, {'text': 'studies', 'char_offset': [32, 38]}, {'text': 'with', 'char_offset': [40, 43]}, {'text': 'Plenaxis', 'char_offset': [45, 52]}, {'text': 'were', 'char_offset': [54, 57]}, {'text': 'performed', 'char_offset': [59, 67]}, {'text': '.', 'char_offset': [68, 68]}]</td>\n",
       "      <td>[]</td>\n",
       "    </tr>\n",
       "    <tr>\n",
       "      <th>2</th>\n",
       "      <td>DDI-DrugBank.d519.s1</td>\n",
       "      <td>Cytochrome P-450 is not known to be involved in the metabolism of Plenaxis.</td>\n",
       "      <td>[&lt;DrugEntity DDI-DrugBank.d519.s1.e0 66-73 Plenaxis brand&gt;]</td>\n",
       "      <td>[]</td>\n",
       "      <td>[{'text': 'Cytochrome', 'char_offset': [0, 9]}, {'text': 'P-450', 'char_offset': [11, 15]}, {'text': 'is', 'char_offset': [17, 18]}, {'text': 'not', 'char_offset': [20, 22]}, {'text': 'known', 'char_offset': [24, 28]}, {'text': 'to', 'char_offset': [30, 31]}, {'text': 'be', 'char_offset': [33, 34]}, {'text': 'involved', 'char_offset': [36, 43]}, {'text': 'in', 'char_offset': [45, 46]}, {'text': 'the', 'char_offset': [48, 50]}, {'text': 'metabolism', 'char_offset': [52, 61]}, {'text': 'of', 'char_offset': [63, 64]}, {'text': 'Plenaxis', 'char_offset': [66, 73]}, {'text': '.', 'char_offset': [74, 74]}]</td>\n",
       "      <td>[&lt;DrugEntity None 11-15 P-450 brand&gt;]</td>\n",
       "    </tr>\n",
       "    <tr>\n",
       "      <th>3</th>\n",
       "      <td>DDI-DrugBank.d519.s2</td>\n",
       "      <td>Plenaxis is highly bound to plasma proteins (96 to 99%).</td>\n",
       "      <td>[&lt;DrugEntity DDI-DrugBank.d519.s2.e0 0-7 Plenaxis brand&gt;]</td>\n",
       "      <td>[]</td>\n",
       "      <td>[{'text': 'Plenaxis', 'char_offset': [0, 7]}, {'text': 'is', 'char_offset': [9, 10]}, {'text': 'highly', 'char_offset': [12, 17]}, {'text': 'bound', 'char_offset': [19, 23]}, {'text': 'to', 'char_offset': [25, 26]}, {'text': 'plasma', 'char_offset': [28, 33]}, {'text': 'proteins', 'char_offset': [35, 42]}, {'text': '(', 'char_offset': [44, 44]}, {'text': '96', 'char_offset': [45, 46]}, {'text': 'to', 'char_offset': [48, 49]}, {'text': '99', 'char_offset': [51, 52]}, {'text': '%', 'char_offset': [53, 53]}, {'text': ')', 'char_offset': [54, 54]}, {'text': '.', 'char_offset': [55, 55]}]</td>\n",
       "      <td>[&lt;DrugEntity None 35-42 proteins group&gt;]</td>\n",
       "    </tr>\n",
       "    <tr>\n",
       "      <th>4</th>\n",
       "      <td>DDI-DrugBank.d519.s3</td>\n",
       "      <td>Laboratory Tests Response to Plenaxis should be monitored by measuring serum total testosterone concentrations just prior to administration on Day 29 and every 8 weeks thereafter.</td>\n",
       "      <td>[&lt;DrugEntity DDI-DrugBank.d519.s3.e0 29-36 Plenaxis brand&gt;, &lt;DrugEntity DDI-DrugBank.d519.s3.e1 83-94 testosterone drug&gt;]</td>\n",
       "      <td>[&lt;DrugPair DDI-DrugBank.d519.s3.p0 DDI-DrugBank.d519.s3.e0 DDI-DrugBank.d519.s3.e1 None&gt;]</td>\n",
       "      <td>[{'text': 'Laboratory', 'char_offset': [0, 9]}, {'text': 'Tests', 'char_offset': [11, 15]}, {'text': 'Response', 'char_offset': [17, 24]}, {'text': 'to', 'char_offset': [26, 27]}, {'text': 'Plenaxis', 'char_offset': [29, 36]}, {'text': 'should', 'char_offset': [38, 43]}, {'text': 'be', 'char_offset': [45, 46]}, {'text': 'monitored', 'char_offset': [48, 56]}, {'text': 'by', 'char_offset': [58, 59]}, {'text': 'measuring', 'char_offset': [61, 69]}, {'text': 'serum', 'char_offset': [71, 75]}, {'text': 'total', 'char_offset': [77, 81]}, {'text': 'testosterone', 'char_offset': [83, 94]}, {'text': 'concentrations', 'char_offset': [96, 109]}, {'text': 'just', 'char_offset': [111, 114]}, {'text': 'prior', 'char_offset': [116, 120]}, {'text': 'to', 'char_offset': [122, 123]}, {'text': 'administration', 'char_offset': [125, 138]}, {'text': 'on', 'char_offset': [140, 141]}, {'text': 'Day', 'char_offset': [143, 145]}, {'text': '29', 'char_offset': [147, 148]}, {'text': 'and', 'char_offset': [15...</td>\n",
       "      <td>[&lt;DrugEntity None 11-15 Tests group&gt;, &lt;DrugEntity None 83-94 testosterone drug&gt;, &lt;DrugEntity None 96-109 concentrations group&gt;]</td>\n",
       "    </tr>\n",
       "  </tbody>\n",
       "</table>\n",
       "</div>"
      ],
      "text/plain": [
       "                     id  \\\n",
       "0  DDI-DrugBank.d436.s0   \n",
       "1  DDI-DrugBank.d519.s0   \n",
       "2  DDI-DrugBank.d519.s1   \n",
       "3  DDI-DrugBank.d519.s2   \n",
       "4  DDI-DrugBank.d519.s3   \n",
       "\n",
       "                                                                                                                                                                              sentence  \\\n",
       "0                                                                                                   No drug, nutritional supplement, food or herb interactions have yet been reported.   \n",
       "1                                                                                                                No formal drug/drug interaction studies with Plenaxis were performed.   \n",
       "2                                                                                                          Cytochrome P-450 is not known to be involved in the metabolism of Plenaxis.   \n",
       "3                                                                                                                             Plenaxis is highly bound to plasma proteins (96 to 99%).   \n",
       "4  Laboratory Tests Response to Plenaxis should be monitored by measuring serum total testosterone concentrations just prior to administration on Day 29 and every 8 weeks thereafter.   \n",
       "\n",
       "                                                                                                                parsed_drugs  \\\n",
       "0                                                                                                                         []   \n",
       "1                                                                [<DrugEntity DDI-DrugBank.d519.s0.e0 45-52 Plenaxis brand>]   \n",
       "2                                                                [<DrugEntity DDI-DrugBank.d519.s1.e0 66-73 Plenaxis brand>]   \n",
       "3                                                                  [<DrugEntity DDI-DrugBank.d519.s2.e0 0-7 Plenaxis brand>]   \n",
       "4  [<DrugEntity DDI-DrugBank.d519.s3.e0 29-36 Plenaxis brand>, <DrugEntity DDI-DrugBank.d519.s3.e1 83-94 testosterone drug>]   \n",
       "\n",
       "                                                                                parsed_pairs  \\\n",
       "0                                                                                         []   \n",
       "1                                                                                         []   \n",
       "2                                                                                         []   \n",
       "3                                                                                         []   \n",
       "4  [<DrugPair DDI-DrugBank.d519.s3.p0 DDI-DrugBank.d519.s3.e0 DDI-DrugBank.d519.s3.e1 None>]   \n",
       "\n",
       "                                                                                                                                                                                                                                                                                                                                                                                                                                                                                                                                                                                                                                                                                                                                                                                                                                                                                                                                                                                                                                    tokens  \\\n",
       "0                                                                                                                                                                                                                                                                                                                                                                [{'text': 'No', 'char_offset': [0, 1]}, {'text': 'drug', 'char_offset': [3, 6]}, {'text': ',', 'char_offset': [7, 7]}, {'text': 'nutritional', 'char_offset': [9, 19]}, {'text': 'supplement', 'char_offset': [21, 30]}, {'text': ',', 'char_offset': [31, 31]}, {'text': 'food', 'char_offset': [33, 36]}, {'text': 'or', 'char_offset': [38, 39]}, {'text': 'herb', 'char_offset': [41, 44]}, {'text': 'interactions', 'char_offset': [46, 57]}, {'text': 'have', 'char_offset': [59, 62]}, {'text': 'yet', 'char_offset': [64, 66]}, {'text': 'been', 'char_offset': [68, 71]}, {'text': 'reported', 'char_offset': [73, 80]}, {'text': '.', 'char_offset': [81, 81]}]   \n",
       "1                                                                                                                                                                                                                                                                                                                                                                                                                                                                                                                                                                          [{'text': 'No', 'char_offset': [0, 1]}, {'text': 'formal', 'char_offset': [3, 8]}, {'text': 'drug/drug', 'char_offset': [10, 18]}, {'text': 'interaction', 'char_offset': [20, 30]}, {'text': 'studies', 'char_offset': [32, 38]}, {'text': 'with', 'char_offset': [40, 43]}, {'text': 'Plenaxis', 'char_offset': [45, 52]}, {'text': 'were', 'char_offset': [54, 57]}, {'text': 'performed', 'char_offset': [59, 67]}, {'text': '.', 'char_offset': [68, 68]}]   \n",
       "2                                                                                                                                                                                                                                                                                                                                                                                                          [{'text': 'Cytochrome', 'char_offset': [0, 9]}, {'text': 'P-450', 'char_offset': [11, 15]}, {'text': 'is', 'char_offset': [17, 18]}, {'text': 'not', 'char_offset': [20, 22]}, {'text': 'known', 'char_offset': [24, 28]}, {'text': 'to', 'char_offset': [30, 31]}, {'text': 'be', 'char_offset': [33, 34]}, {'text': 'involved', 'char_offset': [36, 43]}, {'text': 'in', 'char_offset': [45, 46]}, {'text': 'the', 'char_offset': [48, 50]}, {'text': 'metabolism', 'char_offset': [52, 61]}, {'text': 'of', 'char_offset': [63, 64]}, {'text': 'Plenaxis', 'char_offset': [66, 73]}, {'text': '.', 'char_offset': [74, 74]}]   \n",
       "3                                                                                                                                                                                                                                                                                                                                                                                                                           [{'text': 'Plenaxis', 'char_offset': [0, 7]}, {'text': 'is', 'char_offset': [9, 10]}, {'text': 'highly', 'char_offset': [12, 17]}, {'text': 'bound', 'char_offset': [19, 23]}, {'text': 'to', 'char_offset': [25, 26]}, {'text': 'plasma', 'char_offset': [28, 33]}, {'text': 'proteins', 'char_offset': [35, 42]}, {'text': '(', 'char_offset': [44, 44]}, {'text': '96', 'char_offset': [45, 46]}, {'text': 'to', 'char_offset': [48, 49]}, {'text': '99', 'char_offset': [51, 52]}, {'text': '%', 'char_offset': [53, 53]}, {'text': ')', 'char_offset': [54, 54]}, {'text': '.', 'char_offset': [55, 55]}]   \n",
       "4  [{'text': 'Laboratory', 'char_offset': [0, 9]}, {'text': 'Tests', 'char_offset': [11, 15]}, {'text': 'Response', 'char_offset': [17, 24]}, {'text': 'to', 'char_offset': [26, 27]}, {'text': 'Plenaxis', 'char_offset': [29, 36]}, {'text': 'should', 'char_offset': [38, 43]}, {'text': 'be', 'char_offset': [45, 46]}, {'text': 'monitored', 'char_offset': [48, 56]}, {'text': 'by', 'char_offset': [58, 59]}, {'text': 'measuring', 'char_offset': [61, 69]}, {'text': 'serum', 'char_offset': [71, 75]}, {'text': 'total', 'char_offset': [77, 81]}, {'text': 'testosterone', 'char_offset': [83, 94]}, {'text': 'concentrations', 'char_offset': [96, 109]}, {'text': 'just', 'char_offset': [111, 114]}, {'text': 'prior', 'char_offset': [116, 120]}, {'text': 'to', 'char_offset': [122, 123]}, {'text': 'administration', 'char_offset': [125, 138]}, {'text': 'on', 'char_offset': [140, 141]}, {'text': 'Day', 'char_offset': [143, 145]}, {'text': '29', 'char_offset': [147, 148]}, {'text': 'and', 'char_offset': [15...   \n",
       "\n",
       "                                                                                                                             drugs  \n",
       "0                                                                                     [<DrugEntity None 46-57 interactions group>]  \n",
       "1                                                                                                                               []  \n",
       "2                                                                                            [<DrugEntity None 11-15 P-450 brand>]  \n",
       "3                                                                                         [<DrugEntity None 35-42 proteins group>]  \n",
       "4  [<DrugEntity None 11-15 Tests group>, <DrugEntity None 83-94 testosterone drug>, <DrugEntity None 96-109 concentrations group>]  "
      ]
     },
     "execution_count": 5,
     "metadata": {},
     "output_type": "execute_result"
    }
   ],
   "source": [
    "df.head()"
   ]
  },
  {
   "cell_type": "code",
   "execution_count": 6,
   "metadata": {},
   "outputs": [
    {
     "data": {
      "text/plain": [
       "(5675, 6)"
      ]
     },
     "execution_count": 6,
     "metadata": {},
     "output_type": "execute_result"
    }
   ],
   "source": [
    "df.shape"
   ]
  },
  {
   "cell_type": "code",
   "execution_count": 7,
   "metadata": {},
   "outputs": [
    {
     "data": {
      "text/plain": [
       "12929"
      ]
     },
     "execution_count": 7,
     "metadata": {},
     "output_type": "execute_result"
    }
   ],
   "source": [
    "# number of different type of drugs\n",
    "df.parsed_drugs.apply(len).sum()"
   ]
  },
  {
   "cell_type": "markdown",
   "metadata": {},
   "source": [
    "### Find differences in parsed and found drugs"
   ]
  },
  {
   "cell_type": "code",
   "execution_count": 8,
   "metadata": {},
   "outputs": [],
   "source": [
    "def find_diffs(row, diffs=True):\n",
    "    pd_lst = []\n",
    "    for parsed_drug in row.parsed_drugs:\n",
    "        pd_lst.append(parsed_drug.text)\n",
    "        \n",
    "    drug_lst = []\n",
    "    for drug in row.drugs:\n",
    "        drug_lst.append(drug.text)\n",
    "    \n",
    "    if diffs:\n",
    "        return [item for item in drug_lst if item not in pd_lst]\n",
    "    else:\n",
    "        return [item for item in drug_lst if item in pd_lst]"
   ]
  },
  {
   "cell_type": "code",
   "execution_count": 9,
   "metadata": {},
   "outputs": [],
   "source": [
    "diffs = df.apply(lambda x: find_diffs(x, diffs=True), axis=1)\n",
    "same = df.apply(lambda x: find_diffs(x, diffs=False), axis=1)"
   ]
  },
  {
   "cell_type": "code",
   "execution_count": 10,
   "metadata": {},
   "outputs": [],
   "source": [
    "pd_txt = df.parsed_drugs.apply(lambda x: [item.text for item in x])\n",
    "d_txt = df.drugs.apply(lambda x: [item.text for item in x])"
   ]
  },
  {
   "cell_type": "code",
   "execution_count": 11,
   "metadata": {},
   "outputs": [],
   "source": [
    "df_sim = pd.concat([pd_txt, d_txt, diffs, same], axis=1)\n",
    "df_sim.columns = ['parsed_drugs', 'drugs', 'diffs', 'sim']"
   ]
  },
  {
   "cell_type": "code",
   "execution_count": 12,
   "metadata": {},
   "outputs": [
    {
     "data": {
      "text/html": [
       "<div>\n",
       "<style scoped>\n",
       "    .dataframe tbody tr th:only-of-type {\n",
       "        vertical-align: middle;\n",
       "    }\n",
       "\n",
       "    .dataframe tbody tr th {\n",
       "        vertical-align: top;\n",
       "    }\n",
       "\n",
       "    .dataframe thead th {\n",
       "        text-align: right;\n",
       "    }\n",
       "</style>\n",
       "<table border=\"1\" class=\"dataframe\">\n",
       "  <thead>\n",
       "    <tr style=\"text-align: right;\">\n",
       "      <th></th>\n",
       "      <th>parsed_drugs</th>\n",
       "      <th>drugs</th>\n",
       "      <th>diffs</th>\n",
       "      <th>sim</th>\n",
       "    </tr>\n",
       "  </thead>\n",
       "  <tbody>\n",
       "    <tr>\n",
       "      <th>0</th>\n",
       "      <td>[]</td>\n",
       "      <td>[interactions]</td>\n",
       "      <td>[interactions]</td>\n",
       "      <td>[]</td>\n",
       "    </tr>\n",
       "    <tr>\n",
       "      <th>1</th>\n",
       "      <td>[Plenaxis]</td>\n",
       "      <td>[]</td>\n",
       "      <td>[]</td>\n",
       "      <td>[]</td>\n",
       "    </tr>\n",
       "    <tr>\n",
       "      <th>2</th>\n",
       "      <td>[Plenaxis]</td>\n",
       "      <td>[P-450]</td>\n",
       "      <td>[P-450]</td>\n",
       "      <td>[]</td>\n",
       "    </tr>\n",
       "    <tr>\n",
       "      <th>3</th>\n",
       "      <td>[Plenaxis]</td>\n",
       "      <td>[proteins]</td>\n",
       "      <td>[proteins]</td>\n",
       "      <td>[]</td>\n",
       "    </tr>\n",
       "    <tr>\n",
       "      <th>4</th>\n",
       "      <td>[Plenaxis, testosterone]</td>\n",
       "      <td>[Tests, testosterone, concentrations]</td>\n",
       "      <td>[Tests, concentrations]</td>\n",
       "      <td>[testosterone]</td>\n",
       "    </tr>\n",
       "  </tbody>\n",
       "</table>\n",
       "</div>"
      ],
      "text/plain": [
       "               parsed_drugs                                  drugs  \\\n",
       "0                        []                         [interactions]   \n",
       "1                [Plenaxis]                                     []   \n",
       "2                [Plenaxis]                                [P-450]   \n",
       "3                [Plenaxis]                             [proteins]   \n",
       "4  [Plenaxis, testosterone]  [Tests, testosterone, concentrations]   \n",
       "\n",
       "                     diffs             sim  \n",
       "0           [interactions]              []  \n",
       "1                       []              []  \n",
       "2                  [P-450]              []  \n",
       "3               [proteins]              []  \n",
       "4  [Tests, concentrations]  [testosterone]  "
      ]
     },
     "execution_count": 12,
     "metadata": {},
     "output_type": "execute_result"
    }
   ],
   "source": [
    "df_sim.head()"
   ]
  },
  {
   "cell_type": "code",
   "execution_count": 13,
   "metadata": {},
   "outputs": [
    {
     "name": "stdout",
     "output_type": "stream",
     "text": [
      "diffs 11499\n",
      "sim 8492\n"
     ]
    }
   ],
   "source": [
    "print('diffs', df_sim.diffs.apply(len).sum())\n",
    "print('sim', df_sim.sim.apply(len).sum())"
   ]
  },
  {
   "cell_type": "code",
   "execution_count": 14,
   "metadata": {},
   "outputs": [
    {
     "name": "stdout",
     "output_type": "stream",
     "text": [
      "(19991,)\n"
     ]
    }
   ],
   "source": [
    "found_drugs = df.apply(lambda x: pd.Series(x['drugs']),axis=1).stack()\n",
    "print(found_drugs.shape)"
   ]
  },
  {
   "cell_type": "markdown",
   "metadata": {},
   "source": [
    "### Initial analysis of parsed drugs"
   ]
  },
  {
   "cell_type": "code",
   "execution_count": 15,
   "metadata": {},
   "outputs": [],
   "source": [
    "drug_ents = df.apply(lambda x: pd.Series(x['parsed_drugs']),axis=1).stack()"
   ]
  },
  {
   "cell_type": "code",
   "execution_count": 16,
   "metadata": {},
   "outputs": [
    {
     "data": {
      "text/plain": [
       "1  0       <DrugEntity DDI-DrugBank.d519.s0.e0 45-52 Plenaxis brand>\n",
       "2  0       <DrugEntity DDI-DrugBank.d519.s1.e0 66-73 Plenaxis brand>\n",
       "3  0         <DrugEntity DDI-DrugBank.d519.s2.e0 0-7 Plenaxis brand>\n",
       "4  0       <DrugEntity DDI-DrugBank.d519.s3.e0 29-36 Plenaxis brand>\n",
       "   1    <DrugEntity DDI-DrugBank.d519.s3.e1 83-94 testosterone drug>\n",
       "dtype: object"
      ]
     },
     "execution_count": 16,
     "metadata": {},
     "output_type": "execute_result"
    }
   ],
   "source": [
    "drug_ents.head()"
   ]
  },
  {
   "cell_type": "code",
   "execution_count": 17,
   "metadata": {},
   "outputs": [
    {
     "data": {
      "text/plain": [
       "array(['brand', 'drug', 'group', 'drug_n'], dtype=object)"
      ]
     },
     "execution_count": 17,
     "metadata": {},
     "output_type": "execute_result"
    }
   ],
   "source": [
    "drug_ents.apply(lambda x: x.type).unique()"
   ]
  },
  {
   "cell_type": "code",
   "execution_count": 18,
   "metadata": {},
   "outputs": [],
   "source": [
    "drugs = drug_ents.apply(lambda x: x.type)"
   ]
  },
  {
   "cell_type": "code",
   "execution_count": 19,
   "metadata": {},
   "outputs": [
    {
     "data": {
      "text/plain": [
       "(12929,)"
      ]
     },
     "execution_count": 19,
     "metadata": {},
     "output_type": "execute_result"
    }
   ],
   "source": [
    "drugs.shape"
   ]
  },
  {
   "cell_type": "code",
   "execution_count": 20,
   "metadata": {},
   "outputs": [
    {
     "data": {
      "text/plain": [
       "drug      8197\n",
       "group     3206\n",
       "brand     1423\n",
       "drug_n     103\n",
       "dtype: int64"
      ]
     },
     "execution_count": 20,
     "metadata": {},
     "output_type": "execute_result"
    }
   ],
   "source": [
    "drugs.value_counts()"
   ]
  },
  {
   "cell_type": "code",
   "execution_count": 21,
   "metadata": {},
   "outputs": [],
   "source": [
    "drug_names = drug_ents.apply(lambda x: x.text)"
   ]
  },
  {
   "cell_type": "code",
   "execution_count": 22,
   "metadata": {},
   "outputs": [
    {
     "data": {
      "text/plain": [
       "count        12929\n",
       "unique        2655\n",
       "top       warfarin\n",
       "freq           176\n",
       "dtype: object"
      ]
     },
     "execution_count": 22,
     "metadata": {},
     "output_type": "execute_result"
    }
   ],
   "source": [
    "drug_names.describe()"
   ]
  },
  {
   "cell_type": "code",
   "execution_count": 23,
   "metadata": {},
   "outputs": [],
   "source": [
    "drug_types = drug_ents.apply(lambda x: x.type)"
   ]
  },
  {
   "cell_type": "code",
   "execution_count": 24,
   "metadata": {},
   "outputs": [
    {
     "data": {
      "text/plain": [
       "count     12929\n",
       "unique        4\n",
       "top        drug\n",
       "freq       8197\n",
       "dtype: object"
      ]
     },
     "execution_count": 24,
     "metadata": {},
     "output_type": "execute_result"
    }
   ],
   "source": [
    "drug_types.describe()"
   ]
  },
  {
   "cell_type": "code",
   "execution_count": 25,
   "metadata": {},
   "outputs": [],
   "source": [
    "drug_chars = drug_ents.apply(lambda x: x.offsets)"
   ]
  },
  {
   "cell_type": "code",
   "execution_count": 26,
   "metadata": {},
   "outputs": [],
   "source": [
    "df_drugs  = pd.concat([drug_names, drug_types, drug_chars], axis=1).reset_index(drop=True)\n",
    "df_drugs.columns = ['name','type','offset']"
   ]
  },
  {
   "cell_type": "code",
   "execution_count": 27,
   "metadata": {},
   "outputs": [
    {
     "data": {
      "text/html": [
       "<div>\n",
       "<style scoped>\n",
       "    .dataframe tbody tr th:only-of-type {\n",
       "        vertical-align: middle;\n",
       "    }\n",
       "\n",
       "    .dataframe tbody tr th {\n",
       "        vertical-align: top;\n",
       "    }\n",
       "\n",
       "    .dataframe thead th {\n",
       "        text-align: right;\n",
       "    }\n",
       "</style>\n",
       "<table border=\"1\" class=\"dataframe\">\n",
       "  <thead>\n",
       "    <tr style=\"text-align: right;\">\n",
       "      <th></th>\n",
       "      <th>name</th>\n",
       "      <th>type</th>\n",
       "      <th>offset</th>\n",
       "    </tr>\n",
       "  </thead>\n",
       "  <tbody>\n",
       "    <tr>\n",
       "      <th>0</th>\n",
       "      <td>Plenaxis</td>\n",
       "      <td>brand</td>\n",
       "      <td>[45, 52]</td>\n",
       "    </tr>\n",
       "    <tr>\n",
       "      <th>1</th>\n",
       "      <td>Plenaxis</td>\n",
       "      <td>brand</td>\n",
       "      <td>[66, 73]</td>\n",
       "    </tr>\n",
       "    <tr>\n",
       "      <th>2</th>\n",
       "      <td>Plenaxis</td>\n",
       "      <td>brand</td>\n",
       "      <td>[0, 7]</td>\n",
       "    </tr>\n",
       "    <tr>\n",
       "      <th>3</th>\n",
       "      <td>Plenaxis</td>\n",
       "      <td>brand</td>\n",
       "      <td>[29, 36]</td>\n",
       "    </tr>\n",
       "    <tr>\n",
       "      <th>4</th>\n",
       "      <td>testosterone</td>\n",
       "      <td>drug</td>\n",
       "      <td>[83, 94]</td>\n",
       "    </tr>\n",
       "    <tr>\n",
       "      <th>5</th>\n",
       "      <td>Plenaxis</td>\n",
       "      <td>brand</td>\n",
       "      <td>[76, 83]</td>\n",
       "    </tr>\n",
       "    <tr>\n",
       "      <th>6</th>\n",
       "      <td>ORENCIA</td>\n",
       "      <td>brand</td>\n",
       "      <td>[61, 67]</td>\n",
       "    </tr>\n",
       "    <tr>\n",
       "      <th>7</th>\n",
       "      <td>MTX</td>\n",
       "      <td>drug</td>\n",
       "      <td>[50, 52]</td>\n",
       "    </tr>\n",
       "    <tr>\n",
       "      <th>8</th>\n",
       "      <td>NSAIDs</td>\n",
       "      <td>group</td>\n",
       "      <td>[55, 60]</td>\n",
       "    </tr>\n",
       "    <tr>\n",
       "      <th>9</th>\n",
       "      <td>corticosteroids</td>\n",
       "      <td>group</td>\n",
       "      <td>[63, 77]</td>\n",
       "    </tr>\n",
       "    <tr>\n",
       "      <th>10</th>\n",
       "      <td>TNF blocking agents</td>\n",
       "      <td>group</td>\n",
       "      <td>[84, 102]</td>\n",
       "    </tr>\n",
       "  </tbody>\n",
       "</table>\n",
       "</div>"
      ],
      "text/plain": [
       "                   name   type     offset\n",
       "0              Plenaxis  brand   [45, 52]\n",
       "1              Plenaxis  brand   [66, 73]\n",
       "2              Plenaxis  brand     [0, 7]\n",
       "3              Plenaxis  brand   [29, 36]\n",
       "4          testosterone   drug   [83, 94]\n",
       "5              Plenaxis  brand   [76, 83]\n",
       "6               ORENCIA  brand   [61, 67]\n",
       "7                   MTX   drug   [50, 52]\n",
       "8                NSAIDs  group   [55, 60]\n",
       "9       corticosteroids  group   [63, 77]\n",
       "10  TNF blocking agents  group  [84, 102]"
      ]
     },
     "execution_count": 27,
     "metadata": {},
     "output_type": "execute_result"
    }
   ],
   "source": [
    "df_drugs.head(11)"
   ]
  },
  {
   "cell_type": "code",
   "execution_count": 28,
   "metadata": {},
   "outputs": [
    {
     "data": {
      "text/html": [
       "<div>\n",
       "<style scoped>\n",
       "    .dataframe tbody tr th:only-of-type {\n",
       "        vertical-align: middle;\n",
       "    }\n",
       "\n",
       "    .dataframe tbody tr th {\n",
       "        vertical-align: top;\n",
       "    }\n",
       "\n",
       "    .dataframe thead th {\n",
       "        text-align: right;\n",
       "    }\n",
       "</style>\n",
       "<table border=\"1\" class=\"dataframe\">\n",
       "  <thead>\n",
       "    <tr style=\"text-align: right;\">\n",
       "      <th></th>\n",
       "      <th>name</th>\n",
       "      <th>type</th>\n",
       "      <th>offset</th>\n",
       "    </tr>\n",
       "  </thead>\n",
       "  <tbody>\n",
       "    <tr>\n",
       "      <th>count</th>\n",
       "      <td>12929</td>\n",
       "      <td>12929</td>\n",
       "      <td>12929</td>\n",
       "    </tr>\n",
       "    <tr>\n",
       "      <th>unique</th>\n",
       "      <td>2655</td>\n",
       "      <td>4</td>\n",
       "      <td>3939</td>\n",
       "    </tr>\n",
       "    <tr>\n",
       "      <th>top</th>\n",
       "      <td>warfarin</td>\n",
       "      <td>drug</td>\n",
       "      <td>[0, 9]</td>\n",
       "    </tr>\n",
       "    <tr>\n",
       "      <th>freq</th>\n",
       "      <td>176</td>\n",
       "      <td>8197</td>\n",
       "      <td>267</td>\n",
       "    </tr>\n",
       "  </tbody>\n",
       "</table>\n",
       "</div>"
      ],
      "text/plain": [
       "            name   type  offset\n",
       "count      12929  12929   12929\n",
       "unique      2655      4    3939\n",
       "top     warfarin   drug  [0, 9]\n",
       "freq         176   8197     267"
      ]
     },
     "execution_count": 28,
     "metadata": {},
     "output_type": "execute_result"
    }
   ],
   "source": [
    "df_drugs.describe()"
   ]
  },
  {
   "cell_type": "code",
   "execution_count": 29,
   "metadata": {},
   "outputs": [
    {
     "data": {
      "text/plain": [
       "ine    1919\n",
       "ide     617\n",
       "cin     396\n",
       "ole     391\n",
       "one     330\n",
       "ate     311\n",
       "rin     302\n",
       "ium     291\n",
       "xin     220\n",
       "vir     220\n",
       "dtype: int64"
      ]
     },
     "execution_count": 29,
     "metadata": {},
     "output_type": "execute_result"
    }
   ],
   "source": [
    "df_drugs.apply(lambda x: x['name'][-3:] if x.type == 'drug' else None, axis=1).value_counts()[:10]"
   ]
  },
  {
   "cell_type": "code",
   "execution_count": 30,
   "metadata": {},
   "outputs": [
    {
     "data": {
      "text/plain": [
       "dine    439\n",
       "zole    378\n",
       "pine    309\n",
       "arin    259\n",
       "line    246\n",
       "mide    237\n",
       "mine    227\n",
       "oxin    215\n",
       "toin    214\n",
       "avir    209\n",
       "dtype: int64"
      ]
     },
     "execution_count": 30,
     "metadata": {},
     "output_type": "execute_result"
    }
   ],
   "source": [
    "df_drugs.apply(lambda x: x['name'][-4:] if x.type == 'drug' else None, axis=1).value_counts()[:10]"
   ]
  },
  {
   "cell_type": "code",
   "execution_count": 31,
   "metadata": {},
   "outputs": [
    {
     "data": {
      "text/plain": [
       "azole    348\n",
       "idine    311\n",
       "farin    224\n",
       "amine    219\n",
       "navir    206\n",
       "goxin    205\n",
       "mycin    204\n",
       "ytoin    201\n",
       "thium    148\n",
       "lline    143\n",
       "dtype: int64"
      ]
     },
     "execution_count": 31,
     "metadata": {},
     "output_type": "execute_result"
    }
   ],
   "source": [
    "df_drugs.apply(lambda x: x['name'][-5:] if x.type == 'drug' else None, axis=1).value_counts()[:10]"
   ]
  },
  {
   "cell_type": "markdown",
   "metadata": {},
   "source": [
    "### Check weird offset cases"
   ]
  },
  {
   "cell_type": "code",
   "execution_count": 32,
   "metadata": {},
   "outputs": [],
   "source": [
    "#print(df_drugs[df_drugs.offset.str.contains(';')].shape)\n",
    "#df_drugs[df_drugs.offset.str.contains(';')]\n",
    "\n",
    "#print(df_drugs.offset.apply(lambda x: x if len(x) >= 2 else None).dropna(how='all').shape)\n",
    "#df_drugs.offset.apply(lambda x: x if len(x) >= 2 else None).dropna(how='all')"
   ]
  },
  {
   "cell_type": "code",
   "execution_count": null,
   "metadata": {},
   "outputs": [],
   "source": []
  }
 ],
 "metadata": {
  "kernelspec": {
   "display_name": "Python 3",
   "language": "python",
   "name": "python3"
  },
  "language_info": {
   "codemirror_mode": {
    "name": "ipython",
    "version": 3
   },
   "file_extension": ".py",
   "mimetype": "text/x-python",
   "name": "python",
   "nbconvert_exporter": "python",
   "pygments_lexer": "ipython3",
   "version": "3.7.2"
  }
 },
 "nbformat": 4,
 "nbformat_minor": 2
}
