{
 "cells": [
  {
   "cell_type": "code",
   "execution_count": 1,
   "metadata": {},
   "outputs": [],
   "source": [
    "import sys; sys.path.append('../src')\n",
    "\n",
    "from input_output.parser import Parser\n",
    "from input_output.writer import Writer\n",
    "from preprocessing.tokenizer import tokenize\n",
    "from models.rules import classify_token, classify_tokens\n",
    "import pandas as pd"
   ]
  },
  {
   "cell_type": "code",
   "execution_count": 2,
   "metadata": {},
   "outputs": [],
   "source": [
    "pd.set_option('display.max_rows', 500)\n",
    "pd.set_option('display.max_columns', 500)\n",
    "pd.set_option('display.max_colwidth', 1000)"
   ]
  },
  {
   "cell_type": "code",
   "execution_count": 3,
   "metadata": {},
   "outputs": [],
   "source": [
    "bank_type = 'DDI'\n",
    "bank_name = 'DrugBank'\n",
    "bank_dir = f'../resources/Test-{bank_type}/{bank_name}/'\n",
    "\n",
    "out_file_name = 'task9.2_UC3M_1.txt'\n",
    "out_folder = '../out/'\n",
    "out_file = f'{out_folder}{out_file_name}'"
   ]
  },
  {
   "cell_type": "code",
   "execution_count": 4,
   "metadata": {},
   "outputs": [],
   "source": [
    "df = Parser(bank_dir).call()\n",
    "\n",
    "df['tokens'] = df['sentence'].apply(tokenize)\n",
    "df['drugs'] = df['tokens'].apply(classify_tokens)"
   ]
  },
  {
   "cell_type": "code",
   "execution_count": 5,
   "metadata": {},
   "outputs": [
    {
     "data": {
      "text/html": [
       "<div>\n",
       "<style scoped>\n",
       "    .dataframe tbody tr th:only-of-type {\n",
       "        vertical-align: middle;\n",
       "    }\n",
       "\n",
       "    .dataframe tbody tr th {\n",
       "        vertical-align: top;\n",
       "    }\n",
       "\n",
       "    .dataframe thead th {\n",
       "        text-align: right;\n",
       "    }\n",
       "</style>\n",
       "<table border=\"1\" class=\"dataframe\">\n",
       "  <thead>\n",
       "    <tr style=\"text-align: right;\">\n",
       "      <th></th>\n",
       "      <th>id</th>\n",
       "      <th>sentence</th>\n",
       "      <th>parsed_drugs</th>\n",
       "      <th>parsed_pairs</th>\n",
       "      <th>tokens</th>\n",
       "      <th>drugs</th>\n",
       "    </tr>\n",
       "  </thead>\n",
       "  <tbody>\n",
       "    <tr>\n",
       "      <th>0</th>\n",
       "      <td>DDI-DrugBank.d696.s0</td>\n",
       "      <td>Methysergide may reverse the analgesic activity of narcotic analgesics.</td>\n",
       "      <td>[&lt;DrugEntity DDI-DrugBank.d696.s0.e0 0-11 Methysergide drug&gt;, &lt;DrugEntity DDI-DrugBank.d696.s0.e1 51-69 narcotic analgesics group&gt;]</td>\n",
       "      <td>[&lt;DrugPair DDI-DrugBank.d696.s0.p0 DDI-DrugBank.d696.s0.e0 DDI-DrugBank.d696.s0.e1 effect&gt;]</td>\n",
       "      <td>[{'text': 'Methysergide', 'char_offset': [0, 11]}, {'text': 'may', 'char_offset': [13, 15]}, {'text': 'reverse', 'char_offset': [17, 23]}, {'text': 'the', 'char_offset': [25, 27]}, {'text': 'analgesic', 'char_offset': [29, 37]}, {'text': 'activity', 'char_offset': [39, 46]}, {'text': 'of', 'char_offset': [48, 49]}, {'text': 'narcotic', 'char_offset': [51, 69]}, {'text': 'analgesics', 'char_offset': [60, 69]}, {'text': '.', 'char_offset': [70, 70]}]</td>\n",
       "      <td>[&lt;DrugEntity None 0-11 Methysergide drug&gt;, &lt;DrugEntity None 51-69 narcotic analgesics group&gt;]</td>\n",
       "    </tr>\n",
       "    <tr>\n",
       "      <th>1</th>\n",
       "      <td>DDI-DrugBank.d696.s1</td>\n",
       "      <td>Concurrent use with vasoconstrictor agents including ergot alkaloids, sumatriptan, and nicotine (e.g. smoking) may result in enhanced vasoconstriction.</td>\n",
       "      <td>[&lt;DrugEntity DDI-DrugBank.d696.s1.e0 20-41 vasoconstrictor agents group&gt;, &lt;DrugEntity DDI-DrugBank.d696.s1.e1 53-67 ergot alkaloids group&gt;, &lt;DrugEntity DDI-DrugBank.d696.s1.e2 70-80 sumatriptan drug&gt;, &lt;DrugEntity DDI-DrugBank.d696.s1.e3 87-94 nicotine drug&gt;]</td>\n",
       "      <td>[&lt;DrugPair DDI-DrugBank.d696.s1.p0 DDI-DrugBank.d696.s1.e0 DDI-DrugBank.d696.s1.e1 None&gt;, &lt;DrugPair DDI-DrugBank.d696.s1.p1 DDI-DrugBank.d696.s1.e0 DDI-DrugBank.d696.s1.e2 None&gt;, &lt;DrugPair DDI-DrugBank.d696.s1.p2 DDI-DrugBank.d696.s1.e0 DDI-DrugBank.d696.s1.e3 None&gt;, &lt;DrugPair DDI-DrugBank.d696.s1.p3 DDI-DrugBank.d696.s1.e1 DDI-DrugBank.d696.s1.e2 None&gt;, &lt;DrugPair DDI-DrugBank.d696.s1.p4 DDI-DrugBank.d696.s1.e1 DDI-DrugBank.d696.s1.e3 None&gt;, &lt;DrugPair DDI-DrugBank.d696.s1.p5 DDI-DrugBank.d696.s1.e2 DDI-DrugBank.d696.s1.e3 None&gt;]</td>\n",
       "      <td>[{'text': 'Concurrent', 'char_offset': [0, 9]}, {'text': 'use', 'char_offset': [11, 13]}, {'text': 'with', 'char_offset': [15, 18]}, {'text': 'vasoconstrictor', 'char_offset': [20, 41]}, {'text': 'agents', 'char_offset': [36, 41]}, {'text': 'including', 'char_offset': [43, 51]}, {'text': 'ergot', 'char_offset': [53, 57]}, {'text': 'alkaloids', 'char_offset': [59, 67]}, {'text': ',', 'char_offset': [68, 68]}, {'text': 'sumatriptan', 'char_offset': [70, 80]}, {'text': ',', 'char_offset': [81, 81]}, {'text': 'and', 'char_offset': [83, 85]}, {'text': 'nicotine', 'char_offset': [87, 94]}, {'text': '(', 'char_offset': [96, 96]}, {'text': 'e.g', 'char_offset': [97, 99]}, {'text': '.', 'char_offset': [100, 100]}, {'text': 'smoking', 'char_offset': [102, 108]}, {'text': ')', 'char_offset': [109, 109]}, {'text': 'may', 'char_offset': [111, 113]}, {'text': 'result', 'char_offset': [115, 120]}, {'text': 'in', 'char_offset': [122, 123]}, {'text': 'enhanced', 'char_offset': [125, 132]}, {'text':...</td>\n",
       "      <td>[&lt;DrugEntity None 20-41 vasoconstrictor agents group&gt;, &lt;DrugEntity None 59-67 alkaloids group&gt;, &lt;DrugEntity None 87-94 nicotine drug&gt;]</td>\n",
       "    </tr>\n",
       "    <tr>\n",
       "      <th>2</th>\n",
       "      <td>DDI-DrugBank.d756.s0</td>\n",
       "      <td>Dosages of concomitantly administered opioids should be reduced by approximately half, because levomepromazine amplifies the therapeutic actions and side-effects of opioids.</td>\n",
       "      <td>[&lt;DrugEntity DDI-DrugBank.d756.s0.e0 38-44 opioids group&gt;, &lt;DrugEntity DDI-DrugBank.d756.s0.e1 95-109 levomepromazine drug&gt;, &lt;DrugEntity DDI-DrugBank.d756.s0.e2 165-171 opioids group&gt;]</td>\n",
       "      <td>[&lt;DrugPair DDI-DrugBank.d756.s0.p0 DDI-DrugBank.d756.s0.e0 DDI-DrugBank.d756.s0.e1 effect&gt;, &lt;DrugPair DDI-DrugBank.d756.s0.p1 DDI-DrugBank.d756.s0.e0 DDI-DrugBank.d756.s0.e2 None&gt;, &lt;DrugPair DDI-DrugBank.d756.s0.p2 DDI-DrugBank.d756.s0.e1 DDI-DrugBank.d756.s0.e2 effect&gt;]</td>\n",
       "      <td>[{'text': 'Dosages', 'char_offset': [0, 6]}, {'text': 'of', 'char_offset': [8, 9]}, {'text': 'concomitantly', 'char_offset': [11, 23]}, {'text': 'administered', 'char_offset': [25, 36]}, {'text': 'opioids', 'char_offset': [38, 44]}, {'text': 'should', 'char_offset': [46, 51]}, {'text': 'be', 'char_offset': [53, 54]}, {'text': 'reduced', 'char_offset': [56, 62]}, {'text': 'by', 'char_offset': [64, 65]}, {'text': 'approximately', 'char_offset': [67, 79]}, {'text': 'half', 'char_offset': [81, 84]}, {'text': ',', 'char_offset': [85, 85]}, {'text': 'because', 'char_offset': [87, 93]}, {'text': 'levomepromazine', 'char_offset': [95, 109]}, {'text': 'amplifies', 'char_offset': [111, 119]}, {'text': 'the', 'char_offset': [121, 123]}, {'text': 'therapeutic', 'char_offset': [125, 143]}, {'text': 'actions', 'char_offset': [137, 143]}, {'text': 'and', 'char_offset': [145, 147]}, {'text': 'side-effects', 'char_offset': [149, 160]}, {'text': 'of', 'char_offset': [162, 163]}, {'text': 'opioids', ...</td>\n",
       "      <td>[&lt;DrugEntity None 38-44 opioids group&gt;, &lt;DrugEntity None 95-109 levomepromazine drug&gt;, &lt;DrugEntity None 125-143 therapeutic actions group&gt;, &lt;DrugEntity None 165-171 opioids group&gt;]</td>\n",
       "    </tr>\n",
       "    <tr>\n",
       "      <th>3</th>\n",
       "      <td>DDI-DrugBank.d756.s1</td>\n",
       "      <td>Combination with tramadol (Ultram) is associated with increased risk of seizures.</td>\n",
       "      <td>[&lt;DrugEntity DDI-DrugBank.d756.s1.e0 17-24 tramadol drug&gt;, &lt;DrugEntity DDI-DrugBank.d756.s1.e1 27-32 Ultram brand&gt;]</td>\n",
       "      <td>[&lt;DrugPair DDI-DrugBank.d756.s1.p0 DDI-DrugBank.d756.s1.e0 DDI-DrugBank.d756.s1.e1 None&gt;]</td>\n",
       "      <td>[{'text': 'Combination', 'char_offset': [0, 10]}, {'text': 'with', 'char_offset': [12, 15]}, {'text': 'tramadol', 'char_offset': [17, 24]}, {'text': '(', 'char_offset': [26, 26]}, {'text': 'Ultram', 'char_offset': [27, 32]}, {'text': ')', 'char_offset': [33, 33]}, {'text': 'is', 'char_offset': [35, 36]}, {'text': 'associated', 'char_offset': [38, 47]}, {'text': 'with', 'char_offset': [49, 52]}, {'text': 'increased', 'char_offset': [54, 62]}, {'text': 'risk', 'char_offset': [64, 67]}, {'text': 'of', 'char_offset': [69, 70]}, {'text': 'seizures', 'char_offset': [72, 79]}, {'text': '.', 'char_offset': [80, 80]}]</td>\n",
       "      <td>[]</td>\n",
       "    </tr>\n",
       "    <tr>\n",
       "      <th>4</th>\n",
       "      <td>DDI-DrugBank.d756.s2</td>\n",
       "      <td>Additive sedative effects and confusional states may emerge if levomepromazine is given with benzodiazepines or barbiturates.</td>\n",
       "      <td>[&lt;DrugEntity DDI-DrugBank.d756.s2.e0 63-77 levomepromazine drug&gt;, &lt;DrugEntity DDI-DrugBank.d756.s2.e1 93-107 benzodiazepines group&gt;, &lt;DrugEntity DDI-DrugBank.d756.s2.e2 112-123 barbiturates group&gt;]</td>\n",
       "      <td>[&lt;DrugPair DDI-DrugBank.d756.s2.p0 DDI-DrugBank.d756.s2.e0 DDI-DrugBank.d756.s2.e1 effect&gt;, &lt;DrugPair DDI-DrugBank.d756.s2.p1 DDI-DrugBank.d756.s2.e0 DDI-DrugBank.d756.s2.e2 effect&gt;, &lt;DrugPair DDI-DrugBank.d756.s2.p2 DDI-DrugBank.d756.s2.e1 DDI-DrugBank.d756.s2.e2 None&gt;]</td>\n",
       "      <td>[{'text': 'Additive', 'char_offset': [0, 7]}, {'text': 'sedative', 'char_offset': [9, 16]}, {'text': 'effects', 'char_offset': [18, 24]}, {'text': 'and', 'char_offset': [26, 28]}, {'text': 'confusional', 'char_offset': [30, 40]}, {'text': 'states', 'char_offset': [42, 47]}, {'text': 'may', 'char_offset': [49, 51]}, {'text': 'emerge', 'char_offset': [53, 58]}, {'text': 'if', 'char_offset': [60, 61]}, {'text': 'levomepromazine', 'char_offset': [63, 77]}, {'text': 'is', 'char_offset': [79, 80]}, {'text': 'given', 'char_offset': [82, 86]}, {'text': 'with', 'char_offset': [88, 91]}, {'text': 'benzodiazepines', 'char_offset': [93, 107]}, {'text': 'or', 'char_offset': [109, 110]}, {'text': 'barbiturates', 'char_offset': [112, 123]}, {'text': '.', 'char_offset': [124, 124]}]</td>\n",
       "      <td>[&lt;DrugEntity None 42-47 states group&gt;, &lt;DrugEntity None 63-77 levomepromazine drug&gt;, &lt;DrugEntity None 93-107 benzodiazepines group&gt;, &lt;DrugEntity None 112-123 barbiturates group&gt;]</td>\n",
       "    </tr>\n",
       "  </tbody>\n",
       "</table>\n",
       "</div>"
      ],
      "text/plain": [
       "                     id  \\\n",
       "0  DDI-DrugBank.d696.s0   \n",
       "1  DDI-DrugBank.d696.s1   \n",
       "2  DDI-DrugBank.d756.s0   \n",
       "3  DDI-DrugBank.d756.s1   \n",
       "4  DDI-DrugBank.d756.s2   \n",
       "\n",
       "                                                                                                                                                                         sentence  \\\n",
       "0                                                                                                        Methysergide may reverse the analgesic activity of narcotic analgesics.    \n",
       "1                         Concurrent use with vasoconstrictor agents including ergot alkaloids, sumatriptan, and nicotine (e.g. smoking) may result in enhanced vasoconstriction.   \n",
       "2  Dosages of concomitantly administered opioids should be reduced by approximately half, because levomepromazine amplifies the therapeutic actions and side-effects of opioids.    \n",
       "3                                                                                              Combination with tramadol (Ultram) is associated with increased risk of seizures.    \n",
       "4                                                  Additive sedative effects and confusional states may emerge if levomepromazine is given with benzodiazepines or barbiturates.    \n",
       "\n",
       "                                                                                                                                                                                                                                                         parsed_drugs  \\\n",
       "0                                                                                                                                 [<DrugEntity DDI-DrugBank.d696.s0.e0 0-11 Methysergide drug>, <DrugEntity DDI-DrugBank.d696.s0.e1 51-69 narcotic analgesics group>]   \n",
       "1  [<DrugEntity DDI-DrugBank.d696.s1.e0 20-41 vasoconstrictor agents group>, <DrugEntity DDI-DrugBank.d696.s1.e1 53-67 ergot alkaloids group>, <DrugEntity DDI-DrugBank.d696.s1.e2 70-80 sumatriptan drug>, <DrugEntity DDI-DrugBank.d696.s1.e3 87-94 nicotine drug>]   \n",
       "2                                                                            [<DrugEntity DDI-DrugBank.d756.s0.e0 38-44 opioids group>, <DrugEntity DDI-DrugBank.d756.s0.e1 95-109 levomepromazine drug>, <DrugEntity DDI-DrugBank.d756.s0.e2 165-171 opioids group>]   \n",
       "3                                                                                                                                                 [<DrugEntity DDI-DrugBank.d756.s1.e0 17-24 tramadol drug>, <DrugEntity DDI-DrugBank.d756.s1.e1 27-32 Ultram brand>]   \n",
       "4                                                               [<DrugEntity DDI-DrugBank.d756.s2.e0 63-77 levomepromazine drug>, <DrugEntity DDI-DrugBank.d756.s2.e1 93-107 benzodiazepines group>, <DrugEntity DDI-DrugBank.d756.s2.e2 112-123 barbiturates group>]   \n",
       "\n",
       "                                                                                                                                                                                                                                                                                                                                                                                                                                                                                                                                             parsed_pairs  \\\n",
       "0                                                                                                                                                                                                                                                                                                                                                                                                                                                             [<DrugPair DDI-DrugBank.d696.s0.p0 DDI-DrugBank.d696.s0.e0 DDI-DrugBank.d696.s0.e1 effect>]   \n",
       "1  [<DrugPair DDI-DrugBank.d696.s1.p0 DDI-DrugBank.d696.s1.e0 DDI-DrugBank.d696.s1.e1 None>, <DrugPair DDI-DrugBank.d696.s1.p1 DDI-DrugBank.d696.s1.e0 DDI-DrugBank.d696.s1.e2 None>, <DrugPair DDI-DrugBank.d696.s1.p2 DDI-DrugBank.d696.s1.e0 DDI-DrugBank.d696.s1.e3 None>, <DrugPair DDI-DrugBank.d696.s1.p3 DDI-DrugBank.d696.s1.e1 DDI-DrugBank.d696.s1.e2 None>, <DrugPair DDI-DrugBank.d696.s1.p4 DDI-DrugBank.d696.s1.e1 DDI-DrugBank.d696.s1.e3 None>, <DrugPair DDI-DrugBank.d696.s1.p5 DDI-DrugBank.d696.s1.e2 DDI-DrugBank.d696.s1.e3 None>]   \n",
       "2                                                                                                                                                                                                                                                                         [<DrugPair DDI-DrugBank.d756.s0.p0 DDI-DrugBank.d756.s0.e0 DDI-DrugBank.d756.s0.e1 effect>, <DrugPair DDI-DrugBank.d756.s0.p1 DDI-DrugBank.d756.s0.e0 DDI-DrugBank.d756.s0.e2 None>, <DrugPair DDI-DrugBank.d756.s0.p2 DDI-DrugBank.d756.s0.e1 DDI-DrugBank.d756.s0.e2 effect>]   \n",
       "3                                                                                                                                                                                                                                                                                                                                                                                                                                                               [<DrugPair DDI-DrugBank.d756.s1.p0 DDI-DrugBank.d756.s1.e0 DDI-DrugBank.d756.s1.e1 None>]   \n",
       "4                                                                                                                                                                                                                                                                         [<DrugPair DDI-DrugBank.d756.s2.p0 DDI-DrugBank.d756.s2.e0 DDI-DrugBank.d756.s2.e1 effect>, <DrugPair DDI-DrugBank.d756.s2.p1 DDI-DrugBank.d756.s2.e0 DDI-DrugBank.d756.s2.e2 effect>, <DrugPair DDI-DrugBank.d756.s2.p2 DDI-DrugBank.d756.s2.e1 DDI-DrugBank.d756.s2.e2 None>]   \n",
       "\n",
       "                                                                                                                                                                                                                                                                                                                                                                                                                                                                                                                                                                                                                                                                                                                                                                                                                                                                                                                                                                                                                                    tokens  \\\n",
       "0                                                                                                                                                                                                                                                                                                                                                                                                                                                                                                                                                                     [{'text': 'Methysergide', 'char_offset': [0, 11]}, {'text': 'may', 'char_offset': [13, 15]}, {'text': 'reverse', 'char_offset': [17, 23]}, {'text': 'the', 'char_offset': [25, 27]}, {'text': 'analgesic', 'char_offset': [29, 37]}, {'text': 'activity', 'char_offset': [39, 46]}, {'text': 'of', 'char_offset': [48, 49]}, {'text': 'narcotic', 'char_offset': [51, 69]}, {'text': 'analgesics', 'char_offset': [60, 69]}, {'text': '.', 'char_offset': [70, 70]}]   \n",
       "1  [{'text': 'Concurrent', 'char_offset': [0, 9]}, {'text': 'use', 'char_offset': [11, 13]}, {'text': 'with', 'char_offset': [15, 18]}, {'text': 'vasoconstrictor', 'char_offset': [20, 41]}, {'text': 'agents', 'char_offset': [36, 41]}, {'text': 'including', 'char_offset': [43, 51]}, {'text': 'ergot', 'char_offset': [53, 57]}, {'text': 'alkaloids', 'char_offset': [59, 67]}, {'text': ',', 'char_offset': [68, 68]}, {'text': 'sumatriptan', 'char_offset': [70, 80]}, {'text': ',', 'char_offset': [81, 81]}, {'text': 'and', 'char_offset': [83, 85]}, {'text': 'nicotine', 'char_offset': [87, 94]}, {'text': '(', 'char_offset': [96, 96]}, {'text': 'e.g', 'char_offset': [97, 99]}, {'text': '.', 'char_offset': [100, 100]}, {'text': 'smoking', 'char_offset': [102, 108]}, {'text': ')', 'char_offset': [109, 109]}, {'text': 'may', 'char_offset': [111, 113]}, {'text': 'result', 'char_offset': [115, 120]}, {'text': 'in', 'char_offset': [122, 123]}, {'text': 'enhanced', 'char_offset': [125, 132]}, {'text':...   \n",
       "2  [{'text': 'Dosages', 'char_offset': [0, 6]}, {'text': 'of', 'char_offset': [8, 9]}, {'text': 'concomitantly', 'char_offset': [11, 23]}, {'text': 'administered', 'char_offset': [25, 36]}, {'text': 'opioids', 'char_offset': [38, 44]}, {'text': 'should', 'char_offset': [46, 51]}, {'text': 'be', 'char_offset': [53, 54]}, {'text': 'reduced', 'char_offset': [56, 62]}, {'text': 'by', 'char_offset': [64, 65]}, {'text': 'approximately', 'char_offset': [67, 79]}, {'text': 'half', 'char_offset': [81, 84]}, {'text': ',', 'char_offset': [85, 85]}, {'text': 'because', 'char_offset': [87, 93]}, {'text': 'levomepromazine', 'char_offset': [95, 109]}, {'text': 'amplifies', 'char_offset': [111, 119]}, {'text': 'the', 'char_offset': [121, 123]}, {'text': 'therapeutic', 'char_offset': [125, 143]}, {'text': 'actions', 'char_offset': [137, 143]}, {'text': 'and', 'char_offset': [145, 147]}, {'text': 'side-effects', 'char_offset': [149, 160]}, {'text': 'of', 'char_offset': [162, 163]}, {'text': 'opioids', ...   \n",
       "3                                                                                                                                                                                                                                                                                                                                                                                                 [{'text': 'Combination', 'char_offset': [0, 10]}, {'text': 'with', 'char_offset': [12, 15]}, {'text': 'tramadol', 'char_offset': [17, 24]}, {'text': '(', 'char_offset': [26, 26]}, {'text': 'Ultram', 'char_offset': [27, 32]}, {'text': ')', 'char_offset': [33, 33]}, {'text': 'is', 'char_offset': [35, 36]}, {'text': 'associated', 'char_offset': [38, 47]}, {'text': 'with', 'char_offset': [49, 52]}, {'text': 'increased', 'char_offset': [54, 62]}, {'text': 'risk', 'char_offset': [64, 67]}, {'text': 'of', 'char_offset': [69, 70]}, {'text': 'seizures', 'char_offset': [72, 79]}, {'text': '.', 'char_offset': [80, 80]}]   \n",
       "4                                                                                                                                                                                                                                [{'text': 'Additive', 'char_offset': [0, 7]}, {'text': 'sedative', 'char_offset': [9, 16]}, {'text': 'effects', 'char_offset': [18, 24]}, {'text': 'and', 'char_offset': [26, 28]}, {'text': 'confusional', 'char_offset': [30, 40]}, {'text': 'states', 'char_offset': [42, 47]}, {'text': 'may', 'char_offset': [49, 51]}, {'text': 'emerge', 'char_offset': [53, 58]}, {'text': 'if', 'char_offset': [60, 61]}, {'text': 'levomepromazine', 'char_offset': [63, 77]}, {'text': 'is', 'char_offset': [79, 80]}, {'text': 'given', 'char_offset': [82, 86]}, {'text': 'with', 'char_offset': [88, 91]}, {'text': 'benzodiazepines', 'char_offset': [93, 107]}, {'text': 'or', 'char_offset': [109, 110]}, {'text': 'barbiturates', 'char_offset': [112, 123]}, {'text': '.', 'char_offset': [124, 124]}]   \n",
       "\n",
       "                                                                                                                                                                                  drugs  \n",
       "0                                                                                         [<DrugEntity None 0-11 Methysergide drug>, <DrugEntity None 51-69 narcotic analgesics group>]  \n",
       "1                                                [<DrugEntity None 20-41 vasoconstrictor agents group>, <DrugEntity None 59-67 alkaloids group>, <DrugEntity None 87-94 nicotine drug>]  \n",
       "2  [<DrugEntity None 38-44 opioids group>, <DrugEntity None 95-109 levomepromazine drug>, <DrugEntity None 125-143 therapeutic actions group>, <DrugEntity None 165-171 opioids group>]  \n",
       "3                                                                                                                                                                                    []  \n",
       "4    [<DrugEntity None 42-47 states group>, <DrugEntity None 63-77 levomepromazine drug>, <DrugEntity None 93-107 benzodiazepines group>, <DrugEntity None 112-123 barbiturates group>]  "
      ]
     },
     "execution_count": 5,
     "metadata": {},
     "output_type": "execute_result"
    }
   ],
   "source": [
    "df.head()"
   ]
  },
  {
   "cell_type": "code",
   "execution_count": 6,
   "metadata": {},
   "outputs": [],
   "source": [
    "Writer(out_file).call(df, col_names=['drugs'])\n",
    "pass"
   ]
  },
  {
   "cell_type": "code",
   "execution_count": 7,
   "metadata": {},
   "outputs": [
    {
     "name": "stdout",
     "output_type": "stream",
     "text": [
      "MACRO-AVERAGE MEASURES:\n",
      "P\tR\tF1\n",
      "0.46\t0.45\t0.45\n"
     ]
    }
   ],
   "source": [
    "results = !java -jar ../bin/evaluateNER.jar {bank_dir} {out_file}\n",
    "!rm {out_folder}*.log *.txt\n",
    "print('\\n'.join(results[-5:-2]))"
   ]
  }
 ],
 "metadata": {
  "kernelspec": {
   "display_name": "Python 3",
   "language": "python",
   "name": "python3"
  },
  "language_info": {
   "codemirror_mode": {
    "name": "ipython",
    "version": 3
   },
   "file_extension": ".py",
   "mimetype": "text/x-python",
   "name": "python",
   "nbconvert_exporter": "python",
   "pygments_lexer": "ipython3",
   "version": "3.6.0"
  }
 },
 "nbformat": 4,
 "nbformat_minor": 2
}
