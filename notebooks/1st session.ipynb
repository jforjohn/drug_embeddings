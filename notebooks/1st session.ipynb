{
 "cells": [
  {
   "cell_type": "code",
   "execution_count": 1,
   "metadata": {},
   "outputs": [],
   "source": [
    "import sys; sys.path.append('../src')\n",
    "\n",
    "from input_output.parser import Parser\n",
    "from input_output.writer import Writer\n",
    "from preprocessing.tokenizer import tokenize\n",
    "from models.rules import classify_token, classify_tokens\n",
    "import pandas as pd"
   ]
  },
  {
   "cell_type": "code",
   "execution_count": 2,
   "metadata": {},
   "outputs": [],
   "source": [
    "pd.set_option('display.max_rows', 500)\n",
    "pd.set_option('display.max_columns', 500)\n",
    "pd.set_option('display.max_colwidth', 1000)"
   ]
  },
  {
   "cell_type": "code",
   "execution_count": 3,
   "metadata": {},
   "outputs": [],
   "source": [
    "bank_type = 'DDI'\n",
    "bank_name = 'DrugBank'\n",
    "bank_dir = f'../resources/Test-{bank_type}/{bank_name}/'\n",
    "\n",
    "out_file_name = 'task9.2_UC3M_1.txt'\n",
    "out_folder = '../out/'\n",
    "out_file = f'{out_folder}{out_file_name}'"
   ]
  },
  {
   "cell_type": "code",
   "execution_count": 4,
   "metadata": {},
   "outputs": [],
   "source": [
    "df = Parser(bank_dir).call()\n",
    "\n",
    "df['tokens'] = df['sentence'].apply(tokenize)\n",
    "df['drugs'] = df['tokens'].apply(classify_tokens)"
   ]
  },
  {
   "cell_type": "code",
   "execution_count": 5,
   "metadata": {},
   "outputs": [
    {
     "data": {
      "text/html": [
       "<div>\n",
       "<style scoped>\n",
       "    .dataframe tbody tr th:only-of-type {\n",
       "        vertical-align: middle;\n",
       "    }\n",
       "\n",
       "    .dataframe tbody tr th {\n",
       "        vertical-align: top;\n",
       "    }\n",
       "\n",
       "    .dataframe thead th {\n",
       "        text-align: right;\n",
       "    }\n",
       "</style>\n",
       "<table border=\"1\" class=\"dataframe\">\n",
       "  <thead>\n",
       "    <tr style=\"text-align: right;\">\n",
       "      <th></th>\n",
       "      <th>id</th>\n",
       "      <th>sentence</th>\n",
       "      <th>parsed_drugs</th>\n",
       "      <th>parsed_pairs</th>\n",
       "      <th>tokens</th>\n",
       "      <th>drugs</th>\n",
       "    </tr>\n",
       "  </thead>\n",
       "  <tbody>\n",
       "    <tr>\n",
       "      <th>0</th>\n",
       "      <td>DDI-DrugBank.d610.s0</td>\n",
       "      <td>Pharmacokinetic properties of abacavir were not altered by the addition of either lamivudine or zidovudine or the combination of lamivudine and zidovudine.</td>\n",
       "      <td>[&lt;DrugEntity DDI-DrugBank.d610.s0.e0 30-37 abacavir drug&gt;, &lt;DrugEntity DDI-DrugBank.d610.s0.e1 82-91 lamivudine drug&gt;, &lt;DrugEntity DDI-DrugBank.d610.s0.e2 96-105 zidovudine drug&gt;, &lt;DrugEntity DDI-DrugBank.d610.s0.e3 129-138 lamivudine drug&gt;, &lt;DrugEntity DDI-DrugBank.d610.s0.e4 144-153 zidovudine drug&gt;]</td>\n",
       "      <td>[&lt;DrugPair DDI-DrugBank.d610.s0.p0 DDI-DrugBank.d610.s0.e0 DDI-DrugBank.d610.s0.e1 None&gt;, &lt;DrugPair DDI-DrugBank.d610.s0.p1 DDI-DrugBank.d610.s0.e0 DDI-DrugBank.d610.s0.e2 None&gt;, &lt;DrugPair DDI-DrugBank.d610.s0.p2 DDI-DrugBank.d610.s0.e0 DDI-DrugBank.d610.s0.e3 None&gt;, &lt;DrugPair DDI-DrugBank.d610.s0.p3 DDI-DrugBank.d610.s0.e0 DDI-DrugBank.d610.s0.e4 None&gt;, &lt;DrugPair DDI-DrugBank.d610.s0.p4 DDI-DrugBank.d610.s0.e1 DDI-DrugBank.d610.s0.e2 None&gt;, &lt;DrugPair DDI-DrugBank.d610.s0.p5 DDI-DrugBank.d610.s0.e1 DDI-DrugBank.d610.s0.e3 None&gt;, &lt;DrugPair DDI-DrugBank.d610.s0.p6 DDI-DrugBank.d610.s0.e1 DDI-DrugBank.d610.s0.e4 None&gt;, &lt;DrugPair DDI-DrugBank.d610.s0.p7 DDI-DrugBank.d610.s0.e2 DDI-DrugBank.d610.s0.e3 None&gt;, &lt;DrugPair DDI-DrugBank.d610.s0.p8 DDI-DrugBank.d610.s0.e2 DDI-DrugBank.d610.s0.e4 None&gt;, &lt;DrugPair DDI-DrugBank.d610.s0.p9 DDI-DrugBank.d610.s0.e3 DDI-DrugBank.d610.s0.e4 None&gt;]</td>\n",
       "      <td>[{'text': 'Pharmacokinetic', 'char_offset': [0, 14]}, {'text': 'properties', 'char_offset': [16, 25]}, {'text': 'of', 'char_offset': [27, 28]}, {'text': 'abacavir', 'char_offset': [30, 37]}, {'text': 'were', 'char_offset': [39, 42]}, {'text': 'not', 'char_offset': [44, 46]}, {'text': 'altered', 'char_offset': [48, 54]}, {'text': 'by', 'char_offset': [56, 57]}, {'text': 'the', 'char_offset': [59, 61]}, {'text': 'addition', 'char_offset': [63, 70]}, {'text': 'of', 'char_offset': [72, 73]}, {'text': 'either', 'char_offset': [75, 80]}, {'text': 'lamivudine', 'char_offset': [82, 91]}, {'text': 'or', 'char_offset': [93, 94]}, {'text': 'zidovudine', 'char_offset': [96, 105]}, {'text': 'or', 'char_offset': [107, 108]}, {'text': 'the', 'char_offset': [110, 112]}, {'text': 'combination', 'char_offset': [114, 124]}, {'text': 'of', 'char_offset': [126, 127]}, {'text': 'lamivudine', 'char_offset': [129, 138]}, {'text': 'and', 'char_offset': [140, 142]}, {'text': 'zidovudine', 'char_offset': [14...</td>\n",
       "      <td>[&lt;DrugEntity None 0-14 Pharmacokinetic group&gt;, &lt;DrugEntity None 30-37 abacavir drug&gt;, &lt;DrugEntity None 82-91 lamivudine drug&gt;, &lt;DrugEntity None 96-105 zidovudine drug&gt;, &lt;DrugEntity None 129-138 lamivudine drug&gt;, &lt;DrugEntity None 144-153 zidovudine drug&gt;]</td>\n",
       "    </tr>\n",
       "    <tr>\n",
       "      <th>1</th>\n",
       "      <td>DDI-DrugBank.d610.s1</td>\n",
       "      <td>No clinically significant changes to lamivudine or zidovudine pharmacokinetics were observed following concomitant administration of abacavir.</td>\n",
       "      <td>[&lt;DrugEntity DDI-DrugBank.d610.s1.e0 37-46 lamivudine drug&gt;, &lt;DrugEntity DDI-DrugBank.d610.s1.e1 51-60 zidovudine drug&gt;, &lt;DrugEntity DDI-DrugBank.d610.s1.e2 133-140 abacavir drug&gt;]</td>\n",
       "      <td>[&lt;DrugPair DDI-DrugBank.d610.s1.p0 DDI-DrugBank.d610.s1.e0 DDI-DrugBank.d610.s1.e1 None&gt;, &lt;DrugPair DDI-DrugBank.d610.s1.p1 DDI-DrugBank.d610.s1.e0 DDI-DrugBank.d610.s1.e2 None&gt;, &lt;DrugPair DDI-DrugBank.d610.s1.p2 DDI-DrugBank.d610.s1.e1 DDI-DrugBank.d610.s1.e2 None&gt;]</td>\n",
       "      <td>[{'text': 'No', 'char_offset': [0, 1]}, {'text': 'clinically', 'char_offset': [3, 12]}, {'text': 'significant', 'char_offset': [14, 24]}, {'text': 'changes', 'char_offset': [26, 32]}, {'text': 'to', 'char_offset': [34, 35]}, {'text': 'lamivudine', 'char_offset': [37, 46]}, {'text': 'or', 'char_offset': [48, 49]}, {'text': 'zidovudine', 'char_offset': [51, 60]}, {'text': 'pharmacokinetics', 'char_offset': [62, 77]}, {'text': 'were', 'char_offset': [79, 82]}, {'text': 'observed', 'char_offset': [84, 91]}, {'text': 'following', 'char_offset': [93, 101]}, {'text': 'concomitant', 'char_offset': [103, 113]}, {'text': 'administration', 'char_offset': [115, 128]}, {'text': 'of', 'char_offset': [130, 131]}, {'text': 'abacavir', 'char_offset': [133, 140]}, {'text': '.', 'char_offset': [141, 141]}]</td>\n",
       "      <td>[&lt;DrugEntity None 14-24 significant group&gt;, &lt;DrugEntity None 37-46 lamivudine drug&gt;, &lt;DrugEntity None 51-60 zidovudine drug&gt;, &lt;DrugEntity None 62-77 pharmacokinetics group&gt;, &lt;DrugEntity None 103-113 concomitant group&gt;, &lt;DrugEntity None 133-140 abacavir drug&gt;]</td>\n",
       "    </tr>\n",
       "    <tr>\n",
       "      <th>2</th>\n",
       "      <td>DDI-DrugBank.d610.s2</td>\n",
       "      <td>Abacavir has no effect on the pharmacokinetic properties of ethanol.</td>\n",
       "      <td>[&lt;DrugEntity DDI-DrugBank.d610.s2.e0 0-7 Abacavir drug&gt;, &lt;DrugEntity DDI-DrugBank.d610.s2.e1 60-66 ethanol drug&gt;]</td>\n",
       "      <td>[&lt;DrugPair DDI-DrugBank.d610.s2.p0 DDI-DrugBank.d610.s2.e0 DDI-DrugBank.d610.s2.e1 None&gt;]</td>\n",
       "      <td>[{'text': 'Abacavir', 'char_offset': [0, 7]}, {'text': 'has', 'char_offset': [9, 11]}, {'text': 'no', 'char_offset': [13, 14]}, {'text': 'effect', 'char_offset': [16, 21]}, {'text': 'on', 'char_offset': [23, 24]}, {'text': 'the', 'char_offset': [26, 28]}, {'text': 'pharmacokinetic', 'char_offset': [30, 44]}, {'text': 'properties', 'char_offset': [46, 55]}, {'text': 'of', 'char_offset': [57, 58]}, {'text': 'ethanol', 'char_offset': [60, 66]}, {'text': '.', 'char_offset': [67, 67]}]</td>\n",
       "      <td>[&lt;DrugEntity None 0-7 Abacavir drug&gt;, &lt;DrugEntity None 30-44 pharmacokinetic group&gt;, &lt;DrugEntity None 60-66 ethanol drug&gt;]</td>\n",
       "    </tr>\n",
       "    <tr>\n",
       "      <th>3</th>\n",
       "      <td>DDI-DrugBank.d610.s3</td>\n",
       "      <td>Ethanol decreases the elimination of abacavir causing an increase in overall exposure . The addition of methadone has no clinically significant effect on the pharmacokinetic properties of abacavir.</td>\n",
       "      <td>[&lt;DrugEntity DDI-DrugBank.d610.s3.e0 0-6 Ethanol drug&gt;, &lt;DrugEntity DDI-DrugBank.d610.s3.e1 37-44 abacavir drug&gt;, &lt;DrugEntity DDI-DrugBank.d610.s3.e2 104-112 methadone drug&gt;, &lt;DrugEntity DDI-DrugBank.d610.s3.e3 188-195 abacavir drug&gt;]</td>\n",
       "      <td>[&lt;DrugPair DDI-DrugBank.d610.s3.p0 DDI-DrugBank.d610.s3.e0 DDI-DrugBank.d610.s3.e1 mechanism&gt;, &lt;DrugPair DDI-DrugBank.d610.s3.p1 DDI-DrugBank.d610.s3.e0 DDI-DrugBank.d610.s3.e2 None&gt;, &lt;DrugPair DDI-DrugBank.d610.s3.p2 DDI-DrugBank.d610.s3.e0 DDI-DrugBank.d610.s3.e3 None&gt;, &lt;DrugPair DDI-DrugBank.d610.s3.p3 DDI-DrugBank.d610.s3.e1 DDI-DrugBank.d610.s3.e2 None&gt;, &lt;DrugPair DDI-DrugBank.d610.s3.p4 DDI-DrugBank.d610.s3.e1 DDI-DrugBank.d610.s3.e3 None&gt;, &lt;DrugPair DDI-DrugBank.d610.s3.p5 DDI-DrugBank.d610.s3.e2 DDI-DrugBank.d610.s3.e3 None&gt;]</td>\n",
       "      <td>[{'text': 'Ethanol', 'char_offset': [0, 6]}, {'text': 'decreases', 'char_offset': [8, 16]}, {'text': 'the', 'char_offset': [18, 20]}, {'text': 'elimination', 'char_offset': [22, 32]}, {'text': 'of', 'char_offset': [34, 35]}, {'text': 'abacavir', 'char_offset': [37, 44]}, {'text': 'causing', 'char_offset': [46, 52]}, {'text': 'an', 'char_offset': [54, 55]}, {'text': 'increase', 'char_offset': [57, 64]}, {'text': 'in', 'char_offset': [66, 67]}, {'text': 'overall', 'char_offset': [69, 75]}, {'text': 'exposure', 'char_offset': [77, 84]}, {'text': '.', 'char_offset': [86, 86]}, {'text': 'The', 'char_offset': [88, 90]}, {'text': 'addition', 'char_offset': [92, 99]}, {'text': 'of', 'char_offset': [101, 102]}, {'text': 'methadone', 'char_offset': [104, 112]}, {'text': 'has', 'char_offset': [114, 116]}, {'text': 'no', 'char_offset': [118, 119]}, {'text': 'clinically', 'char_offset': [121, 130]}, {'text': 'significant', 'char_offset': [132, 142]}, {'text': 'effect', 'char_offset': [144, 149]...</td>\n",
       "      <td>[&lt;DrugEntity None 0-6 Ethanol drug&gt;, &lt;DrugEntity None 37-44 abacavir drug&gt;, &lt;DrugEntity None 104-112 methadone drug&gt;, &lt;DrugEntity None 132-142 significant group&gt;, &lt;DrugEntity None 158-172 pharmacokinetic group&gt;, &lt;DrugEntity None 188-195 abacavir drug&gt;]</td>\n",
       "    </tr>\n",
       "    <tr>\n",
       "      <th>4</th>\n",
       "      <td>DDI-DrugBank.d610.s4</td>\n",
       "      <td>In a study of 11 HIV-infected patients receiving methadone-maintenance therapy (40 mg and 90 mg daily) with 600 mg of ZIAGEN twice daily (twice the currently recommended dose), oral methadone clearance increased 22% (90% CI 6% to 42%).</td>\n",
       "      <td>[&lt;DrugEntity DDI-DrugBank.d610.s4.e0 49-57 methadone drug&gt;, &lt;DrugEntity DDI-DrugBank.d610.s4.e1 118-123 ZIAGEN brand&gt;, &lt;DrugEntity DDI-DrugBank.d610.s4.e2 182-190 methadone drug&gt;]</td>\n",
       "      <td>[&lt;DrugPair DDI-DrugBank.d610.s4.p0 DDI-DrugBank.d610.s4.e0 DDI-DrugBank.d610.s4.e1 mechanism&gt;, &lt;DrugPair DDI-DrugBank.d610.s4.p1 DDI-DrugBank.d610.s4.e0 DDI-DrugBank.d610.s4.e2 None&gt;, &lt;DrugPair DDI-DrugBank.d610.s4.p2 DDI-DrugBank.d610.s4.e1 DDI-DrugBank.d610.s4.e2 None&gt;]</td>\n",
       "      <td>[{'text': 'In', 'char_offset': [0, 1]}, {'text': 'a', 'char_offset': [3, 3]}, {'text': 'study', 'char_offset': [5, 9]}, {'text': 'of', 'char_offset': [11, 12]}, {'text': '11', 'char_offset': [14, 15]}, {'text': 'HIV-infected', 'char_offset': [17, 28]}, {'text': 'patients', 'char_offset': [30, 37]}, {'text': 'receiving', 'char_offset': [39, 47]}, {'text': 'methadone-maintenance', 'char_offset': [49, 69]}, {'text': 'therapy', 'char_offset': [71, 77]}, {'text': '(', 'char_offset': [79, 79]}, {'text': '40', 'char_offset': [80, 81]}, {'text': 'mg', 'char_offset': [83, 84]}, {'text': 'and', 'char_offset': [86, 88]}, {'text': '90', 'char_offset': [90, 91]}, {'text': 'mg', 'char_offset': [93, 94]}, {'text': 'daily', 'char_offset': [96, 100]}, {'text': ')', 'char_offset': [101, 101]}, {'text': 'with', 'char_offset': [103, 106]}, {'text': '600', 'char_offset': [108, 110]}, {'text': 'mg', 'char_offset': [112, 113]}, {'text': 'of', 'char_offset': [115, 116]}, {'text': 'ZIAGEN', 'char_offset': ...</td>\n",
       "      <td>[&lt;DrugEntity None 30-37 patients group&gt;, &lt;DrugEntity None 118-123 ZIAGEN brand&gt;, &lt;DrugEntity None 182-190 methadone drug&gt;, &lt;DrugEntity None 221-222 CI brand&gt;]</td>\n",
       "    </tr>\n",
       "  </tbody>\n",
       "</table>\n",
       "</div>"
      ],
      "text/plain": [
       "                     id  \\\n",
       "0  DDI-DrugBank.d610.s0   \n",
       "1  DDI-DrugBank.d610.s1   \n",
       "2  DDI-DrugBank.d610.s2   \n",
       "3  DDI-DrugBank.d610.s3   \n",
       "4  DDI-DrugBank.d610.s4   \n",
       "\n",
       "                                                                                                                                                                                                                                       sentence  \\\n",
       "0                                                                                  Pharmacokinetic properties of abacavir were not altered by the addition of either lamivudine or zidovudine or the combination of lamivudine and zidovudine.    \n",
       "1                                                                                               No clinically significant changes to lamivudine or zidovudine pharmacokinetics were observed following concomitant administration of abacavir.    \n",
       "2                                                                                                                                                                         Abacavir has no effect on the pharmacokinetic properties of ethanol.    \n",
       "3                                        Ethanol decreases the elimination of abacavir causing an increase in overall exposure . The addition of methadone has no clinically significant effect on the pharmacokinetic properties of abacavir.    \n",
       "4  In a study of 11 HIV-infected patients receiving methadone-maintenance therapy (40 mg and 90 mg daily) with 600 mg of ZIAGEN twice daily (twice the currently recommended dose), oral methadone clearance increased 22% (90% CI 6% to 42%).    \n",
       "\n",
       "                                                                                                                                                                                                                                                                                                      parsed_drugs  \\\n",
       "0  [<DrugEntity DDI-DrugBank.d610.s0.e0 30-37 abacavir drug>, <DrugEntity DDI-DrugBank.d610.s0.e1 82-91 lamivudine drug>, <DrugEntity DDI-DrugBank.d610.s0.e2 96-105 zidovudine drug>, <DrugEntity DDI-DrugBank.d610.s0.e3 129-138 lamivudine drug>, <DrugEntity DDI-DrugBank.d610.s0.e4 144-153 zidovudine drug>]   \n",
       "1                                                                                                                             [<DrugEntity DDI-DrugBank.d610.s1.e0 37-46 lamivudine drug>, <DrugEntity DDI-DrugBank.d610.s1.e1 51-60 zidovudine drug>, <DrugEntity DDI-DrugBank.d610.s1.e2 133-140 abacavir drug>]   \n",
       "2                                                                                                                                                                                                [<DrugEntity DDI-DrugBank.d610.s2.e0 0-7 Abacavir drug>, <DrugEntity DDI-DrugBank.d610.s2.e1 60-66 ethanol drug>]   \n",
       "3                                                                       [<DrugEntity DDI-DrugBank.d610.s3.e0 0-6 Ethanol drug>, <DrugEntity DDI-DrugBank.d610.s3.e1 37-44 abacavir drug>, <DrugEntity DDI-DrugBank.d610.s3.e2 104-112 methadone drug>, <DrugEntity DDI-DrugBank.d610.s3.e3 188-195 abacavir drug>]   \n",
       "4                                                                                                                              [<DrugEntity DDI-DrugBank.d610.s4.e0 49-57 methadone drug>, <DrugEntity DDI-DrugBank.d610.s4.e1 118-123 ZIAGEN brand>, <DrugEntity DDI-DrugBank.d610.s4.e2 182-190 methadone drug>]   \n",
       "\n",
       "                                                                                                                                                                                                                                                                                                                                                                                                                                                                                                                                                                                                                                                                                                                                                                                                                                                                                                                 parsed_pairs  \\\n",
       "0  [<DrugPair DDI-DrugBank.d610.s0.p0 DDI-DrugBank.d610.s0.e0 DDI-DrugBank.d610.s0.e1 None>, <DrugPair DDI-DrugBank.d610.s0.p1 DDI-DrugBank.d610.s0.e0 DDI-DrugBank.d610.s0.e2 None>, <DrugPair DDI-DrugBank.d610.s0.p2 DDI-DrugBank.d610.s0.e0 DDI-DrugBank.d610.s0.e3 None>, <DrugPair DDI-DrugBank.d610.s0.p3 DDI-DrugBank.d610.s0.e0 DDI-DrugBank.d610.s0.e4 None>, <DrugPair DDI-DrugBank.d610.s0.p4 DDI-DrugBank.d610.s0.e1 DDI-DrugBank.d610.s0.e2 None>, <DrugPair DDI-DrugBank.d610.s0.p5 DDI-DrugBank.d610.s0.e1 DDI-DrugBank.d610.s0.e3 None>, <DrugPair DDI-DrugBank.d610.s0.p6 DDI-DrugBank.d610.s0.e1 DDI-DrugBank.d610.s0.e4 None>, <DrugPair DDI-DrugBank.d610.s0.p7 DDI-DrugBank.d610.s0.e2 DDI-DrugBank.d610.s0.e3 None>, <DrugPair DDI-DrugBank.d610.s0.p8 DDI-DrugBank.d610.s0.e2 DDI-DrugBank.d610.s0.e4 None>, <DrugPair DDI-DrugBank.d610.s0.p9 DDI-DrugBank.d610.s0.e3 DDI-DrugBank.d610.s0.e4 None>]   \n",
       "1                                                                                                                                                                                                                                                                                                                                                                                                                                                                                                                                                                                                                                                 [<DrugPair DDI-DrugBank.d610.s1.p0 DDI-DrugBank.d610.s1.e0 DDI-DrugBank.d610.s1.e1 None>, <DrugPair DDI-DrugBank.d610.s1.p1 DDI-DrugBank.d610.s1.e0 DDI-DrugBank.d610.s1.e2 None>, <DrugPair DDI-DrugBank.d610.s1.p2 DDI-DrugBank.d610.s1.e1 DDI-DrugBank.d610.s1.e2 None>]   \n",
       "2                                                                                                                                                                                                                                                                                                                                                                                                                                                                                                                                                                                                                                                                                                                                                                                                                                   [<DrugPair DDI-DrugBank.d610.s2.p0 DDI-DrugBank.d610.s2.e0 DDI-DrugBank.d610.s2.e1 None>]   \n",
       "3                                                                                                                                                                                                                                                                                                                                                                 [<DrugPair DDI-DrugBank.d610.s3.p0 DDI-DrugBank.d610.s3.e0 DDI-DrugBank.d610.s3.e1 mechanism>, <DrugPair DDI-DrugBank.d610.s3.p1 DDI-DrugBank.d610.s3.e0 DDI-DrugBank.d610.s3.e2 None>, <DrugPair DDI-DrugBank.d610.s3.p2 DDI-DrugBank.d610.s3.e0 DDI-DrugBank.d610.s3.e3 None>, <DrugPair DDI-DrugBank.d610.s3.p3 DDI-DrugBank.d610.s3.e1 DDI-DrugBank.d610.s3.e2 None>, <DrugPair DDI-DrugBank.d610.s3.p4 DDI-DrugBank.d610.s3.e1 DDI-DrugBank.d610.s3.e3 None>, <DrugPair DDI-DrugBank.d610.s3.p5 DDI-DrugBank.d610.s3.e2 DDI-DrugBank.d610.s3.e3 None>]   \n",
       "4                                                                                                                                                                                                                                                                                                                                                                                                                                                                                                                                                                                                                                            [<DrugPair DDI-DrugBank.d610.s4.p0 DDI-DrugBank.d610.s4.e0 DDI-DrugBank.d610.s4.e1 mechanism>, <DrugPair DDI-DrugBank.d610.s4.p1 DDI-DrugBank.d610.s4.e0 DDI-DrugBank.d610.s4.e2 None>, <DrugPair DDI-DrugBank.d610.s4.p2 DDI-DrugBank.d610.s4.e1 DDI-DrugBank.d610.s4.e2 None>]   \n",
       "\n",
       "                                                                                                                                                                                                                                                                                                                                                                                                                                                                                                                                                                                                                                                                                                                                                                                                                                                                                                                                                                                                                                    tokens  \\\n",
       "0  [{'text': 'Pharmacokinetic', 'char_offset': [0, 14]}, {'text': 'properties', 'char_offset': [16, 25]}, {'text': 'of', 'char_offset': [27, 28]}, {'text': 'abacavir', 'char_offset': [30, 37]}, {'text': 'were', 'char_offset': [39, 42]}, {'text': 'not', 'char_offset': [44, 46]}, {'text': 'altered', 'char_offset': [48, 54]}, {'text': 'by', 'char_offset': [56, 57]}, {'text': 'the', 'char_offset': [59, 61]}, {'text': 'addition', 'char_offset': [63, 70]}, {'text': 'of', 'char_offset': [72, 73]}, {'text': 'either', 'char_offset': [75, 80]}, {'text': 'lamivudine', 'char_offset': [82, 91]}, {'text': 'or', 'char_offset': [93, 94]}, {'text': 'zidovudine', 'char_offset': [96, 105]}, {'text': 'or', 'char_offset': [107, 108]}, {'text': 'the', 'char_offset': [110, 112]}, {'text': 'combination', 'char_offset': [114, 124]}, {'text': 'of', 'char_offset': [126, 127]}, {'text': 'lamivudine', 'char_offset': [129, 138]}, {'text': 'and', 'char_offset': [140, 142]}, {'text': 'zidovudine', 'char_offset': [14...   \n",
       "1                                                                                                                                                                                                           [{'text': 'No', 'char_offset': [0, 1]}, {'text': 'clinically', 'char_offset': [3, 12]}, {'text': 'significant', 'char_offset': [14, 24]}, {'text': 'changes', 'char_offset': [26, 32]}, {'text': 'to', 'char_offset': [34, 35]}, {'text': 'lamivudine', 'char_offset': [37, 46]}, {'text': 'or', 'char_offset': [48, 49]}, {'text': 'zidovudine', 'char_offset': [51, 60]}, {'text': 'pharmacokinetics', 'char_offset': [62, 77]}, {'text': 'were', 'char_offset': [79, 82]}, {'text': 'observed', 'char_offset': [84, 91]}, {'text': 'following', 'char_offset': [93, 101]}, {'text': 'concomitant', 'char_offset': [103, 113]}, {'text': 'administration', 'char_offset': [115, 128]}, {'text': 'of', 'char_offset': [130, 131]}, {'text': 'abacavir', 'char_offset': [133, 140]}, {'text': '.', 'char_offset': [141, 141]}]   \n",
       "2                                                                                                                                                                                                                                                                                                                                                                                                                                                                                                                                    [{'text': 'Abacavir', 'char_offset': [0, 7]}, {'text': 'has', 'char_offset': [9, 11]}, {'text': 'no', 'char_offset': [13, 14]}, {'text': 'effect', 'char_offset': [16, 21]}, {'text': 'on', 'char_offset': [23, 24]}, {'text': 'the', 'char_offset': [26, 28]}, {'text': 'pharmacokinetic', 'char_offset': [30, 44]}, {'text': 'properties', 'char_offset': [46, 55]}, {'text': 'of', 'char_offset': [57, 58]}, {'text': 'ethanol', 'char_offset': [60, 66]}, {'text': '.', 'char_offset': [67, 67]}]   \n",
       "3  [{'text': 'Ethanol', 'char_offset': [0, 6]}, {'text': 'decreases', 'char_offset': [8, 16]}, {'text': 'the', 'char_offset': [18, 20]}, {'text': 'elimination', 'char_offset': [22, 32]}, {'text': 'of', 'char_offset': [34, 35]}, {'text': 'abacavir', 'char_offset': [37, 44]}, {'text': 'causing', 'char_offset': [46, 52]}, {'text': 'an', 'char_offset': [54, 55]}, {'text': 'increase', 'char_offset': [57, 64]}, {'text': 'in', 'char_offset': [66, 67]}, {'text': 'overall', 'char_offset': [69, 75]}, {'text': 'exposure', 'char_offset': [77, 84]}, {'text': '.', 'char_offset': [86, 86]}, {'text': 'The', 'char_offset': [88, 90]}, {'text': 'addition', 'char_offset': [92, 99]}, {'text': 'of', 'char_offset': [101, 102]}, {'text': 'methadone', 'char_offset': [104, 112]}, {'text': 'has', 'char_offset': [114, 116]}, {'text': 'no', 'char_offset': [118, 119]}, {'text': 'clinically', 'char_offset': [121, 130]}, {'text': 'significant', 'char_offset': [132, 142]}, {'text': 'effect', 'char_offset': [144, 149]...   \n",
       "4  [{'text': 'In', 'char_offset': [0, 1]}, {'text': 'a', 'char_offset': [3, 3]}, {'text': 'study', 'char_offset': [5, 9]}, {'text': 'of', 'char_offset': [11, 12]}, {'text': '11', 'char_offset': [14, 15]}, {'text': 'HIV-infected', 'char_offset': [17, 28]}, {'text': 'patients', 'char_offset': [30, 37]}, {'text': 'receiving', 'char_offset': [39, 47]}, {'text': 'methadone-maintenance', 'char_offset': [49, 69]}, {'text': 'therapy', 'char_offset': [71, 77]}, {'text': '(', 'char_offset': [79, 79]}, {'text': '40', 'char_offset': [80, 81]}, {'text': 'mg', 'char_offset': [83, 84]}, {'text': 'and', 'char_offset': [86, 88]}, {'text': '90', 'char_offset': [90, 91]}, {'text': 'mg', 'char_offset': [93, 94]}, {'text': 'daily', 'char_offset': [96, 100]}, {'text': ')', 'char_offset': [101, 101]}, {'text': 'with', 'char_offset': [103, 106]}, {'text': '600', 'char_offset': [108, 110]}, {'text': 'mg', 'char_offset': [112, 113]}, {'text': 'of', 'char_offset': [115, 116]}, {'text': 'ZIAGEN', 'char_offset': ...   \n",
       "\n",
       "                                                                                                                                                                                                                                                                 drugs  \n",
       "0       [<DrugEntity None 0-14 Pharmacokinetic group>, <DrugEntity None 30-37 abacavir drug>, <DrugEntity None 82-91 lamivudine drug>, <DrugEntity None 96-105 zidovudine drug>, <DrugEntity None 129-138 lamivudine drug>, <DrugEntity None 144-153 zidovudine drug>]  \n",
       "1  [<DrugEntity None 14-24 significant group>, <DrugEntity None 37-46 lamivudine drug>, <DrugEntity None 51-60 zidovudine drug>, <DrugEntity None 62-77 pharmacokinetics group>, <DrugEntity None 103-113 concomitant group>, <DrugEntity None 133-140 abacavir drug>]  \n",
       "2                                                                                                                                           [<DrugEntity None 0-7 Abacavir drug>, <DrugEntity None 30-44 pharmacokinetic group>, <DrugEntity None 60-66 ethanol drug>]  \n",
       "3         [<DrugEntity None 0-6 Ethanol drug>, <DrugEntity None 37-44 abacavir drug>, <DrugEntity None 104-112 methadone drug>, <DrugEntity None 132-142 significant group>, <DrugEntity None 158-172 pharmacokinetic group>, <DrugEntity None 188-195 abacavir drug>]  \n",
       "4                                                                                                       [<DrugEntity None 30-37 patients group>, <DrugEntity None 118-123 ZIAGEN brand>, <DrugEntity None 182-190 methadone drug>, <DrugEntity None 221-222 CI brand>]  "
      ]
     },
     "execution_count": 5,
     "metadata": {},
     "output_type": "execute_result"
    }
   ],
   "source": [
    "df.head()"
   ]
  },
  {
   "cell_type": "code",
   "execution_count": 6,
   "metadata": {},
   "outputs": [],
   "source": [
    "Writer(out_file).call(df, col_names=['drugs'])\n",
    "pass"
   ]
  },
  {
   "cell_type": "code",
   "execution_count": 7,
   "metadata": {},
   "outputs": [
    {
     "name": "stdout",
     "output_type": "stream",
     "text": [
      "MACRO-AVERAGE MEASURES:\n",
      "P\tR\tF1\n",
      "0.46\t0.45\t0.45\n"
     ]
    }
   ],
   "source": [
    "results = !java -jar ../bin/evaluateNER.jar {bank_dir} {out_file}\n",
    "#!rm {out_folder}*.log *.txt\n",
    "print('\\n'.join(results[-5:-2]))"
   ]
  },
  {
   "cell_type": "code",
   "execution_count": null,
   "metadata": {},
   "outputs": [],
   "source": []
  }
 ],
 "metadata": {
  "kernelspec": {
   "display_name": "Python 3",
   "language": "python",
   "name": "python3"
  },
  "language_info": {
   "codemirror_mode": {
    "name": "ipython",
    "version": 3
   },
   "file_extension": ".py",
   "mimetype": "text/x-python",
   "name": "python",
   "nbconvert_exporter": "python",
   "pygments_lexer": "ipython3",
   "version": "3.7.2"
  }
 },
 "nbformat": 4,
 "nbformat_minor": 2
}
