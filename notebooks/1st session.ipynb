{
 "cells": [
  {
   "cell_type": "code",
   "execution_count": 1,
   "metadata": {},
   "outputs": [],
   "source": [
    "import sys; sys.path.append('../src')\n",
    "\n",
    "from input_output.parser import Parser\n",
    "from input_output.writer import Writer\n",
    "from preprocessing.tokenizer import tokenize\n",
    "from models.rules import classify_token, classify_tokens"
   ]
  },
  {
   "cell_type": "code",
   "execution_count": 2,
   "metadata": {},
   "outputs": [],
   "source": [
    "bank_type = 'DDI'\n",
    "bank_name = 'DrugBank'\n",
    "bank_dir = f'../resources/Test-{bank_type}/{bank_name}/'\n",
    "\n",
    "out_file_name = 'task9.2_UC3M_1.txt'\n",
    "out_folder = '../out/'\n",
    "out_file = f'{out_folder}{out_file_name}'"
   ]
  },
  {
   "cell_type": "code",
   "execution_count": 3,
   "metadata": {},
   "outputs": [],
   "source": [
    "df = Parser(bank_dir).call()\n",
    "\n",
    "df['tokens'] = df['sentence'].apply(tokenize)\n",
    "df['drugs'] = df['tokens'].apply(classify_tokens)"
   ]
  },
  {
   "cell_type": "code",
   "execution_count": 4,
   "metadata": {},
   "outputs": [
    {
     "data": {
      "text/html": [
       "<div>\n",
       "<style scoped>\n",
       "    .dataframe tbody tr th:only-of-type {\n",
       "        vertical-align: middle;\n",
       "    }\n",
       "\n",
       "    .dataframe tbody tr th {\n",
       "        vertical-align: top;\n",
       "    }\n",
       "\n",
       "    .dataframe thead th {\n",
       "        text-align: right;\n",
       "    }\n",
       "</style>\n",
       "<table border=\"1\" class=\"dataframe\">\n",
       "  <thead>\n",
       "    <tr style=\"text-align: right;\">\n",
       "      <th></th>\n",
       "      <th>id</th>\n",
       "      <th>sentence</th>\n",
       "      <th>parsed_drugs</th>\n",
       "      <th>parsed_pairs</th>\n",
       "      <th>tokens</th>\n",
       "      <th>drugs</th>\n",
       "    </tr>\n",
       "  </thead>\n",
       "  <tbody>\n",
       "    <tr>\n",
       "      <th>0</th>\n",
       "      <td>DDI-DrugBank.d696.s0</td>\n",
       "      <td>Methysergide may reverse the analgesic activit...</td>\n",
       "      <td>[&lt;DrugEntity DDI-DrugBank.d696.s0.e0 0-11 Meth...</td>\n",
       "      <td>[&lt;DrugPair DDI-DrugBank.d696.s0.p0 DDI-DrugBan...</td>\n",
       "      <td>[{'text': 'Methysergide', 'char_offset': [0, 1...</td>\n",
       "      <td>[&lt;DrugEntity None 0-11 Methysergide drug&gt;, &lt;Dr...</td>\n",
       "    </tr>\n",
       "    <tr>\n",
       "      <th>1</th>\n",
       "      <td>DDI-DrugBank.d696.s1</td>\n",
       "      <td>Concurrent use with vasoconstrictor agents inc...</td>\n",
       "      <td>[&lt;DrugEntity DDI-DrugBank.d696.s1.e0 20-41 vas...</td>\n",
       "      <td>[&lt;DrugPair DDI-DrugBank.d696.s1.p0 DDI-DrugBan...</td>\n",
       "      <td>[{'text': 'Concurrent', 'char_offset': [0, 9]}...</td>\n",
       "      <td>[&lt;DrugEntity None 20-41 vasoconstrictor agents...</td>\n",
       "    </tr>\n",
       "    <tr>\n",
       "      <th>2</th>\n",
       "      <td>DDI-DrugBank.d756.s0</td>\n",
       "      <td>Dosages of concomitantly administered opioids ...</td>\n",
       "      <td>[&lt;DrugEntity DDI-DrugBank.d756.s0.e0 38-44 opi...</td>\n",
       "      <td>[&lt;DrugPair DDI-DrugBank.d756.s0.p0 DDI-DrugBan...</td>\n",
       "      <td>[{'text': 'Dosages', 'char_offset': [0, 6]}, {...</td>\n",
       "      <td>[&lt;DrugEntity None 38-44 opioids group&gt;, &lt;DrugE...</td>\n",
       "    </tr>\n",
       "    <tr>\n",
       "      <th>3</th>\n",
       "      <td>DDI-DrugBank.d756.s1</td>\n",
       "      <td>Combination with tramadol (Ultram) is associat...</td>\n",
       "      <td>[&lt;DrugEntity DDI-DrugBank.d756.s1.e0 17-24 tra...</td>\n",
       "      <td>[&lt;DrugPair DDI-DrugBank.d756.s1.p0 DDI-DrugBan...</td>\n",
       "      <td>[{'text': 'Combination', 'char_offset': [0, 10...</td>\n",
       "      <td>[]</td>\n",
       "    </tr>\n",
       "    <tr>\n",
       "      <th>4</th>\n",
       "      <td>DDI-DrugBank.d756.s2</td>\n",
       "      <td>Additive sedative effects and confusional stat...</td>\n",
       "      <td>[&lt;DrugEntity DDI-DrugBank.d756.s2.e0 63-77 lev...</td>\n",
       "      <td>[&lt;DrugPair DDI-DrugBank.d756.s2.p0 DDI-DrugBan...</td>\n",
       "      <td>[{'text': 'Additive', 'char_offset': [0, 7]}, ...</td>\n",
       "      <td>[&lt;DrugEntity None 42-47 states group&gt;, &lt;DrugEn...</td>\n",
       "    </tr>\n",
       "  </tbody>\n",
       "</table>\n",
       "</div>"
      ],
      "text/plain": [
       "                     id                                           sentence  \\\n",
       "0  DDI-DrugBank.d696.s0  Methysergide may reverse the analgesic activit...   \n",
       "1  DDI-DrugBank.d696.s1  Concurrent use with vasoconstrictor agents inc...   \n",
       "2  DDI-DrugBank.d756.s0  Dosages of concomitantly administered opioids ...   \n",
       "3  DDI-DrugBank.d756.s1  Combination with tramadol (Ultram) is associat...   \n",
       "4  DDI-DrugBank.d756.s2  Additive sedative effects and confusional stat...   \n",
       "\n",
       "                                        parsed_drugs  \\\n",
       "0  [<DrugEntity DDI-DrugBank.d696.s0.e0 0-11 Meth...   \n",
       "1  [<DrugEntity DDI-DrugBank.d696.s1.e0 20-41 vas...   \n",
       "2  [<DrugEntity DDI-DrugBank.d756.s0.e0 38-44 opi...   \n",
       "3  [<DrugEntity DDI-DrugBank.d756.s1.e0 17-24 tra...   \n",
       "4  [<DrugEntity DDI-DrugBank.d756.s2.e0 63-77 lev...   \n",
       "\n",
       "                                        parsed_pairs  \\\n",
       "0  [<DrugPair DDI-DrugBank.d696.s0.p0 DDI-DrugBan...   \n",
       "1  [<DrugPair DDI-DrugBank.d696.s1.p0 DDI-DrugBan...   \n",
       "2  [<DrugPair DDI-DrugBank.d756.s0.p0 DDI-DrugBan...   \n",
       "3  [<DrugPair DDI-DrugBank.d756.s1.p0 DDI-DrugBan...   \n",
       "4  [<DrugPair DDI-DrugBank.d756.s2.p0 DDI-DrugBan...   \n",
       "\n",
       "                                              tokens  \\\n",
       "0  [{'text': 'Methysergide', 'char_offset': [0, 1...   \n",
       "1  [{'text': 'Concurrent', 'char_offset': [0, 9]}...   \n",
       "2  [{'text': 'Dosages', 'char_offset': [0, 6]}, {...   \n",
       "3  [{'text': 'Combination', 'char_offset': [0, 10...   \n",
       "4  [{'text': 'Additive', 'char_offset': [0, 7]}, ...   \n",
       "\n",
       "                                               drugs  \n",
       "0  [<DrugEntity None 0-11 Methysergide drug>, <Dr...  \n",
       "1  [<DrugEntity None 20-41 vasoconstrictor agents...  \n",
       "2  [<DrugEntity None 38-44 opioids group>, <DrugE...  \n",
       "3                                                 []  \n",
       "4  [<DrugEntity None 42-47 states group>, <DrugEn...  "
      ]
     },
     "execution_count": 4,
     "metadata": {},
     "output_type": "execute_result"
    }
   ],
   "source": [
    "df.head()"
   ]
  },
  {
   "cell_type": "code",
   "execution_count": 5,
   "metadata": {},
   "outputs": [],
   "source": [
    "Writer(out_file).call(df, col_names=['drugs'])\n",
    "pass"
   ]
  },
  {
   "cell_type": "code",
   "execution_count": 6,
   "metadata": {},
   "outputs": [
    {
     "name": "stdout",
     "output_type": "stream",
     "text": [
      "MACRO-AVERAGE MEASURES:\n",
      "P\tR\tF1\n",
      "0.46\t0.45\t0.45\n"
     ]
    }
   ],
   "source": [
    "results = !java -jar ../bin/evaluateNER.jar {bank_dir} {out_file}\n",
    "!rm {out_folder}*.log *.txt\n",
    "print('\\n'.join(results[-5:-2]))"
   ]
  }
 ],
 "metadata": {
  "kernelspec": {
   "display_name": "Python 3",
   "language": "python",
   "name": "python3"
  },
  "language_info": {
   "codemirror_mode": {
    "name": "ipython",
    "version": 3
   },
   "file_extension": ".py",
   "mimetype": "text/x-python",
   "name": "python",
   "nbconvert_exporter": "python",
   "pygments_lexer": "ipython3",
   "version": "3.6.0"
  }
 },
 "nbformat": 4,
 "nbformat_minor": 2
}
