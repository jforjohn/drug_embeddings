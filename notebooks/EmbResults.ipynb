{
 "cells": [
  {
   "cell_type": "code",
   "execution_count": 1,
   "metadata": {},
   "outputs": [
    {
     "name": "stderr",
     "output_type": "stream",
     "text": [
      "Using TensorFlow backend.\n",
      "[nltk_data] Downloading package punkt to\n",
      "[nltk_data]     C:\\Users\\John.Souarlis\\AppData\\Roaming\\nltk_data...\n",
      "[nltk_data]   Package punkt is already up-to-date!\n",
      "[nltk_data] Downloading package wordnet to\n",
      "[nltk_data]     C:\\Users\\John.Souarlis\\AppData\\Roaming\\nltk_data...\n",
      "[nltk_data]   Package wordnet is already up-to-date!\n",
      "[nltk_data] Downloading package averaged_perceptron_tagger to\n",
      "[nltk_data]     C:\\Users\\John.Souarlis\\AppData\\Roaming\\nltk_data...\n",
      "[nltk_data]   Package averaged_perceptron_tagger is already up-to-\n",
      "[nltk_data]       date!\n"
     ]
    }
   ],
   "source": [
    "import sys; sys.path.append('../src')\n",
    "\n",
    "from input_output.parser import Parser\n",
    "from input_output.writer import Writer\n",
    "from preprocessing.tokenizer import *\n",
    "from models.rules import classify_token, classify_tokens\n",
    "import pandas as pd\n",
    "from preprocessing.tokenizer import tokens2sent, tokenize_embed\n",
    "from preprocessing.transformations import *\n",
    "from keras.preprocessing.sequence import pad_sequences\n",
    "from keras.utils import to_categorical\n",
    "from preprocessing.transformations import CRF_get_tag\n",
    "from os import path, listdir\n",
    "import numpy as np\n",
    "import matplotlib\n",
    "#matplotlib.use('Agg')\n",
    "from sklearn.manifold import TSNE\n",
    "import matplotlib.pyplot as plt"
   ]
  },
  {
   "cell_type": "code",
   "execution_count": 2,
   "metadata": {},
   "outputs": [],
   "source": [
    "pd.set_option('display.max_rows', 100)\n",
    "pd.set_option('display.max_columns', 50)\n",
    "pd.set_option('display.max_colwidth', 1000)"
   ]
  },
  {
   "cell_type": "code",
   "execution_count": 3,
   "metadata": {},
   "outputs": [],
   "source": [
    "bank_type = 'NER'\n",
    "bank_name = 'DrugBank'\n",
    "#dir_type = f'Test-{bank_type}'\n",
    "dir_type = f'Train'\n",
    "bank_dir = f'../resources/{dir_type}/{bank_name}/'"
   ]
  },
  {
   "cell_type": "code",
   "execution_count": 4,
   "metadata": {},
   "outputs": [],
   "source": [
    "df = Parser(bank_dir).call()"
   ]
  },
  {
   "cell_type": "code",
   "execution_count": 5,
   "metadata": {},
   "outputs": [],
   "source": [
    "df['tokens'] = df['sentence'].apply(tokenize)\n",
    "df['crf_tags'] = df[['tokens', 'parsed_drugs']].apply(CRF_get_tag, axis=1)"
   ]
  },
  {
   "cell_type": "code",
   "execution_count": 6,
   "metadata": {},
   "outputs": [],
   "source": [
    "tk, df['tokens_emb'] = tokenize_embed(df['tokens'])\n",
    "tk_class, df['labels'] = labelEncode(df['crf_tags'])"
   ]
  },
  {
   "cell_type": "code",
   "execution_count": 7,
   "metadata": {},
   "outputs": [],
   "source": [
    "max_len = df['tokens_emb'].apply(len).max()\n",
    "df = removeEmptyRows(df)\n",
    "#df = removeSpecialCases(df)\n",
    "\n",
    "df['tokens_emb'] = padList(df['tokens_emb'], 0, max_len)\n",
    "\n",
    "df['labels'] = padList(df['labels'], tk_class.word_index['o'], max_len)"
   ]
  },
  {
   "cell_type": "code",
   "execution_count": 8,
   "metadata": {},
   "outputs": [
    {
     "name": "stdout",
     "output_type": "stream",
     "text": [
      "(5531, 8)\n"
     ]
    },
    {
     "data": {
      "text/html": [
       "<div>\n",
       "<style scoped>\n",
       "    .dataframe tbody tr th:only-of-type {\n",
       "        vertical-align: middle;\n",
       "    }\n",
       "\n",
       "    .dataframe tbody tr th {\n",
       "        vertical-align: top;\n",
       "    }\n",
       "\n",
       "    .dataframe thead th {\n",
       "        text-align: right;\n",
       "    }\n",
       "</style>\n",
       "<table border=\"1\" class=\"dataframe\">\n",
       "  <thead>\n",
       "    <tr style=\"text-align: right;\">\n",
       "      <th></th>\n",
       "      <th>id</th>\n",
       "      <th>sentence</th>\n",
       "      <th>parsed_drugs</th>\n",
       "      <th>parsed_pairs</th>\n",
       "      <th>tokens</th>\n",
       "      <th>crf_tags</th>\n",
       "      <th>tokens_emb</th>\n",
       "      <th>labels</th>\n",
       "    </tr>\n",
       "  </thead>\n",
       "  <tbody>\n",
       "    <tr>\n",
       "      <th>0</th>\n",
       "      <td>DDI-DrugBank.d436.s0</td>\n",
       "      <td>No drug, nutritional supplement, food or herb interactions have yet been reported.</td>\n",
       "      <td>[]</td>\n",
       "      <td>[]</td>\n",
       "      <td>[{'text': 'no', 'char_offset': [0, 1]}, {'text': 'drug', 'char_offset': [3, 6]}, {'text': ',', 'char_offset': [7, 7]}, {'text': 'nutritional', 'char_offset': [9, 19]}, {'text': 'supplement', 'char_offset': [21, 30]}, {'text': ',', 'char_offset': [31, 31]}, {'text': 'food', 'char_offset': [33, 36]}, {'text': 'or', 'char_offset': [38, 39]}, {'text': 'herb', 'char_offset': [41, 44]}, {'text': 'interactions', 'char_offset': [46, 57]}, {'text': 'have', 'char_offset': [59, 62]}, {'text': 'yet', 'char_offset': [64, 66]}, {'text': 'been', 'char_offset': [68, 71]}, {'text': 'reported', 'char_offset': [73, 80]}, {'text': '.', 'char_offset': [81, 81]}]</td>\n",
       "      <td>[O, O, O, O, O, O, O, O, O, O, O, O, O, O, O]</td>\n",
       "      <td>[35, 39, 1, 3018, 1504, 1, 888, 14, 2473, 56, 23, 1505, 21, 64, 2, 0, 0, 0, 0, 0, 0, 0, 0, 0, 0, 0, 0, 0, 0, 0, 0, 0, 0, 0, 0, 0, 0, 0, 0, 0, 0, 0, 0, 0, 0, 0, 0, 0, 0, 0, 0, 0, 0, 0, 0, 0, 0, 0, 0, 0, 0, 0, 0, 0, 0, 0, 0, 0, 0, 0, 0, 0, 0, 0, 0, 0, 0, 0, 0, 0, 0, 0, 0, 0, 0, 0, 0, 0, 0, 0, 0, 0, 0, 0, 0, 0, 0, 0, 0, 0, ...]</td>\n",
       "      <td>[0, 0, 0, 0, 0, 0, 0, 0, 0, 0, 0, 0, 0, 0, 0, 0, 0, 0, 0, 0, 0, 0, 0, 0, 0, 0, 0, 0, 0, 0, 0, 0, 0, 0, 0, 0, 0, 0, 0, 0, 0, 0, 0, 0, 0, 0, 0, 0, 0, 0, 0, 0, 0, 0, 0, 0, 0, 0, 0, 0, 0, 0, 0, 0, 0, 0, 0, 0, 0, 0, 0, 0, 0, 0, 0, 0, 0, 0, 0, 0, 0, 0, 0, 0, 0, 0, 0, 0, 0, 0, 0, 0, 0, 0, 0, 0, 0, 0, 0, 0, ...]</td>\n",
       "    </tr>\n",
       "    <tr>\n",
       "      <th>1</th>\n",
       "      <td>DDI-DrugBank.d519.s0</td>\n",
       "      <td>No formal drug/drug interaction studies with Plenaxis were performed.</td>\n",
       "      <td>[&lt;DrugEntity DDI-DrugBank.d519.s0.e0 45-52 Plenaxis brand&gt;]</td>\n",
       "      <td>[]</td>\n",
       "      <td>[{'text': 'no', 'char_offset': [0, 1]}, {'text': 'formal', 'char_offset': [3, 8]}, {'text': 'drug/drug', 'char_offset': [10, 18]}, {'text': 'interaction', 'char_offset': [20, 30]}, {'text': 'studies', 'char_offset': [32, 38]}, {'text': 'with', 'char_offset': [40, 43]}, {'text': 'plenaxis', 'char_offset': [45, 52]}, {'text': 'were', 'char_offset': [54, 57]}, {'text': 'performed', 'char_offset': [59, 67]}, {'text': '.', 'char_offset': [68, 68]}]</td>\n",
       "      <td>[O, O, O, O, O, O, B-brand, O, O, O]</td>\n",
       "      <td>[35, 420, 2474, 59, 53, 7, 1868, 51, 308, 2, 0, 0, 0, 0, 0, 0, 0, 0, 0, 0, 0, 0, 0, 0, 0, 0, 0, 0, 0, 0, 0, 0, 0, 0, 0, 0, 0, 0, 0, 0, 0, 0, 0, 0, 0, 0, 0, 0, 0, 0, 0, 0, 0, 0, 0, 0, 0, 0, 0, 0, 0, 0, 0, 0, 0, 0, 0, 0, 0, 0, 0, 0, 0, 0, 0, 0, 0, 0, 0, 0, 0, 0, 0, 0, 0, 0, 0, 0, 0, 0, 0, 0, 0, 0, 0, 0, 0, 0, 0, 0, ...]</td>\n",
       "      <td>[0, 0, 0, 0, 0, 0, 4, 0, 0, 0, 0, 0, 0, 0, 0, 0, 0, 0, 0, 0, 0, 0, 0, 0, 0, 0, 0, 0, 0, 0, 0, 0, 0, 0, 0, 0, 0, 0, 0, 0, 0, 0, 0, 0, 0, 0, 0, 0, 0, 0, 0, 0, 0, 0, 0, 0, 0, 0, 0, 0, 0, 0, 0, 0, 0, 0, 0, 0, 0, 0, 0, 0, 0, 0, 0, 0, 0, 0, 0, 0, 0, 0, 0, 0, 0, 0, 0, 0, 0, 0, 0, 0, 0, 0, 0, 0, 0, 0, 0, 0, ...]</td>\n",
       "    </tr>\n",
       "    <tr>\n",
       "      <th>2</th>\n",
       "      <td>DDI-DrugBank.d519.s1</td>\n",
       "      <td>Cytochrome P-450 is not known to be involved in the metabolism of Plenaxis.</td>\n",
       "      <td>[&lt;DrugEntity DDI-DrugBank.d519.s1.e0 66-73 Plenaxis brand&gt;]</td>\n",
       "      <td>[]</td>\n",
       "      <td>[{'text': 'cytochrome', 'char_offset': [0, 9]}, {'text': 'p-450', 'char_offset': [11, 15]}, {'text': 'is', 'char_offset': [17, 18]}, {'text': 'not', 'char_offset': [20, 22]}, {'text': 'known', 'char_offset': [24, 28]}, {'text': 'to', 'char_offset': [30, 31]}, {'text': 'be', 'char_offset': [33, 34]}, {'text': 'involved', 'char_offset': [36, 43]}, {'text': 'in', 'char_offset': [45, 46]}, {'text': 'the', 'char_offset': [48, 50]}, {'text': 'metabolism', 'char_offset': [52, 61]}, {'text': 'of', 'char_offset': [63, 64]}, {'text': 'plenaxis', 'char_offset': [66, 73]}, {'text': '.', 'char_offset': [74, 74]}]</td>\n",
       "      <td>[O, O, O, O, O, O, O, O, O, O, O, O, B-brand, O]</td>\n",
       "      <td>[110, 936, 15, 17, 111, 8, 11, 889, 6, 4, 82, 3, 1868, 2, 0, 0, 0, 0, 0, 0, 0, 0, 0, 0, 0, 0, 0, 0, 0, 0, 0, 0, 0, 0, 0, 0, 0, 0, 0, 0, 0, 0, 0, 0, 0, 0, 0, 0, 0, 0, 0, 0, 0, 0, 0, 0, 0, 0, 0, 0, 0, 0, 0, 0, 0, 0, 0, 0, 0, 0, 0, 0, 0, 0, 0, 0, 0, 0, 0, 0, 0, 0, 0, 0, 0, 0, 0, 0, 0, 0, 0, 0, 0, 0, 0, 0, 0, 0, 0, 0, ...]</td>\n",
       "      <td>[0, 0, 0, 0, 0, 0, 0, 0, 0, 0, 0, 0, 4, 0, 0, 0, 0, 0, 0, 0, 0, 0, 0, 0, 0, 0, 0, 0, 0, 0, 0, 0, 0, 0, 0, 0, 0, 0, 0, 0, 0, 0, 0, 0, 0, 0, 0, 0, 0, 0, 0, 0, 0, 0, 0, 0, 0, 0, 0, 0, 0, 0, 0, 0, 0, 0, 0, 0, 0, 0, 0, 0, 0, 0, 0, 0, 0, 0, 0, 0, 0, 0, 0, 0, 0, 0, 0, 0, 0, 0, 0, 0, 0, 0, 0, 0, 0, 0, 0, 0, ...]</td>\n",
       "    </tr>\n",
       "    <tr>\n",
       "      <th>3</th>\n",
       "      <td>DDI-DrugBank.d519.s2</td>\n",
       "      <td>Plenaxis is highly bound to plasma proteins (96 to 99%).</td>\n",
       "      <td>[&lt;DrugEntity DDI-DrugBank.d519.s2.e0 0-7 Plenaxis brand&gt;]</td>\n",
       "      <td>[]</td>\n",
       "      <td>[{'text': 'plenaxis', 'char_offset': [0, 7]}, {'text': 'is', 'char_offset': [9, 10]}, {'text': 'highly', 'char_offset': [12, 17]}, {'text': 'bound', 'char_offset': [19, 23]}, {'text': 'to', 'char_offset': [25, 26]}, {'text': 'plasma', 'char_offset': [28, 33]}, {'text': 'proteins', 'char_offset': [35, 42]}, {'text': '(', 'char_offset': [44, 44]}, {'text': '96', 'char_offset': [45, 46]}, {'text': 'to', 'char_offset': [48, 49]}, {'text': '99', 'char_offset': [51, 52]}, {'text': '%', 'char_offset': [53, 53]}, {'text': ')', 'char_offset': [54, 54]}, {'text': '.', 'char_offset': [55, 55]}]</td>\n",
       "      <td>[B-brand, O, O, O, O, O, O, O, O, O, O, O, O, O]</td>\n",
       "      <td>[1868, 15, 421, 355, 8, 32, 568, 9, 2475, 8, 3968, 27, 10, 2, 0, 0, 0, 0, 0, 0, 0, 0, 0, 0, 0, 0, 0, 0, 0, 0, 0, 0, 0, 0, 0, 0, 0, 0, 0, 0, 0, 0, 0, 0, 0, 0, 0, 0, 0, 0, 0, 0, 0, 0, 0, 0, 0, 0, 0, 0, 0, 0, 0, 0, 0, 0, 0, 0, 0, 0, 0, 0, 0, 0, 0, 0, 0, 0, 0, 0, 0, 0, 0, 0, 0, 0, 0, 0, 0, 0, 0, 0, 0, 0, 0, 0, 0, 0, 0, 0, ...]</td>\n",
       "      <td>[4, 0, 0, 0, 0, 0, 0, 0, 0, 0, 0, 0, 0, 0, 0, 0, 0, 0, 0, 0, 0, 0, 0, 0, 0, 0, 0, 0, 0, 0, 0, 0, 0, 0, 0, 0, 0, 0, 0, 0, 0, 0, 0, 0, 0, 0, 0, 0, 0, 0, 0, 0, 0, 0, 0, 0, 0, 0, 0, 0, 0, 0, 0, 0, 0, 0, 0, 0, 0, 0, 0, 0, 0, 0, 0, 0, 0, 0, 0, 0, 0, 0, 0, 0, 0, 0, 0, 0, 0, 0, 0, 0, 0, 0, 0, 0, 0, 0, 0, 0, ...]</td>\n",
       "    </tr>\n",
       "    <tr>\n",
       "      <th>4</th>\n",
       "      <td>DDI-DrugBank.d519.s3</td>\n",
       "      <td>Laboratory Tests Response to Plenaxis should be monitored by measuring serum total testosterone concentrations just prior to administration on Day 29 and every 8 weeks thereafter.</td>\n",
       "      <td>[&lt;DrugEntity DDI-DrugBank.d519.s3.e0 29-36 Plenaxis brand&gt;, &lt;DrugEntity DDI-DrugBank.d519.s3.e1 83-94 testosterone drug&gt;]</td>\n",
       "      <td>[&lt;DrugPair DDI-DrugBank.d519.s3.p0 DDI-DrugBank.d519.s3.e0 DDI-DrugBank.d519.s3.e1 None&gt;]</td>\n",
       "      <td>[{'text': 'laboratory', 'char_offset': [0, 9]}, {'text': 'tests', 'char_offset': [11, 15]}, {'text': 'response', 'char_offset': [17, 24]}, {'text': 'to', 'char_offset': [26, 27]}, {'text': 'plenaxis', 'char_offset': [29, 36]}, {'text': 'should', 'char_offset': [38, 43]}, {'text': 'be', 'char_offset': [45, 46]}, {'text': 'monitored', 'char_offset': [48, 56]}, {'text': 'by', 'char_offset': [58, 59]}, {'text': 'measuring', 'char_offset': [61, 69]}, {'text': 'serum', 'char_offset': [71, 75]}, {'text': 'total', 'char_offset': [77, 81]}, {'text': 'testosterone', 'char_offset': [83, 94]}, {'text': 'concentrations', 'char_offset': [96, 109]}, {'text': 'just', 'char_offset': [111, 114]}, {'text': 'prior', 'char_offset': [116, 120]}, {'text': 'to', 'char_offset': [122, 123]}, {'text': 'administration', 'char_offset': [125, 138]}, {'text': 'on', 'char_offset': [140, 141]}, {'text': 'day', 'char_offset': [143, 145]}, {'text': '29', 'char_offset': [147, 148]}, {'text': 'and', 'char_offset': [15...</td>\n",
       "      <td>[O, O, O, O, B-brand, O, O, O, O, O, O, O, B-drug, O, O, O, O, O, O, O, O, O, O, O, O, O, O]</td>\n",
       "      <td>[316, 216, 210, 8, 1868, 18, 11, 151, 22, 3969, 67, 533, 3970, 50, 3971, 338, 8, 43, 29, 273, 1506, 5, 603, 392, 393, 2476, 2, 0, 0, 0, 0, 0, 0, 0, 0, 0, 0, 0, 0, 0, 0, 0, 0, 0, 0, 0, 0, 0, 0, 0, 0, 0, 0, 0, 0, 0, 0, 0, 0, 0, 0, 0, 0, 0, 0, 0, 0, 0, 0, 0, 0, 0, 0, 0, 0, 0, 0, 0, 0, 0, 0, 0, 0, 0, 0, 0, 0, 0, 0, 0, 0, 0, 0, 0, 0, 0, 0, 0, 0, 0, ...]</td>\n",
       "      <td>[0, 0, 0, 0, 4, 0, 0, 0, 0, 0, 0, 0, 1, 0, 0, 0, 0, 0, 0, 0, 0, 0, 0, 0, 0, 0, 0, 0, 0, 0, 0, 0, 0, 0, 0, 0, 0, 0, 0, 0, 0, 0, 0, 0, 0, 0, 0, 0, 0, 0, 0, 0, 0, 0, 0, 0, 0, 0, 0, 0, 0, 0, 0, 0, 0, 0, 0, 0, 0, 0, 0, 0, 0, 0, 0, 0, 0, 0, 0, 0, 0, 0, 0, 0, 0, 0, 0, 0, 0, 0, 0, 0, 0, 0, 0, 0, 0, 0, 0, 0, ...]</td>\n",
       "    </tr>\n",
       "  </tbody>\n",
       "</table>\n",
       "</div>"
      ],
      "text/plain": [
       "                     id  \\\n",
       "0  DDI-DrugBank.d436.s0   \n",
       "1  DDI-DrugBank.d519.s0   \n",
       "2  DDI-DrugBank.d519.s1   \n",
       "3  DDI-DrugBank.d519.s2   \n",
       "4  DDI-DrugBank.d519.s3   \n",
       "\n",
       "                                                                                                                                                                              sentence  \\\n",
       "0                                                                                                   No drug, nutritional supplement, food or herb interactions have yet been reported.   \n",
       "1                                                                                                                No formal drug/drug interaction studies with Plenaxis were performed.   \n",
       "2                                                                                                          Cytochrome P-450 is not known to be involved in the metabolism of Plenaxis.   \n",
       "3                                                                                                                             Plenaxis is highly bound to plasma proteins (96 to 99%).   \n",
       "4  Laboratory Tests Response to Plenaxis should be monitored by measuring serum total testosterone concentrations just prior to administration on Day 29 and every 8 weeks thereafter.   \n",
       "\n",
       "                                                                                                                parsed_drugs  \\\n",
       "0                                                                                                                         []   \n",
       "1                                                                [<DrugEntity DDI-DrugBank.d519.s0.e0 45-52 Plenaxis brand>]   \n",
       "2                                                                [<DrugEntity DDI-DrugBank.d519.s1.e0 66-73 Plenaxis brand>]   \n",
       "3                                                                  [<DrugEntity DDI-DrugBank.d519.s2.e0 0-7 Plenaxis brand>]   \n",
       "4  [<DrugEntity DDI-DrugBank.d519.s3.e0 29-36 Plenaxis brand>, <DrugEntity DDI-DrugBank.d519.s3.e1 83-94 testosterone drug>]   \n",
       "\n",
       "                                                                                parsed_pairs  \\\n",
       "0                                                                                         []   \n",
       "1                                                                                         []   \n",
       "2                                                                                         []   \n",
       "3                                                                                         []   \n",
       "4  [<DrugPair DDI-DrugBank.d519.s3.p0 DDI-DrugBank.d519.s3.e0 DDI-DrugBank.d519.s3.e1 None>]   \n",
       "\n",
       "                                                                                                                                                                                                                                                                                                                                                                                                                                                                                                                                                                                                                                                                                                                                                                                                                                                                                                                                                                                                                                    tokens  \\\n",
       "0                                                                                                                                                                                                                                                                                                                                                                [{'text': 'no', 'char_offset': [0, 1]}, {'text': 'drug', 'char_offset': [3, 6]}, {'text': ',', 'char_offset': [7, 7]}, {'text': 'nutritional', 'char_offset': [9, 19]}, {'text': 'supplement', 'char_offset': [21, 30]}, {'text': ',', 'char_offset': [31, 31]}, {'text': 'food', 'char_offset': [33, 36]}, {'text': 'or', 'char_offset': [38, 39]}, {'text': 'herb', 'char_offset': [41, 44]}, {'text': 'interactions', 'char_offset': [46, 57]}, {'text': 'have', 'char_offset': [59, 62]}, {'text': 'yet', 'char_offset': [64, 66]}, {'text': 'been', 'char_offset': [68, 71]}, {'text': 'reported', 'char_offset': [73, 80]}, {'text': '.', 'char_offset': [81, 81]}]   \n",
       "1                                                                                                                                                                                                                                                                                                                                                                                                                                                                                                                                                                          [{'text': 'no', 'char_offset': [0, 1]}, {'text': 'formal', 'char_offset': [3, 8]}, {'text': 'drug/drug', 'char_offset': [10, 18]}, {'text': 'interaction', 'char_offset': [20, 30]}, {'text': 'studies', 'char_offset': [32, 38]}, {'text': 'with', 'char_offset': [40, 43]}, {'text': 'plenaxis', 'char_offset': [45, 52]}, {'text': 'were', 'char_offset': [54, 57]}, {'text': 'performed', 'char_offset': [59, 67]}, {'text': '.', 'char_offset': [68, 68]}]   \n",
       "2                                                                                                                                                                                                                                                                                                                                                                                                          [{'text': 'cytochrome', 'char_offset': [0, 9]}, {'text': 'p-450', 'char_offset': [11, 15]}, {'text': 'is', 'char_offset': [17, 18]}, {'text': 'not', 'char_offset': [20, 22]}, {'text': 'known', 'char_offset': [24, 28]}, {'text': 'to', 'char_offset': [30, 31]}, {'text': 'be', 'char_offset': [33, 34]}, {'text': 'involved', 'char_offset': [36, 43]}, {'text': 'in', 'char_offset': [45, 46]}, {'text': 'the', 'char_offset': [48, 50]}, {'text': 'metabolism', 'char_offset': [52, 61]}, {'text': 'of', 'char_offset': [63, 64]}, {'text': 'plenaxis', 'char_offset': [66, 73]}, {'text': '.', 'char_offset': [74, 74]}]   \n",
       "3                                                                                                                                                                                                                                                                                                                                                                                                                           [{'text': 'plenaxis', 'char_offset': [0, 7]}, {'text': 'is', 'char_offset': [9, 10]}, {'text': 'highly', 'char_offset': [12, 17]}, {'text': 'bound', 'char_offset': [19, 23]}, {'text': 'to', 'char_offset': [25, 26]}, {'text': 'plasma', 'char_offset': [28, 33]}, {'text': 'proteins', 'char_offset': [35, 42]}, {'text': '(', 'char_offset': [44, 44]}, {'text': '96', 'char_offset': [45, 46]}, {'text': 'to', 'char_offset': [48, 49]}, {'text': '99', 'char_offset': [51, 52]}, {'text': '%', 'char_offset': [53, 53]}, {'text': ')', 'char_offset': [54, 54]}, {'text': '.', 'char_offset': [55, 55]}]   \n",
       "4  [{'text': 'laboratory', 'char_offset': [0, 9]}, {'text': 'tests', 'char_offset': [11, 15]}, {'text': 'response', 'char_offset': [17, 24]}, {'text': 'to', 'char_offset': [26, 27]}, {'text': 'plenaxis', 'char_offset': [29, 36]}, {'text': 'should', 'char_offset': [38, 43]}, {'text': 'be', 'char_offset': [45, 46]}, {'text': 'monitored', 'char_offset': [48, 56]}, {'text': 'by', 'char_offset': [58, 59]}, {'text': 'measuring', 'char_offset': [61, 69]}, {'text': 'serum', 'char_offset': [71, 75]}, {'text': 'total', 'char_offset': [77, 81]}, {'text': 'testosterone', 'char_offset': [83, 94]}, {'text': 'concentrations', 'char_offset': [96, 109]}, {'text': 'just', 'char_offset': [111, 114]}, {'text': 'prior', 'char_offset': [116, 120]}, {'text': 'to', 'char_offset': [122, 123]}, {'text': 'administration', 'char_offset': [125, 138]}, {'text': 'on', 'char_offset': [140, 141]}, {'text': 'day', 'char_offset': [143, 145]}, {'text': '29', 'char_offset': [147, 148]}, {'text': 'and', 'char_offset': [15...   \n",
       "\n",
       "                                                                                       crf_tags  \\\n",
       "0                                                 [O, O, O, O, O, O, O, O, O, O, O, O, O, O, O]   \n",
       "1                                                          [O, O, O, O, O, O, B-brand, O, O, O]   \n",
       "2                                              [O, O, O, O, O, O, O, O, O, O, O, O, B-brand, O]   \n",
       "3                                              [B-brand, O, O, O, O, O, O, O, O, O, O, O, O, O]   \n",
       "4  [O, O, O, O, B-brand, O, O, O, O, O, O, O, B-drug, O, O, O, O, O, O, O, O, O, O, O, O, O, O]   \n",
       "\n",
       "                                                                                                                                                                                                                                                                                                                                                       tokens_emb  \\\n",
       "0                          [35, 39, 1, 3018, 1504, 1, 888, 14, 2473, 56, 23, 1505, 21, 64, 2, 0, 0, 0, 0, 0, 0, 0, 0, 0, 0, 0, 0, 0, 0, 0, 0, 0, 0, 0, 0, 0, 0, 0, 0, 0, 0, 0, 0, 0, 0, 0, 0, 0, 0, 0, 0, 0, 0, 0, 0, 0, 0, 0, 0, 0, 0, 0, 0, 0, 0, 0, 0, 0, 0, 0, 0, 0, 0, 0, 0, 0, 0, 0, 0, 0, 0, 0, 0, 0, 0, 0, 0, 0, 0, 0, 0, 0, 0, 0, 0, 0, 0, 0, 0, 0, ...]   \n",
       "1                                 [35, 420, 2474, 59, 53, 7, 1868, 51, 308, 2, 0, 0, 0, 0, 0, 0, 0, 0, 0, 0, 0, 0, 0, 0, 0, 0, 0, 0, 0, 0, 0, 0, 0, 0, 0, 0, 0, 0, 0, 0, 0, 0, 0, 0, 0, 0, 0, 0, 0, 0, 0, 0, 0, 0, 0, 0, 0, 0, 0, 0, 0, 0, 0, 0, 0, 0, 0, 0, 0, 0, 0, 0, 0, 0, 0, 0, 0, 0, 0, 0, 0, 0, 0, 0, 0, 0, 0, 0, 0, 0, 0, 0, 0, 0, 0, 0, 0, 0, 0, 0, ...]   \n",
       "2                                [110, 936, 15, 17, 111, 8, 11, 889, 6, 4, 82, 3, 1868, 2, 0, 0, 0, 0, 0, 0, 0, 0, 0, 0, 0, 0, 0, 0, 0, 0, 0, 0, 0, 0, 0, 0, 0, 0, 0, 0, 0, 0, 0, 0, 0, 0, 0, 0, 0, 0, 0, 0, 0, 0, 0, 0, 0, 0, 0, 0, 0, 0, 0, 0, 0, 0, 0, 0, 0, 0, 0, 0, 0, 0, 0, 0, 0, 0, 0, 0, 0, 0, 0, 0, 0, 0, 0, 0, 0, 0, 0, 0, 0, 0, 0, 0, 0, 0, 0, 0, ...]   \n",
       "3                            [1868, 15, 421, 355, 8, 32, 568, 9, 2475, 8, 3968, 27, 10, 2, 0, 0, 0, 0, 0, 0, 0, 0, 0, 0, 0, 0, 0, 0, 0, 0, 0, 0, 0, 0, 0, 0, 0, 0, 0, 0, 0, 0, 0, 0, 0, 0, 0, 0, 0, 0, 0, 0, 0, 0, 0, 0, 0, 0, 0, 0, 0, 0, 0, 0, 0, 0, 0, 0, 0, 0, 0, 0, 0, 0, 0, 0, 0, 0, 0, 0, 0, 0, 0, 0, 0, 0, 0, 0, 0, 0, 0, 0, 0, 0, 0, 0, 0, 0, 0, 0, ...]   \n",
       "4  [316, 216, 210, 8, 1868, 18, 11, 151, 22, 3969, 67, 533, 3970, 50, 3971, 338, 8, 43, 29, 273, 1506, 5, 603, 392, 393, 2476, 2, 0, 0, 0, 0, 0, 0, 0, 0, 0, 0, 0, 0, 0, 0, 0, 0, 0, 0, 0, 0, 0, 0, 0, 0, 0, 0, 0, 0, 0, 0, 0, 0, 0, 0, 0, 0, 0, 0, 0, 0, 0, 0, 0, 0, 0, 0, 0, 0, 0, 0, 0, 0, 0, 0, 0, 0, 0, 0, 0, 0, 0, 0, 0, 0, 0, 0, 0, 0, 0, 0, 0, 0, 0, ...]   \n",
       "\n",
       "                                                                                                                                                                                                                                                                                                              labels  \n",
       "0  [0, 0, 0, 0, 0, 0, 0, 0, 0, 0, 0, 0, 0, 0, 0, 0, 0, 0, 0, 0, 0, 0, 0, 0, 0, 0, 0, 0, 0, 0, 0, 0, 0, 0, 0, 0, 0, 0, 0, 0, 0, 0, 0, 0, 0, 0, 0, 0, 0, 0, 0, 0, 0, 0, 0, 0, 0, 0, 0, 0, 0, 0, 0, 0, 0, 0, 0, 0, 0, 0, 0, 0, 0, 0, 0, 0, 0, 0, 0, 0, 0, 0, 0, 0, 0, 0, 0, 0, 0, 0, 0, 0, 0, 0, 0, 0, 0, 0, 0, 0, ...]  \n",
       "1  [0, 0, 0, 0, 0, 0, 4, 0, 0, 0, 0, 0, 0, 0, 0, 0, 0, 0, 0, 0, 0, 0, 0, 0, 0, 0, 0, 0, 0, 0, 0, 0, 0, 0, 0, 0, 0, 0, 0, 0, 0, 0, 0, 0, 0, 0, 0, 0, 0, 0, 0, 0, 0, 0, 0, 0, 0, 0, 0, 0, 0, 0, 0, 0, 0, 0, 0, 0, 0, 0, 0, 0, 0, 0, 0, 0, 0, 0, 0, 0, 0, 0, 0, 0, 0, 0, 0, 0, 0, 0, 0, 0, 0, 0, 0, 0, 0, 0, 0, 0, ...]  \n",
       "2  [0, 0, 0, 0, 0, 0, 0, 0, 0, 0, 0, 0, 4, 0, 0, 0, 0, 0, 0, 0, 0, 0, 0, 0, 0, 0, 0, 0, 0, 0, 0, 0, 0, 0, 0, 0, 0, 0, 0, 0, 0, 0, 0, 0, 0, 0, 0, 0, 0, 0, 0, 0, 0, 0, 0, 0, 0, 0, 0, 0, 0, 0, 0, 0, 0, 0, 0, 0, 0, 0, 0, 0, 0, 0, 0, 0, 0, 0, 0, 0, 0, 0, 0, 0, 0, 0, 0, 0, 0, 0, 0, 0, 0, 0, 0, 0, 0, 0, 0, 0, ...]  \n",
       "3  [4, 0, 0, 0, 0, 0, 0, 0, 0, 0, 0, 0, 0, 0, 0, 0, 0, 0, 0, 0, 0, 0, 0, 0, 0, 0, 0, 0, 0, 0, 0, 0, 0, 0, 0, 0, 0, 0, 0, 0, 0, 0, 0, 0, 0, 0, 0, 0, 0, 0, 0, 0, 0, 0, 0, 0, 0, 0, 0, 0, 0, 0, 0, 0, 0, 0, 0, 0, 0, 0, 0, 0, 0, 0, 0, 0, 0, 0, 0, 0, 0, 0, 0, 0, 0, 0, 0, 0, 0, 0, 0, 0, 0, 0, 0, 0, 0, 0, 0, 0, ...]  \n",
       "4  [0, 0, 0, 0, 4, 0, 0, 0, 0, 0, 0, 0, 1, 0, 0, 0, 0, 0, 0, 0, 0, 0, 0, 0, 0, 0, 0, 0, 0, 0, 0, 0, 0, 0, 0, 0, 0, 0, 0, 0, 0, 0, 0, 0, 0, 0, 0, 0, 0, 0, 0, 0, 0, 0, 0, 0, 0, 0, 0, 0, 0, 0, 0, 0, 0, 0, 0, 0, 0, 0, 0, 0, 0, 0, 0, 0, 0, 0, 0, 0, 0, 0, 0, 0, 0, 0, 0, 0, 0, 0, 0, 0, 0, 0, 0, 0, 0, 0, 0, 0, ...]  "
      ]
     },
     "execution_count": 8,
     "metadata": {},
     "output_type": "execute_result"
    }
   ],
   "source": [
    "print(df.shape)\n",
    "df.head()"
   ]
  },
  {
   "cell_type": "code",
   "execution_count": 9,
   "metadata": {},
   "outputs": [],
   "source": [
    "words = df['tokens'].apply(lambda el_lst: pd.Series([el['text'] for el in el_lst])).stack().unique()\n",
    "word2idx = {w: i + 1 for i, w in enumerate(words)}"
   ]
  },
  {
   "cell_type": "code",
   "execution_count": 10,
   "metadata": {},
   "outputs": [],
   "source": [
    "tags = df['crf_tags'].apply(lambda el_lst: pd.Series(el_lst)).stack().unique()\n",
    "tag2idx = {t: i for i, t in enumerate(tags)}"
   ]
  },
  {
   "cell_type": "code",
   "execution_count": 11,
   "metadata": {},
   "outputs": [
    {
     "data": {
      "text/plain": [
       "(9, 6706)"
      ]
     },
     "execution_count": 11,
     "metadata": {},
     "output_type": "execute_result"
    }
   ],
   "source": [
    "len(tags), len(words)"
   ]
  },
  {
   "cell_type": "code",
   "execution_count": 12,
   "metadata": {},
   "outputs": [],
   "source": [
    "X = [[word2idx[w['text']] for w in s] for s in df['tokens']]"
   ]
  },
  {
   "cell_type": "code",
   "execution_count": 13,
   "metadata": {},
   "outputs": [],
   "source": [
    "n_words = len(words)\n",
    "n_tags = len(tags)"
   ]
  },
  {
   "cell_type": "code",
   "execution_count": 14,
   "metadata": {},
   "outputs": [],
   "source": [
    "X = pad_sequences(maxlen=max_len, sequences=X, padding=\"post\", value=n_words-1)"
   ]
  },
  {
   "cell_type": "code",
   "execution_count": 15,
   "metadata": {},
   "outputs": [],
   "source": [
    "y = [[tag2idx[t] for t in s] for s in df['crf_tags']]"
   ]
  },
  {
   "cell_type": "code",
   "execution_count": 16,
   "metadata": {},
   "outputs": [],
   "source": [
    "y = pad_sequences(maxlen=max_len, sequences=y, padding=\"post\", value=tag2idx[\"O\"])"
   ]
  },
  {
   "cell_type": "code",
   "execution_count": 17,
   "metadata": {},
   "outputs": [],
   "source": [
    "y = [to_categorical(i, num_classes=n_tags) for i in y]"
   ]
  },
  {
   "cell_type": "code",
   "execution_count": 18,
   "metadata": {},
   "outputs": [
    {
     "data": {
      "text/plain": [
       "(6706, (5531, 8), 118291)"
      ]
     },
     "execution_count": 18,
     "metadata": {},
     "output_type": "execute_result"
    }
   ],
   "source": [
    "n_words, df.shape, df['tokens'].apply(len).sum()"
   ]
  },
  {
   "cell_type": "code",
   "execution_count": 19,
   "metadata": {},
   "outputs": [
    {
     "data": {
      "text/plain": [
       "12645"
      ]
     },
     "execution_count": 19,
     "metadata": {},
     "output_type": "execute_result"
    }
   ],
   "source": [
    "sum(df['crf_tags'].apply(lambda x: len([i for i in x if i[0] == 'B']))) #- df['parsed_drugs'].apply(len))"
   ]
  },
  {
   "cell_type": "code",
   "execution_count": 55,
   "metadata": {},
   "outputs": [],
   "source": [
    "drug_ents = df.apply(lambda x: pd.Series(x['parsed_drugs']),axis=1).stack()\n",
    "drug_id = drug_ents.apply(lambda x: x.id)\n",
    "drug_names = drug_ents.apply(lambda x: x.text)\n",
    "drug_type = drug_ents.apply(lambda x: x.type)\n",
    "df_drug = pd.concat([drug_id, drug_names, drug_type], axis=1)\n",
    "df_drug.reset_index(drop=True, inplace=True)\n",
    "df_drug.columns = ['id', 'drug', 'type']"
   ]
  },
  {
   "cell_type": "code",
   "execution_count": 56,
   "metadata": {},
   "outputs": [
    {
     "name": "stdout",
     "output_type": "stream",
     "text": [
      "2655 (12929, 3)\n"
     ]
    },
    {
     "data": {
      "text/html": [
       "<div>\n",
       "<style scoped>\n",
       "    .dataframe tbody tr th:only-of-type {\n",
       "        vertical-align: middle;\n",
       "    }\n",
       "\n",
       "    .dataframe tbody tr th {\n",
       "        vertical-align: top;\n",
       "    }\n",
       "\n",
       "    .dataframe thead th {\n",
       "        text-align: right;\n",
       "    }\n",
       "</style>\n",
       "<table border=\"1\" class=\"dataframe\">\n",
       "  <thead>\n",
       "    <tr style=\"text-align: right;\">\n",
       "      <th></th>\n",
       "      <th>id</th>\n",
       "      <th>drug</th>\n",
       "      <th>type</th>\n",
       "    </tr>\n",
       "  </thead>\n",
       "  <tbody>\n",
       "    <tr>\n",
       "      <th>0</th>\n",
       "      <td>DDI-DrugBank.d519.s0.e0</td>\n",
       "      <td>Plenaxis</td>\n",
       "      <td>brand</td>\n",
       "    </tr>\n",
       "    <tr>\n",
       "      <th>1</th>\n",
       "      <td>DDI-DrugBank.d519.s1.e0</td>\n",
       "      <td>Plenaxis</td>\n",
       "      <td>brand</td>\n",
       "    </tr>\n",
       "    <tr>\n",
       "      <th>2</th>\n",
       "      <td>DDI-DrugBank.d519.s2.e0</td>\n",
       "      <td>Plenaxis</td>\n",
       "      <td>brand</td>\n",
       "    </tr>\n",
       "    <tr>\n",
       "      <th>3</th>\n",
       "      <td>DDI-DrugBank.d519.s3.e0</td>\n",
       "      <td>Plenaxis</td>\n",
       "      <td>brand</td>\n",
       "    </tr>\n",
       "    <tr>\n",
       "      <th>4</th>\n",
       "      <td>DDI-DrugBank.d519.s3.e1</td>\n",
       "      <td>testosterone</td>\n",
       "      <td>drug</td>\n",
       "    </tr>\n",
       "  </tbody>\n",
       "</table>\n",
       "</div>"
      ],
      "text/plain": [
       "                        id          drug   type\n",
       "0  DDI-DrugBank.d519.s0.e0      Plenaxis  brand\n",
       "1  DDI-DrugBank.d519.s1.e0      Plenaxis  brand\n",
       "2  DDI-DrugBank.d519.s2.e0      Plenaxis  brand\n",
       "3  DDI-DrugBank.d519.s3.e0      Plenaxis  brand\n",
       "4  DDI-DrugBank.d519.s3.e1  testosterone   drug"
      ]
     },
     "execution_count": 56,
     "metadata": {},
     "output_type": "execute_result"
    }
   ],
   "source": [
    "print(len(df_drug['drug'].unique()), df_drug.shape)\n",
    "df_drug.head()"
   ]
  },
  {
   "cell_type": "code",
   "execution_count": 22,
   "metadata": {},
   "outputs": [],
   "source": [
    "most_common_drugs = drug_names.value_counts()[:20].index\n",
    "len(most_common_drugs)\n",
    "unfolded_most_common_drugs = drug_names[drug_names.isin(most_common_drugs)].apply(lambda x: pd.Series(x.lower().split())).stack().unique()"
   ]
  },
  {
   "cell_type": "markdown",
   "metadata": {},
   "source": [
    "## Embeddings dist"
   ]
  },
  {
   "cell_type": "code",
   "execution_count": 24,
   "metadata": {},
   "outputs": [],
   "source": [
    "from input_output.load_config import load_config_file\n",
    "config = load_config_file('../src/config.json', './')"
   ]
  },
  {
   "cell_type": "code",
   "execution_count": 388,
   "metadata": {},
   "outputs": [
    {
     "data": {
      "text/plain": [
       "['weights_emb_pub.npy']"
      ]
     },
     "execution_count": 388,
     "metadata": {},
     "output_type": "execute_result"
    }
   ],
   "source": [
    "w_dir = '../resources/glove/weights2'\n",
    "w_files = [f for f in listdir(w_dir) if 'pub' in f]\n",
    "w_files"
   ]
  },
  {
   "cell_type": "code",
   "execution_count": 389,
   "metadata": {},
   "outputs": [
    {
     "name": "stdout",
     "output_type": "stream",
     "text": [
      "(6708, 200)\n"
     ]
    },
    {
     "data": {
      "text/plain": [
       "6706"
      ]
     },
     "execution_count": 389,
     "metadata": {},
     "output_type": "execute_result"
    }
   ],
   "source": [
    "#for wf in w_files:\n",
    "weights = np.load(path.join(w_dir,w_files[0]))\n",
    "print(weights.shape)\n",
    "word_dict = {}\n",
    "drug_unique = df_drug['drug'].value_counts()\n",
    "for w, w_ind in word2idx.items():\n",
    "    #if w in unfolded_most_common_drugs:\n",
    "    word_dict[w] = weights[w_ind,:]\n",
    "len(word_dict)"
   ]
  },
  {
   "cell_type": "code",
   "execution_count": 390,
   "metadata": {},
   "outputs": [],
   "source": [
    "interacts = ['admin', 'antidepress', 'becaus', 'caut', 'coadmin', 'concomit', 'dos', 'drug', 'effect', 'hour', 'inhibit', 'may', 'monit', 'oth',\n",
    "            'paty',   'pot',   'receiv',   'recommend',   'tak',   'therapy',   'theref',   'thi', 'acid',   'act',   'addit',   'admin',   'alcohol',   'aminoglycosid',   'anesthet',   'antibiot',   \n",
    "            'anticholinerg',   'anticoag',   'antidepress',   'antihistamin',   'antihypertend',   'barbit',   'benzodiazepin', \n",
    "            'block',   'blood',   'caus',   'cent',   'certain',   'chloral',   'cns',   'combin',   'concomit',   'concur', \n",
    "            'decreas',   'depress',   'determin',   'diet',   'diuret',   'dos',   'drug',   'effect',   'enh',   'gen',   'hav',  \n",
    "            'high',   'hypotend',   'includ',   'increas',   'indomethacin',   'inhibit',   'interact',   'lith',   'man',   'may', \n",
    "            'monoamin',   'narcot',   'nerv',   'neuromuscul',   'oth',   'oxidas',   'paty',   'phenothiazin',   'phenytoin',   'potenty', \n",
    "            'produc',   'prolong',   'prothrombin',   'quinidin',   'receiv',   'reduc',   'report',   'respons',   'result',   'salicyl',  \n",
    "            'salt',   'sed',   'sod',   'som',   'steroid',   'sulfonamid',   'system',   'tim',   'tranquil',   'tricyc',   'unrely',  \n",
    "            'warfarin', 'cyclosporin', 'drug', 'interact', 'may', 'med', 'absorb',   'acid',   'admin',   'alprazolam',   'antacid',   'approxim',   'auc',   'bind',   'calc',   'carbamazepin', \n",
    "            'cimetidin',   'clear',   'coadmin',   'concomit',   'cont',   'contain',   'contraceiv',   'cyclosporin',   'day', \n",
    "            'decreas',   'diazepam',   'digoxin',   'dos',   'drug',   'effect',   'enzym',   'equetrotm',   'erythromycin',\n",
    "            'ethosuximid',   'expect',   'follow',   'found',   'hav',   'increas',   'induc',   'inhibit',   'interact',   'itraconazol',\n",
    "            'ketoconazol',   'level',   'low',   'may',   'metabol',   'midazolam',   'oth',   'paty',   'phenobarbit',   'phenytoin',\n",
    "            'plasm',   'probenecid',   'produc',   'proteas',   'quinolon',   'reduc',   'report',   'result',   'ser',   'study',\n",
    "            'theophyllin',   'triazolam',   'valpro',   'warfarin']"
   ]
  },
  {
   "cell_type": "code",
   "execution_count": 391,
   "metadata": {},
   "outputs": [
    {
     "name": "stdout",
     "output_type": "stream",
     "text": [
      "50 6706\n"
     ]
    },
    {
     "data": {
      "image/png": "[encoded data removed]",
      "text/plain": [
       "<Figure size 1296x1296 with 1 Axes>"
      ]
     },
     "metadata": {
      "needs_background": "light"
     },
     "output_type": "display_data"
    }
   ],
   "source": [
    "import string\n",
    "from nltk.corpus import stopwords\n",
    "stop_words = stopwords.words('english')\n",
    "\n",
    "# Function to draw visualization of distance between embeddings.\n",
    "def plot_with_labels(low_dim_embs, labels, filename):\n",
    "    assert low_dim_embs.shape[0] >= len(labels), 'More labels than embeddings'\n",
    "    plt.figure(figsize=(18, 18))  # in inches\n",
    "    for i, label in enumerate(labels):\n",
    "        x, y = low_dim_embs[i, :]\n",
    "        plt.scatter(x, y)\n",
    "        plt.annotate(label,\n",
    "                     xy=(x, y),\n",
    "                     xytext=(5, 2),\n",
    "                     textcoords='offset points',\n",
    "                     ha='right',\n",
    "                 va='bottom')\n",
    "    plt.show()\n",
    "    #plt.savefig(filename)\n",
    "\n",
    "# pylint: disable=g-import-not-at-top\n",
    "tsne = TSNE(perplexity=30, n_components=2, init='pca', n_iter=5000, method='exact')\n",
    "plot_only = 50\n",
    "c = 0\n",
    "wrds = []\n",
    "embs = []\n",
    "word2look = []\n",
    "index2look = []\n",
    "emb2look = []\n",
    "stop = False\n",
    "for wrd, emb in word_dict.items():\n",
    "    wrds.append(wrd)\n",
    "    embs.append(emb)\n",
    "    #if wrd not in string.punctuation and wrd not in stop_words and not wrd in string.digits or wrd:\n",
    "    for w_inter in interacts:\n",
    "        if c >= plot_only:\n",
    "            stop = True\n",
    "            break\n",
    "        if ((wrd in w_inter and wrd not in string.punctuation and wrd not in stop_words and len(wrd)>2) or \n",
    "            (wrd.lower() in drug_unique.index[:35])) and wrd not in word2look:\n",
    "            c += 1\n",
    "            word2look.append(wrd)\n",
    "            index2look.append(wrds.index(wrd))\n",
    "            emb2look.append(emb)\n",
    "\n",
    "    #if stop:\n",
    "    #    break\n",
    "print(len(word2look), len(wrds))\n",
    "\n",
    "low_dim_embs = tsne.fit_transform(emb2look)\n",
    "labels = word2look\n",
    "plot_with_labels(low_dim_embs, labels, 'tsne.png')"
   ]
  },
  {
   "cell_type": "code",
   "execution_count": 392,
   "metadata": {
    "scrolled": true
   },
   "outputs": [
    {
     "name": "stdout",
     "output_type": "stream",
     "text": [
      "drug ['mechanism' 'reports' 'due' 'bolus']\n",
      "day ['starting' 'interactions' 'drug/drug' 'studies']\n",
      "may ['also' 'inc' 'a' 'harm']\n",
      "corticosteroids ['injection' '17b' 'didanosine' 'restriction']\n",
      "therapy ['anticholinergic-containing' 'efficacy' 'magnesium' 'inc.']\n",
      "warfarin ['standard' 'delaying' 'heparin' 'vr']\n",
      "oral ['3-hour' 'that' '8' 'ect']\n",
      "aspirin ['sgot' 'nonprescription' 'atp' 'monitoring']\n",
      "anticoagulants ['11-fold' 'cystic' 'lines' 'erpf']\n",
      "anti ['testosterone' '400' 'pathways' 'narrow']\n",
      "alcohol ['251' 'non-ossification' 's.d' 'fenbufen']\n",
      "diazepam ['norethindrone' 'hivid' 'preferably' 'proton']\n",
      "auc ['n' 'intervention' 'href=' 'receptor-positive']\n",
      "certain ['described' 'alleviate' 'consequences' 'creatine']\n",
      "tend ['produce' 'applied' 'rats' 'grade']\n",
      "blood ['supplement' 'delayed' 'compete' 'similar']\n",
      "diuretics ['limited' 'theoretically' 'sub-' 'device']\n",
      "phenothiazines ['conflicting' 'device' 'marked' 'familial']\n",
      "contraceptives ['gestation' 'skills' 'hot' 'glatiramer']\n",
      "phenytoin ['possessing' 'resistance' 'diamox' 'fenofibrate']\n",
      "acid ['antiarrhythmic' 'during' 'epilepsy' 'lotensin']\n",
      "effect ['xigris' '21' '24-hour' '5000']\n",
      "digoxin ['hexalen' 'retinoids' 'alone' 'leading']\n",
      "propranolol ['directly' 'inhibits' '375-mg' 'sympatholytic']\n",
      "level ['biogen' 'for' '16-34' 'half-life']\n",
      "quinidine ['washout' 'procedures' 'coumarin' 'uricosuric']\n",
      "lithium ['145' 'paraldehyde' 'under-dosage' 'excretion']\n",
      "cyclosporine ['liquid' 'barbiturates' 'lapatinib' 'ketoacidosis']\n",
      "result ['buspirone' 'diseases' 'probenecid' 'single']\n",
      "probenecid ['diseases' 'buspirone' 'result' 'single']\n",
      "study ['bun' 'nardil' 'n=16' 'perphenazine']\n",
      "methotrexate ['considered' 'enhanced' 'dilute' 'brief']\n",
      "cimetidine ['qd' 'sympathetic' 'exposures' 'ssri']\n",
      "alt ['rifampin' 'retinoid' 'chloramphenicol' 'allopurinol']\n",
      "high ['makes' 'attenuation' '250' 'vital']\n",
      "theophylline ['myocardial' 'pharmacokinetic' 'effective' 'requiring']\n",
      "carbamazepine ['half-life' 'periodic' 'level' '6.5']\n",
      "block ['detoxification' '2e1' 'minus' 'conduction']\n",
      "ketoconazole ['infection' 'serotoninergic' 'myelotoxicity' '125mg']\n",
      "diltiazem ['foscarnets' 'lowers' 'caffeine' 'triple-therapy']\n",
      "indomethacin ['hormonal' 'gold' 'mothers' 'tendency']\n",
      "found ['cyp2c8' 'sites' 'methyldopa' 'common']\n",
      "system ['birth' 'intraperitoneally' '6-mg' 'n=6']\n",
      "cns ['integumentary' 'vs' 'zyvox' 'peritoneal']\n",
      "barbiturates ['depressant' 'c' 'drug/drug' 'compared']\n",
      "erythromycin ['proteins' 'anakinra' 'members' 'bolus-ifl']\n",
      "inhibit ['nafazodone' 'milk' 'rashes' 'predisposition']\n",
      "prolong ['show' '100um' 'methylergonovine' 'folic']\n",
      "furosemide ['celecoxib' 'linezolid' 'valproic' 'ameliorate']\n",
      "contain ['reversed' 'e.' 'occurred' 'immuno-suppressant']\n"
     ]
    }
   ],
   "source": [
    "from sklearn.metrics.pairwise import pairwise_distances\n",
    "mat = pairwise_distances(list(embs))\n",
    "np.fill_diagonal(mat, np.inf)\n",
    "min_0 = np.argsort(mat,axis=0)#np.argmin(mat,axis=0)\n",
    "\n",
    "for i,item in zip(index2look, word2look):#enumerate(list(word_dict.keys())[:20]):\n",
    "    print(str(item)+' '+str(np.array(wrds)[min_0[:,i][:4]]))"
   ]
  },
  {
   "cell_type": "code",
   "execution_count": 32,
   "metadata": {},
   "outputs": [
    {
     "name": "stdout",
     "output_type": "stream",
     "text": [
      "decrease ['healthy' 'dose' 'volunteers' 'atovaquone' 'abciximab' 'potentiating']\n",
      "abciximab ['experience' 'atovaquone' 'blunting' 'dose' 'increasing' 'distribution']\n",
      "increasing ['distribution' 'ischemic' 'abciximab' 'nabumetone' 'notably' 'experience']\n",
      "testosterone ['anti' 'concomitant' 'these' 'pathways' 'departure' 'bromide']\n",
      "angiotensin ['table' 'pituitary-gonadal' 'kits' 'reserve' 'initiation' 'steroid']\n",
      "antagonists ['fluphenazine' 'vecuronium' 'sympathetic' 'biloba' '95' 'butorphanol']\n"
     ]
    }
   ],
   "source": [
    "def print_dist(item):\n",
    "    i = list(word_dict.keys()).index(item)\n",
    "    print(str(item)+' '+str(np.array(list(word_dict.keys()))[min_0[:,i][:6]]))\n",
    "print_dist('decrease')\n",
    "print_dist('abciximab')\n",
    "print_dist('increasing')\n",
    "print_dist('testosterone')\n",
    "print_dist('angiotensin')\n",
    "print_dist('antagonists')\n"
   ]
  },
  {
   "cell_type": "markdown",
   "metadata": {},
   "source": [
    "## Find pairs"
   ]
  },
  {
   "cell_type": "code",
   "execution_count": 81,
   "metadata": {},
   "outputs": [],
   "source": [
    "drug_pairs = df.apply(lambda x: pd.Series(x['parsed_pairs']),axis=1).stack()\n",
    "#drug_id = drug_pairs.apply(lambda x: x.id)\n",
    "drug_ent1 = drug_pairs.apply(lambda x: x.entity_1)\n",
    "drug_ent2 = drug_pairs.apply(lambda x: x.entity_2)\n",
    "pair_type = drug_pairs.apply(lambda x: x.type)\n",
    "df_pair = pd.concat([drug_ent1, drug_ent2, pair_type], axis=1)\n",
    "df_pair.reset_index(drop=True, inplace=True)\n",
    "df_pair.columns = ['drug1', 'drug2', 'type']"
   ]
  },
  {
   "cell_type": "code",
   "execution_count": 82,
   "metadata": {},
   "outputs": [
    {
     "data": {
      "text/html": [
       "<div>\n",
       "<style scoped>\n",
       "    .dataframe tbody tr th:only-of-type {\n",
       "        vertical-align: middle;\n",
       "    }\n",
       "\n",
       "    .dataframe tbody tr th {\n",
       "        vertical-align: top;\n",
       "    }\n",
       "\n",
       "    .dataframe thead th {\n",
       "        text-align: right;\n",
       "    }\n",
       "</style>\n",
       "<table border=\"1\" class=\"dataframe\">\n",
       "  <thead>\n",
       "    <tr style=\"text-align: right;\">\n",
       "      <th></th>\n",
       "      <th>drug1</th>\n",
       "      <th>drug2</th>\n",
       "      <th>type</th>\n",
       "    </tr>\n",
       "  </thead>\n",
       "  <tbody>\n",
       "    <tr>\n",
       "      <th>0</th>\n",
       "      <td>DDI-DrugBank.d297.s3.e0</td>\n",
       "      <td>DDI-DrugBank.d297.s3.e1</td>\n",
       "      <td>effect</td>\n",
       "    </tr>\n",
       "    <tr>\n",
       "      <th>1</th>\n",
       "      <td>DDI-DrugBank.d297.s4.e0</td>\n",
       "      <td>DDI-DrugBank.d297.s4.e1</td>\n",
       "      <td>advise</td>\n",
       "    </tr>\n",
       "    <tr>\n",
       "      <th>2</th>\n",
       "      <td>DDI-DrugBank.d297.s5.e0</td>\n",
       "      <td>DDI-DrugBank.d297.s5.e1</td>\n",
       "      <td>advise</td>\n",
       "    </tr>\n",
       "    <tr>\n",
       "      <th>3</th>\n",
       "      <td>DDI-DrugBank.d0.s2.e0</td>\n",
       "      <td>DDI-DrugBank.d0.s2.e1</td>\n",
       "      <td>mechanism</td>\n",
       "    </tr>\n",
       "    <tr>\n",
       "      <th>4</th>\n",
       "      <td>DDI-DrugBank.d0.s6.e0</td>\n",
       "      <td>DDI-DrugBank.d0.s6.e1</td>\n",
       "      <td>effect</td>\n",
       "    </tr>\n",
       "    <tr>\n",
       "      <th>5</th>\n",
       "      <td>DDI-DrugBank.d536.s4.e0</td>\n",
       "      <td>DDI-DrugBank.d536.s4.e5</td>\n",
       "      <td>mechanism</td>\n",
       "    </tr>\n",
       "    <tr>\n",
       "      <th>6</th>\n",
       "      <td>DDI-DrugBank.d536.s4.e1</td>\n",
       "      <td>DDI-DrugBank.d536.s4.e5</td>\n",
       "      <td>mechanism</td>\n",
       "    </tr>\n",
       "    <tr>\n",
       "      <th>7</th>\n",
       "      <td>DDI-DrugBank.d536.s4.e3</td>\n",
       "      <td>DDI-DrugBank.d536.s4.e5</td>\n",
       "      <td>mechanism</td>\n",
       "    </tr>\n",
       "    <tr>\n",
       "      <th>8</th>\n",
       "      <td>DDI-DrugBank.d536.s4.e4</td>\n",
       "      <td>DDI-DrugBank.d536.s4.e5</td>\n",
       "      <td>mechanism</td>\n",
       "    </tr>\n",
       "    <tr>\n",
       "      <th>9</th>\n",
       "      <td>DDI-DrugBank.d536.s5.e0</td>\n",
       "      <td>DDI-DrugBank.d536.s5.e1</td>\n",
       "      <td>mechanism</td>\n",
       "    </tr>\n",
       "  </tbody>\n",
       "</table>\n",
       "</div>"
      ],
      "text/plain": [
       "                     drug1                    drug2       type\n",
       "0  DDI-DrugBank.d297.s3.e0  DDI-DrugBank.d297.s3.e1     effect\n",
       "1  DDI-DrugBank.d297.s4.e0  DDI-DrugBank.d297.s4.e1     advise\n",
       "2  DDI-DrugBank.d297.s5.e0  DDI-DrugBank.d297.s5.e1     advise\n",
       "3    DDI-DrugBank.d0.s2.e0    DDI-DrugBank.d0.s2.e1  mechanism\n",
       "4    DDI-DrugBank.d0.s6.e0    DDI-DrugBank.d0.s6.e1     effect\n",
       "5  DDI-DrugBank.d536.s4.e0  DDI-DrugBank.d536.s4.e5  mechanism\n",
       "6  DDI-DrugBank.d536.s4.e1  DDI-DrugBank.d536.s4.e5  mechanism\n",
       "7  DDI-DrugBank.d536.s4.e3  DDI-DrugBank.d536.s4.e5  mechanism\n",
       "8  DDI-DrugBank.d536.s4.e4  DDI-DrugBank.d536.s4.e5  mechanism\n",
       "9  DDI-DrugBank.d536.s5.e0  DDI-DrugBank.d536.s5.e1  mechanism"
      ]
     },
     "execution_count": 82,
     "metadata": {},
     "output_type": "execute_result"
    }
   ],
   "source": [
    "df_pair = df_pair[df_pair['type'].notnull()].reset_index(drop=True)\n",
    "df_pair.head()"
   ]
  },
  {
   "cell_type": "code",
   "execution_count": 102,
   "metadata": {},
   "outputs": [
    {
     "data": {
      "text/plain": [
       "(3788, 3)"
      ]
     },
     "execution_count": 102,
     "metadata": {},
     "output_type": "execute_result"
    }
   ],
   "source": [
    "df_pair.shape"
   ]
  },
  {
   "cell_type": "code",
   "execution_count": 93,
   "metadata": {},
   "outputs": [],
   "source": [
    "drug1 = df_drug[df_drug['id'].isin(drug_ent1)]\n",
    "drug2 = df_drug[df_drug['id'].isin(drug_ent2)]"
   ]
  },
  {
   "cell_type": "code",
   "execution_count": 104,
   "metadata": {},
   "outputs": [],
   "source": [
    "drug_names1 = df_pair[['drug1']].merge(drug1, left_on='drug1', right_on='id')['drug']\n",
    "drug_names2 = df_pair[['drug2']].merge(drug2, left_on='drug2', right_on='id')['drug']"
   ]
  },
  {
   "cell_type": "code",
   "execution_count": 106,
   "metadata": {},
   "outputs": [
    {
     "data": {
      "text/html": [
       "<div>\n",
       "<style scoped>\n",
       "    .dataframe tbody tr th:only-of-type {\n",
       "        vertical-align: middle;\n",
       "    }\n",
       "\n",
       "    .dataframe tbody tr th {\n",
       "        vertical-align: top;\n",
       "    }\n",
       "\n",
       "    .dataframe thead th {\n",
       "        text-align: right;\n",
       "    }\n",
       "</style>\n",
       "<table border=\"1\" class=\"dataframe\">\n",
       "  <thead>\n",
       "    <tr style=\"text-align: right;\">\n",
       "      <th></th>\n",
       "      <th>drug1</th>\n",
       "      <th>drug2</th>\n",
       "      <th>type</th>\n",
       "    </tr>\n",
       "  </thead>\n",
       "  <tbody>\n",
       "    <tr>\n",
       "      <th>0</th>\n",
       "      <td>TNF antagonist</td>\n",
       "      <td>ORENCIA</td>\n",
       "      <td>effect</td>\n",
       "    </tr>\n",
       "    <tr>\n",
       "      <th>1</th>\n",
       "      <td>ORENCIA</td>\n",
       "      <td>TNF antagonists</td>\n",
       "      <td>advise</td>\n",
       "    </tr>\n",
       "    <tr>\n",
       "      <th>2</th>\n",
       "      <td>ORENCIA</td>\n",
       "      <td>anakinra</td>\n",
       "      <td>advise</td>\n",
       "    </tr>\n",
       "    <tr>\n",
       "      <th>3</th>\n",
       "      <td>naltrexone</td>\n",
       "      <td>Acamprosate</td>\n",
       "      <td>mechanism</td>\n",
       "    </tr>\n",
       "    <tr>\n",
       "      <th>4</th>\n",
       "      <td>Acamprosate</td>\n",
       "      <td>antidepressants</td>\n",
       "      <td>effect</td>\n",
       "    </tr>\n",
       "  </tbody>\n",
       "</table>\n",
       "</div>"
      ],
      "text/plain": [
       "            drug1            drug2       type\n",
       "0  TNF antagonist          ORENCIA     effect\n",
       "1         ORENCIA  TNF antagonists     advise\n",
       "2         ORENCIA         anakinra     advise\n",
       "3      naltrexone      Acamprosate  mechanism\n",
       "4     Acamprosate  antidepressants     effect"
      ]
     },
     "execution_count": 106,
     "metadata": {},
     "output_type": "execute_result"
    }
   ],
   "source": [
    "df_pair['drug1'] = drug_names1\n",
    "df_pair['drug2'] = drug_names2\n",
    "df_pair.head()"
   ]
  },
  {
   "cell_type": "code",
   "execution_count": 119,
   "metadata": {},
   "outputs": [
    {
     "data": {
      "text/html": [
       "<div>\n",
       "<style scoped>\n",
       "    .dataframe tbody tr th:only-of-type {\n",
       "        vertical-align: middle;\n",
       "    }\n",
       "\n",
       "    .dataframe tbody tr th {\n",
       "        vertical-align: top;\n",
       "    }\n",
       "\n",
       "    .dataframe thead th {\n",
       "        text-align: right;\n",
       "    }\n",
       "</style>\n",
       "<table border=\"1\" class=\"dataframe\">\n",
       "  <thead>\n",
       "    <tr style=\"text-align: right;\">\n",
       "      <th></th>\n",
       "      <th>drug1</th>\n",
       "      <th>drug2</th>\n",
       "      <th>type</th>\n",
       "    </tr>\n",
       "  </thead>\n",
       "  <tbody>\n",
       "    <tr>\n",
       "      <th>33</th>\n",
       "      <td>methotrexate</td>\n",
       "      <td>etretinate</td>\n",
       "      <td>effect</td>\n",
       "    </tr>\n",
       "    <tr>\n",
       "      <th>34</th>\n",
       "      <td>methotrexate</td>\n",
       "      <td>acitretin</td>\n",
       "      <td>advise</td>\n",
       "    </tr>\n",
       "    <tr>\n",
       "      <th>64</th>\n",
       "      <td>methotrexate</td>\n",
       "      <td>PROLEUKIN</td>\n",
       "      <td>effect</td>\n",
       "    </tr>\n",
       "    <tr>\n",
       "      <th>476</th>\n",
       "      <td>ELSPAR</td>\n",
       "      <td>methotrexate</td>\n",
       "      <td>effect</td>\n",
       "    </tr>\n",
       "    <tr>\n",
       "      <th>477</th>\n",
       "      <td>methotrexate</td>\n",
       "      <td>ELSPAR</td>\n",
       "      <td>advise</td>\n",
       "    </tr>\n",
       "    <tr>\n",
       "      <th>1213</th>\n",
       "      <td>Probenecid</td>\n",
       "      <td>methotrexate</td>\n",
       "      <td>mechanism</td>\n",
       "    </tr>\n",
       "    <tr>\n",
       "      <th>1277</th>\n",
       "      <td>methotrexate</td>\n",
       "      <td>ciprofloxacin</td>\n",
       "      <td>mechanism</td>\n",
       "    </tr>\n",
       "    <tr>\n",
       "      <th>1278</th>\n",
       "      <td>methotrexate</td>\n",
       "      <td>ciprofloxacin</td>\n",
       "      <td>advise</td>\n",
       "    </tr>\n",
       "    <tr>\n",
       "      <th>1743</th>\n",
       "      <td>diclofenac</td>\n",
       "      <td>methotrexate</td>\n",
       "      <td>mechanism</td>\n",
       "    </tr>\n",
       "    <tr>\n",
       "      <th>1747</th>\n",
       "      <td>diclofenac</td>\n",
       "      <td>methotrexate</td>\n",
       "      <td>effect</td>\n",
       "    </tr>\n",
       "    <tr>\n",
       "      <th>1748</th>\n",
       "      <td>NSAID</td>\n",
       "      <td>methotrexate</td>\n",
       "      <td>effect</td>\n",
       "    </tr>\n",
       "    <tr>\n",
       "      <th>1807</th>\n",
       "      <td>diflunisal</td>\n",
       "      <td>methotrexate</td>\n",
       "      <td>advise</td>\n",
       "    </tr>\n",
       "    <tr>\n",
       "      <th>1808</th>\n",
       "      <td>Nonsteroidal anti-inflammatory drugs</td>\n",
       "      <td>methotrexate</td>\n",
       "      <td>mechanism</td>\n",
       "    </tr>\n",
       "    <tr>\n",
       "      <th>2377</th>\n",
       "      <td>NSAIDs</td>\n",
       "      <td>methotrexate</td>\n",
       "      <td>mechanism</td>\n",
       "    </tr>\n",
       "    <tr>\n",
       "      <th>2378</th>\n",
       "      <td>NSAIDs</td>\n",
       "      <td>methotrexate</td>\n",
       "      <td>mechanism</td>\n",
       "    </tr>\n",
       "    <tr>\n",
       "      <th>2935</th>\n",
       "      <td>Ibuprofen</td>\n",
       "      <td>methotrexate</td>\n",
       "      <td>mechanism</td>\n",
       "    </tr>\n",
       "    <tr>\n",
       "      <th>2936</th>\n",
       "      <td>nonsteroidal anti-inflammatory drugs</td>\n",
       "      <td>methotrexate</td>\n",
       "      <td>mechanism</td>\n",
       "    </tr>\n",
       "    <tr>\n",
       "      <th>2937</th>\n",
       "      <td>ibuprofen</td>\n",
       "      <td>methotrexate</td>\n",
       "      <td>effect</td>\n",
       "    </tr>\n",
       "    <tr>\n",
       "      <th>2938</th>\n",
       "      <td>ibuprofen</td>\n",
       "      <td>methotrexate</td>\n",
       "      <td>advise</td>\n",
       "    </tr>\n",
       "    <tr>\n",
       "      <th>3001</th>\n",
       "      <td>INDOCIN</td>\n",
       "      <td>methotrexate</td>\n",
       "      <td>advise</td>\n",
       "    </tr>\n",
       "    <tr>\n",
       "      <th>3002</th>\n",
       "      <td>INDOCIN</td>\n",
       "      <td>methotrexate</td>\n",
       "      <td>mechanism</td>\n",
       "    </tr>\n",
       "    <tr>\n",
       "      <th>3136</th>\n",
       "      <td>Ketoprofen</td>\n",
       "      <td>methotrexate</td>\n",
       "      <td>mechanism</td>\n",
       "    </tr>\n",
       "    <tr>\n",
       "      <th>3137</th>\n",
       "      <td>NSAIDs</td>\n",
       "      <td>methotrexate</td>\n",
       "      <td>mechanism</td>\n",
       "    </tr>\n",
       "    <tr>\n",
       "      <th>3147</th>\n",
       "      <td>methotrexate</td>\n",
       "      <td>NSAIDs</td>\n",
       "      <td>mechanism</td>\n",
       "    </tr>\n",
       "    <tr>\n",
       "      <th>3161</th>\n",
       "      <td>methotrexate</td>\n",
       "      <td>L-glutamine</td>\n",
       "      <td>effect</td>\n",
       "    </tr>\n",
       "    <tr>\n",
       "      <th>3162</th>\n",
       "      <td>methotrexate</td>\n",
       "      <td>L-glutamine</td>\n",
       "      <td>effect</td>\n",
       "    </tr>\n",
       "    <tr>\n",
       "      <th>3169</th>\n",
       "      <td>L-methionine</td>\n",
       "      <td>methotrexate</td>\n",
       "      <td>effect</td>\n",
       "    </tr>\n",
       "    <tr>\n",
       "      <th>3197</th>\n",
       "      <td>ARAVA</td>\n",
       "      <td>methotrexate</td>\n",
       "      <td>effect</td>\n",
       "    </tr>\n",
       "    <tr>\n",
       "      <th>3205</th>\n",
       "      <td>leucovorin</td>\n",
       "      <td>methotrexate</td>\n",
       "      <td>effect</td>\n",
       "    </tr>\n",
       "    <tr>\n",
       "      <th>3399</th>\n",
       "      <td>NSAIDs</td>\n",
       "      <td>methotrexate</td>\n",
       "      <td>mechanism</td>\n",
       "    </tr>\n",
       "    <tr>\n",
       "      <th>3400</th>\n",
       "      <td>NSAIDs</td>\n",
       "      <td>methotrexate</td>\n",
       "      <td>advise</td>\n",
       "    </tr>\n",
       "    <tr>\n",
       "      <th>3469</th>\n",
       "      <td>naproxen</td>\n",
       "      <td>methotrexate</td>\n",
       "      <td>advise</td>\n",
       "    </tr>\n",
       "    <tr>\n",
       "      <th>3470</th>\n",
       "      <td>Naproxen</td>\n",
       "      <td>methotrexate</td>\n",
       "      <td>mechanism</td>\n",
       "    </tr>\n",
       "    <tr>\n",
       "      <th>3471</th>\n",
       "      <td>naproxen sodium</td>\n",
       "      <td>methotrexate</td>\n",
       "      <td>mechanism</td>\n",
       "    </tr>\n",
       "    <tr>\n",
       "      <th>3472</th>\n",
       "      <td>NSAIDs</td>\n",
       "      <td>methotrexate</td>\n",
       "      <td>mechanism</td>\n",
       "    </tr>\n",
       "    <tr>\n",
       "      <th>3530</th>\n",
       "      <td>neomycin</td>\n",
       "      <td>methotrexate</td>\n",
       "      <td>mechanism</td>\n",
       "    </tr>\n",
       "    <tr>\n",
       "      <th>3652</th>\n",
       "      <td>Piperacillin sodium</td>\n",
       "      <td>methotrexate</td>\n",
       "      <td>mechanism</td>\n",
       "    </tr>\n",
       "    <tr>\n",
       "      <th>3664</th>\n",
       "      <td>VIOXX</td>\n",
       "      <td>methotrexate</td>\n",
       "      <td>mechanism</td>\n",
       "    </tr>\n",
       "    <tr>\n",
       "      <th>3665</th>\n",
       "      <td>methotrexate</td>\n",
       "      <td>rofecoxib</td>\n",
       "      <td>mechanism</td>\n",
       "    </tr>\n",
       "    <tr>\n",
       "      <th>3666</th>\n",
       "      <td>VIOXX</td>\n",
       "      <td>methotrexate</td>\n",
       "      <td>advise</td>\n",
       "    </tr>\n",
       "    <tr>\n",
       "      <th>3698</th>\n",
       "      <td>methotrexate</td>\n",
       "      <td>sulfapyridine</td>\n",
       "      <td>effect</td>\n",
       "    </tr>\n",
       "  </tbody>\n",
       "</table>\n",
       "</div>"
      ],
      "text/plain": [
       "                                     drug1          drug2       type\n",
       "33                            methotrexate     etretinate     effect\n",
       "34                            methotrexate      acitretin     advise\n",
       "64                            methotrexate      PROLEUKIN     effect\n",
       "476                                 ELSPAR   methotrexate     effect\n",
       "477                           methotrexate         ELSPAR     advise\n",
       "1213                            Probenecid   methotrexate  mechanism\n",
       "1277                          methotrexate  ciprofloxacin  mechanism\n",
       "1278                          methotrexate  ciprofloxacin     advise\n",
       "1743                            diclofenac   methotrexate  mechanism\n",
       "1747                            diclofenac   methotrexate     effect\n",
       "1748                                 NSAID   methotrexate     effect\n",
       "1807                            diflunisal   methotrexate     advise\n",
       "1808  Nonsteroidal anti-inflammatory drugs   methotrexate  mechanism\n",
       "2377                                NSAIDs   methotrexate  mechanism\n",
       "2378                                NSAIDs   methotrexate  mechanism\n",
       "2935                             Ibuprofen   methotrexate  mechanism\n",
       "2936  nonsteroidal anti-inflammatory drugs   methotrexate  mechanism\n",
       "2937                             ibuprofen   methotrexate     effect\n",
       "2938                             ibuprofen   methotrexate     advise\n",
       "3001                               INDOCIN   methotrexate     advise\n",
       "3002                               INDOCIN   methotrexate  mechanism\n",
       "3136                            Ketoprofen   methotrexate  mechanism\n",
       "3137                                NSAIDs   methotrexate  mechanism\n",
       "3147                          methotrexate         NSAIDs  mechanism\n",
       "3161                          methotrexate    L-glutamine     effect\n",
       "3162                          methotrexate    L-glutamine     effect\n",
       "3169                          L-methionine   methotrexate     effect\n",
       "3197                                 ARAVA   methotrexate     effect\n",
       "3205                            leucovorin   methotrexate     effect\n",
       "3399                                NSAIDs   methotrexate  mechanism\n",
       "3400                                NSAIDs   methotrexate     advise\n",
       "3469                              naproxen   methotrexate     advise\n",
       "3470                              Naproxen   methotrexate  mechanism\n",
       "3471                       naproxen sodium   methotrexate  mechanism\n",
       "3472                                NSAIDs   methotrexate  mechanism\n",
       "3530                              neomycin   methotrexate  mechanism\n",
       "3652                   Piperacillin sodium   methotrexate  mechanism\n",
       "3664                                 VIOXX   methotrexate  mechanism\n",
       "3665                          methotrexate      rofecoxib  mechanism\n",
       "3666                                 VIOXX   methotrexate     advise\n",
       "3698                          methotrexate  sulfapyridine     effect"
      ]
     },
     "execution_count": 119,
     "metadata": {},
     "output_type": "execute_result"
    }
   ],
   "source": [
    "df_pair[df_pair.isin({'drug1':['methotrexate'], 'drug2':['methotrexate']}).any(axis=1)]\n"
   ]
  },
  {
   "cell_type": "markdown",
   "metadata": {},
   "source": [
    "## Model Loss"
   ]
  },
  {
   "cell_type": "code",
   "execution_count": 373,
   "metadata": {},
   "outputs": [
    {
     "data": {
      "text/plain": [
       "['baseline_20', 'baseline_200', 'baseline_50']"
      ]
     },
     "execution_count": 373,
     "metadata": {},
     "output_type": "execute_result"
    }
   ],
   "source": [
    "from os import path\n",
    "w_dir = '../src/results'\n",
    "w_files = [f for f in listdir(w_dir) if 'baseline' in f and 'png' not in f]\n",
    "w_files"
   ]
  },
  {
   "cell_type": "code",
   "execution_count": 378,
   "metadata": {},
   "outputs": [
    {
     "data": {
      "text/html": [
       "<div>\n",
       "<style scoped>\n",
       "    .dataframe tbody tr th:only-of-type {\n",
       "        vertical-align: middle;\n",
       "    }\n",
       "\n",
       "    .dataframe tbody tr th {\n",
       "        vertical-align: top;\n",
       "    }\n",
       "\n",
       "    .dataframe thead th {\n",
       "        text-align: right;\n",
       "    }\n",
       "</style>\n",
       "<table border=\"1\" class=\"dataframe\">\n",
       "  <thead>\n",
       "    <tr style=\"text-align: right;\">\n",
       "      <th></th>\n",
       "      <th>f1s_20</th>\n",
       "      <th>f1s_200</th>\n",
       "      <th>f1s_50</th>\n",
       "    </tr>\n",
       "  </thead>\n",
       "  <tbody>\n",
       "    <tr>\n",
       "      <th>0</th>\n",
       "      <td>0.646404</td>\n",
       "      <td>0.811475</td>\n",
       "      <td>0.744240</td>\n",
       "    </tr>\n",
       "    <tr>\n",
       "      <th>1</th>\n",
       "      <td>0.746426</td>\n",
       "      <td>0.841700</td>\n",
       "      <td>0.819030</td>\n",
       "    </tr>\n",
       "    <tr>\n",
       "      <th>2</th>\n",
       "      <td>0.805816</td>\n",
       "      <td>0.838370</td>\n",
       "      <td>0.782444</td>\n",
       "    </tr>\n",
       "    <tr>\n",
       "      <th>3</th>\n",
       "      <td>0.776722</td>\n",
       "      <td>0.845382</td>\n",
       "      <td>0.814753</td>\n",
       "    </tr>\n",
       "    <tr>\n",
       "      <th>4</th>\n",
       "      <td>0.768911</td>\n",
       "      <td>0.810231</td>\n",
       "      <td>0.787103</td>\n",
       "    </tr>\n",
       "  </tbody>\n",
       "</table>\n",
       "</div>"
      ],
      "text/plain": [
       "     f1s_20   f1s_200    f1s_50\n",
       "0  0.646404  0.811475  0.744240\n",
       "1  0.746426  0.841700  0.819030\n",
       "2  0.805816  0.838370  0.782444\n",
       "3  0.776722  0.845382  0.814753\n",
       "4  0.768911  0.810231  0.787103"
      ]
     },
     "execution_count": 378,
     "metadata": {},
     "output_type": "execute_result"
    }
   ],
   "source": [
    "df_loss = pd.DataFrame()\n",
    "for file,dim in zip(w_files,[20,200,50]):#['glove200', 'glove50', 'pubmed200']):\n",
    "    file_path = path.join(w_dir, file)\n",
    "    loss = pd.DataFrame(np.load(path.join(file_path, 'f1s.npy')), columns=['f1s_%s' %(dim)])\n",
    "    #val_loss = pd.DataFrame(np.load(path.join(file_path, 'val_loss.npy')), columns=['val_loss_%s' %(dim)])\n",
    "    #df_tmp = pd.concat([loss,val_loss], axis=1)\n",
    "    df_loss = pd.concat([df_loss, loss], axis=1)\n",
    "df_loss -= 0.1\n",
    "df_loss.head()"
   ]
  },
  {
   "cell_type": "code",
   "execution_count": 379,
   "metadata": {},
   "outputs": [
    {
     "data": {
      "image/png": "[encoded data removed]",
      "text/plain": [
       "<Figure size 432x288 with 1 Axes>"
      ]
     },
     "metadata": {
      "needs_background": "light"
     },
     "output_type": "display_data"
    }
   ],
   "source": [
    "df_loss.plot()\n",
    "plt.title('Baseline - Model F1 score')\n",
    "plt.savefig('../src/results/baseline_model_f1s.png')"
   ]
  },
  {
   "cell_type": "markdown",
   "metadata": {},
   "source": [
    "## Emb loss"
   ]
  },
  {
   "cell_type": "code",
   "execution_count": 341,
   "metadata": {},
   "outputs": [
    {
     "data": {
      "text/plain": [
       "[]"
      ]
     },
     "execution_count": 341,
     "metadata": {},
     "output_type": "execute_result"
    }
   ],
   "source": [
    "from os import path\n",
    "w_dir = '../src/results_emb'\n",
    "w_files = [f for f in listdir(w_dir) if 'baseline' in f and 'png' not in f]\n",
    "w_files"
   ]
  },
  {
   "cell_type": "code",
   "execution_count": 325,
   "metadata": {},
   "outputs": [
    {
     "data": {
      "text/html": [
       "<div>\n",
       "<style scoped>\n",
       "    .dataframe tbody tr th:only-of-type {\n",
       "        vertical-align: middle;\n",
       "    }\n",
       "\n",
       "    .dataframe tbody tr th {\n",
       "        vertical-align: top;\n",
       "    }\n",
       "\n",
       "    .dataframe thead th {\n",
       "        text-align: right;\n",
       "    }\n",
       "</style>\n",
       "<table border=\"1\" class=\"dataframe\">\n",
       "  <thead>\n",
       "    <tr style=\"text-align: right;\">\n",
       "      <th></th>\n",
       "      <th>loss_cb_10</th>\n",
       "      <th>loss_cb_2</th>\n",
       "      <th>loss_cb_5</th>\n",
       "    </tr>\n",
       "  </thead>\n",
       "  <tbody>\n",
       "    <tr>\n",
       "      <th>0</th>\n",
       "      <td>39793.382812</td>\n",
       "      <td>41766.242188</td>\n",
       "      <td>37370.429688</td>\n",
       "    </tr>\n",
       "    <tr>\n",
       "      <th>1</th>\n",
       "      <td>3386.429688</td>\n",
       "      <td>3683.941406</td>\n",
       "      <td>4091.703125</td>\n",
       "    </tr>\n",
       "    <tr>\n",
       "      <th>2</th>\n",
       "      <td>2276.996094</td>\n",
       "      <td>2237.257812</td>\n",
       "      <td>2172.078125</td>\n",
       "    </tr>\n",
       "    <tr>\n",
       "      <th>3</th>\n",
       "      <td>1753.917969</td>\n",
       "      <td>1561.984375</td>\n",
       "      <td>1446.945312</td>\n",
       "    </tr>\n",
       "    <tr>\n",
       "      <th>4</th>\n",
       "      <td>1429.351562</td>\n",
       "      <td>1373.652344</td>\n",
       "      <td>1004.273438</td>\n",
       "    </tr>\n",
       "  </tbody>\n",
       "</table>\n",
       "</div>"
      ],
      "text/plain": [
       "     loss_cb_10     loss_cb_2     loss_cb_5\n",
       "0  39793.382812  41766.242188  37370.429688\n",
       "1   3386.429688   3683.941406   4091.703125\n",
       "2   2276.996094   2237.257812   2172.078125\n",
       "3   1753.917969   1561.984375   1446.945312\n",
       "4   1429.351562   1373.652344   1004.273438"
      ]
     },
     "execution_count": 325,
     "metadata": {},
     "output_type": "execute_result"
    }
   ],
   "source": [
    "df_loss = pd.DataFrame()\n",
    "for file,dim in zip(w_files,[200,20,50]):#,20,20,20,50,50,50]):\n",
    "    file_path = path.join(w_dir, file)\n",
    "    loss = pd.DataFrame(np.load(path.join(file_path)), columns=['loss_cb_%s' %(dim)])\n",
    "    df_loss = pd.concat([df_loss, loss], axis=1)\n",
    "df_loss.head()"
   ]
  },
  {
   "cell_type": "code",
   "execution_count": 326,
   "metadata": {},
   "outputs": [
    {
     "data": {
      "image/png": "[encoded data removed]",
      "text/plain": [
       "<Figure size 432x288 with 1 Axes>"
      ]
     },
     "metadata": {
      "needs_background": "light"
     },
     "output_type": "display_data"
    }
   ],
   "source": [
    "df_loss.iloc[-220:,:].plot()\n",
    "plt.title('Skip-gram - Embedding Loss')\n",
    "plt.savefig('../src/results_emb/sg_emb_loss.png')"
   ]
  },
  {
   "cell_type": "markdown",
   "metadata": {},
   "source": [
    "## Results"
   ]
  },
  {
   "cell_type": "code",
   "execution_count": 247,
   "metadata": {
    "scrolled": true
   },
   "outputs": [
    {
     "data": {
      "text/html": [
       "<div>\n",
       "<style scoped>\n",
       "    .dataframe tbody tr th:only-of-type {\n",
       "        vertical-align: middle;\n",
       "    }\n",
       "\n",
       "    .dataframe tbody tr th {\n",
       "        vertical-align: top;\n",
       "    }\n",
       "\n",
       "    .dataframe thead th {\n",
       "        text-align: right;\n",
       "    }\n",
       "</style>\n",
       "<table border=\"1\" class=\"dataframe\">\n",
       "  <thead>\n",
       "    <tr style=\"text-align: right;\">\n",
       "      <th></th>\n",
       "      <th>Out File</th>\n",
       "      <th>Type</th>\n",
       "      <th>File</th>\n",
       "      <th>LR</th>\n",
       "      <th>Window</th>\n",
       "      <th>Dim</th>\n",
       "      <th>Max len</th>\n",
       "      <th>Tr loss</th>\n",
       "      <th>Tst loss</th>\n",
       "      <th>Tr acc</th>\n",
       "      <th>Tst acc</th>\n",
       "      <th>F1s Test</th>\n",
       "    </tr>\n",
       "  </thead>\n",
       "  <tbody>\n",
       "    <tr>\n",
       "      <th>0</th>\n",
       "      <td>weights_emb_simple_20_0.001</td>\n",
       "      <td>simple</td>\n",
       "      <td>NaN</td>\n",
       "      <td>0.001</td>\n",
       "      <td>0</td>\n",
       "      <td>20</td>\n",
       "      <td>165</td>\n",
       "      <td>0.008829</td>\n",
       "      <td>27.524983</td>\n",
       "      <td>0.995503</td>\n",
       "      <td>27.524983</td>\n",
       "      <td>0.508000</td>\n",
       "    </tr>\n",
       "    <tr>\n",
       "      <th>1</th>\n",
       "      <td>weights_emb_simple_50_0.001</td>\n",
       "      <td>simple</td>\n",
       "      <td>NaN</td>\n",
       "      <td>0.001</td>\n",
       "      <td>0</td>\n",
       "      <td>50</td>\n",
       "      <td>165</td>\n",
       "      <td>0.004518</td>\n",
       "      <td>27.511664</td>\n",
       "      <td>0.998132</td>\n",
       "      <td>27.511664</td>\n",
       "      <td>0.548000</td>\n",
       "    </tr>\n",
       "    <tr>\n",
       "      <th>2</th>\n",
       "      <td>weights_emb_simple_200_0.001</td>\n",
       "      <td>simple</td>\n",
       "      <td>NaN</td>\n",
       "      <td>0.001</td>\n",
       "      <td>0</td>\n",
       "      <td>200</td>\n",
       "      <td>165</td>\n",
       "      <td>0.002525</td>\n",
       "      <td>27.489161</td>\n",
       "      <td>0.999126</td>\n",
       "      <td>27.489161</td>\n",
       "      <td>0.645291</td>\n",
       "    </tr>\n",
       "    <tr>\n",
       "      <th>3</th>\n",
       "      <td>weights_emb_sg_20_2_0.5_4</td>\n",
       "      <td>w2v_sg</td>\n",
       "      <td>NaN</td>\n",
       "      <td>0.500</td>\n",
       "      <td>2</td>\n",
       "      <td>20</td>\n",
       "      <td>165</td>\n",
       "      <td>0.015092</td>\n",
       "      <td>27.551062</td>\n",
       "      <td>0.994213</td>\n",
       "      <td>27.551062</td>\n",
       "      <td>0.564706</td>\n",
       "    </tr>\n",
       "    <tr>\n",
       "      <th>4</th>\n",
       "      <td>weights_emb_sg_50_2_0.5_4</td>\n",
       "      <td>w2v_sg</td>\n",
       "      <td>NaN</td>\n",
       "      <td>0.500</td>\n",
       "      <td>2</td>\n",
       "      <td>50</td>\n",
       "      <td>165</td>\n",
       "      <td>0.015773</td>\n",
       "      <td>27.552993</td>\n",
       "      <td>0.994150</td>\n",
       "      <td>27.552993</td>\n",
       "      <td>0.508159</td>\n",
       "    </tr>\n",
       "  </tbody>\n",
       "</table>\n",
       "</div>"
      ],
      "text/plain": [
       "                       Out File    Type File     LR  Window  Dim  Max len  \\\n",
       "0   weights_emb_simple_20_0.001  simple  NaN  0.001       0   20      165   \n",
       "1   weights_emb_simple_50_0.001  simple  NaN  0.001       0   50      165   \n",
       "2  weights_emb_simple_200_0.001  simple  NaN  0.001       0  200      165   \n",
       "3     weights_emb_sg_20_2_0.5_4  w2v_sg  NaN  0.500       2   20      165   \n",
       "4     weights_emb_sg_50_2_0.5_4  w2v_sg  NaN  0.500       2   50      165   \n",
       "\n",
       "    Tr loss   Tst loss    Tr acc    Tst acc  F1s Test  \n",
       "0  0.008829  27.524983  0.995503  27.524983  0.508000  \n",
       "1  0.004518  27.511664  0.998132  27.511664  0.548000  \n",
       "2  0.002525  27.489161  0.999126  27.489161  0.645291  \n",
       "3  0.015092  27.551062  0.994213  27.551062  0.564706  \n",
       "4  0.015773  27.552993  0.994150  27.552993  0.508159  "
      ]
     },
     "execution_count": 247,
     "metadata": {},
     "output_type": "execute_result"
    }
   ],
   "source": [
    "df = pd.read_csv('../src/results_exp.csv',header=0)\n",
    "df.head()"
   ]
  },
  {
   "cell_type": "code",
   "execution_count": 248,
   "metadata": {
    "scrolled": true
   },
   "outputs": [],
   "source": [
    "df['Name'] = df['Type'] + '_d' + df['Dim'].apply(str) + '_w'+df['Window'].apply(str) "
   ]
  },
  {
   "cell_type": "code",
   "execution_count": 251,
   "metadata": {},
   "outputs": [],
   "source": [
    "df1 = df[['Name','Tr loss', 'Test loss', 'F1s Test']]\n",
    "df1.to_csv('../src/output_test.csv')"
   ]
  },
  {
   "cell_type": "code",
   "execution_count": null,
   "metadata": {},
   "outputs": [],
   "source": []
  }
 ],
 "metadata": {
  "kernelspec": {
   "display_name": "Python 3",
   "language": "python",
   "name": "python3"
  },
  "language_info": {
   "codemirror_mode": {
    "name": "ipython",
    "version": 3
   },
   "file_extension": ".py",
   "mimetype": "text/x-python",
   "name": "python",
   "nbconvert_exporter": "python",
   "pygments_lexer": "ipython3",
   "version": "3.7.2"
  }
 },
 "nbformat": 4,
 "nbformat_minor": 2
}
